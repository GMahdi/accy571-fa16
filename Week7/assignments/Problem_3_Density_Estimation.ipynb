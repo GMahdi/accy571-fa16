{
 "cells": [
  {
   "cell_type": "markdown",
   "metadata": {
    "deletable": false,
    "nbgrader": {
     "checksum": "a98c739c45025e75b7a8a39168517825",
     "grade": false,
     "grade_id": "header",
     "locked": true,
     "solution": false
    }
   },
   "source": [
    "A few things you should keep in mind when working on assignments:\n",
    "\n",
    "1. Make sure you fill in any place that says `YOUR CODE HERE`. Do **not** write your answer in anywhere else other than where it says `YOUR CODE HERE`. Anything you write anywhere else will be removed or overwritten by the autograder.\n",
    "\n",
    "2. Before you submit your assignment, make sure everything runs as expected. Go to menubar, select _Kernel_, and restart the kernel and run all cells (_Restart & Run all_).\n",
    "\n",
    "3. Do not change the title (i.e. file name) of this notebook.\n",
    "\n",
    "4. Make sure that you save your work (in the menubar, select _File_ → _Save and CheckPoint_)\n",
    "\n",
    "5. You are allowed to submit an assignment multiple times, but only the most recent submission will be graded."
   ]
  },
  {
   "cell_type": "markdown",
   "metadata": {
    "deletable": false,
    "nbgrader": {
     "checksum": "d4b18403f73b3a487a267465ba8262bc",
     "grade": false,
     "grade_id": "title",
     "locked": true,
     "solution": false
    }
   },
   "source": [
    "# Problem 5.3. Density Estimation.\n",
    "\n",
    "In this problem, we use Seaborn to create Kernel Density Estimation (KDE) plots of travel time in the flights data."
   ]
  },
  {
   "cell_type": "code",
   "execution_count": null,
   "metadata": {
    "collapsed": true,
    "deletable": false,
    "nbgrader": {
     "checksum": "058b4d66c3fce9b3479d817f1792f392",
     "grade": false,
     "grade_id": "import",
     "locked": true,
     "solution": false
    }
   },
   "outputs": [],
   "source": [
    "%matplotlib inline\n",
    "import numpy as np\n",
    "import pandas as pd\n",
    "import matplotlib as mpl\n",
    "import matplotlib.pyplot as plt\n",
    "import seaborn as sns\n",
    "\n",
    "from nose.tools import assert_equal, assert_is_instance, assert_is_not\n",
    "from numpy.testing import assert_array_equal, assert_array_almost_equal, assert_almost_equal"
   ]
  },
  {
   "cell_type": "markdown",
   "metadata": {
    "deletable": false,
    "nbgrader": {
     "checksum": "6c803535a948f67733696ec4b58d7f2c",
     "grade": false,
     "grade_id": "markdown_1",
     "locked": true,
     "solution": false
    }
   },
   "source": [
    "We use the `AirTime` column at the Willard airport."
   ]
  },
  {
   "cell_type": "code",
   "execution_count": null,
   "metadata": {
    "collapsed": false,
    "deletable": false,
    "nbgrader": {
     "checksum": "1ba2a5a328a58e320a2f995873ea523c",
     "grade": false,
     "grade_id": "read_csv",
     "locked": true,
     "solution": false
    }
   },
   "outputs": [],
   "source": [
    "df = pd.read_csv('/home/data_scientist/data/2001.csv', encoding='latin-1', usecols=(13, 16))\n",
    "\n",
    "local = df[df['Origin'] == 'CMI'].dropna()\n",
    "local = local.drop(['Origin'], axis=1) # we don't need the Origin column anymore.\n",
    "local = local.reset_index(drop=True) # reset index and drop the all index.\n",
    "\n",
    "print(local.head(10))"
   ]
  },
  {
   "cell_type": "markdown",
   "metadata": {
    "deletable": false,
    "nbgrader": {
     "checksum": "d6f8b020ddcb3b5bc2e442e498186c9e",
     "grade": false,
     "grade_id": "markdown_2",
     "locked": true,
     "solution": false
    }
   },
   "source": [
    "## Plot KDE\n",
    "\n",
    "- Use [seaborn.distplot](https://stanford.edu/~mwaskom/software/seaborn/generated/seaborn.distplot.html) to write a function named `plot_distplot()` that plots a histogram, a KDE, and a rug plot, all in the same figure.\n",
    "\n",
    "- KDE is covered in the [Introduction to Density Estimation](https://github.com/UI-DataScience/accy571-fa16/blob/master/Week7/notebooks/intro2de.ipynb) notebook. See [Seaborn documentation](https://stanford.edu/~mwaskom/software/seaborn/generated/seaborn.distplot.html) for more examples.\n",
    "\n",
    "- `plot_distplot()` accepts a second argument `bins`, which should be passed to the `bins` paramter of `displot()`. In other words, you should be able to change the number of bins in the histogram by using different `bins` in `plot_distplot(df, bins=bins)`. For example,\n",
    "```python\n",
    ">>> dist_10_bins = plot_distplot(df=local, bins=10)\n",
    "```\n",
    "should create a histogram with 10 bins, and\n",
    "```python\n",
    ">>> dist_50_bins = plot_distplot(df=local, bins=50)\n",
    "```\n",
    "should create a histogram with 50 bins.\n",
    "\n",
    "![](https://github.com/UI-DataScience/accy571-fa16/raw/master/Week7/assignments/images/dist_10_bins.png)\n",
    "\n",
    "![](https://github.com/UI-DataScience/accy571-fa16/raw/master/Week7/assignments/images/dist_50_bins.png)\n",
    "\n",
    "(Your plots do not have to look exactly like the above figures. As long as your plots look reasonable and your function passes the tests, your solution is correct.)\n",
    "\n",
    "Note that the histograms look quite different when we change the number of bins, but the KDE is able to smooth out the variations in the histograms."
   ]
  },
  {
   "cell_type": "code",
   "execution_count": null,
   "metadata": {
    "collapsed": true,
    "deletable": false,
    "nbgrader": {
     "checksum": "356cfe780ff41659cde1382a2fe375b4",
     "grade": false,
     "grade_id": "plot_distplot_answer",
     "locked": false,
     "solution": true
    }
   },
   "outputs": [],
   "source": [
    "def plot_distplot(df, bins, column=\"AirTime\"):\n",
    "    \"\"\"\n",
    "    Uses seaborn.displot() to plot a KDE, a histogram, and a rugplot\n",
    "    all in the same figure.\n",
    "    \n",
    "    Parameters\n",
    "    ----------\n",
    "    df: A pandas.DataFrame\n",
    "    bins: The number of bins\n",
    "    column: The column to use in \"df\"\n",
    "    \n",
    "    Returns\n",
    "    -------\n",
    "    A matplotlib.axes.Axes\n",
    "    \"\"\"\n",
    "    \n",
    "    # YOUR CODE HERE\n",
    "    \n",
    "    return ax"
   ]
  },
  {
   "cell_type": "code",
   "execution_count": null,
   "metadata": {
    "collapsed": false,
    "deletable": false,
    "nbgrader": {
     "checksum": "2a868fd6981b5ff255aff8bcaa2ed51b",
     "grade": false,
     "grade_id": "plot_distplot_run_1",
     "locked": true,
     "solution": false
    }
   },
   "outputs": [],
   "source": [
    "dist_10_bins = plot_distplot(df=local, bins=10)"
   ]
  },
  {
   "cell_type": "code",
   "execution_count": null,
   "metadata": {
    "collapsed": false,
    "deletable": false,
    "nbgrader": {
     "checksum": "c87489fab7733e3d66eb0cc91fe47f69",
     "grade": true,
     "grade_id": "plot_distplot_test_1",
     "locked": true,
     "points": 5,
     "solution": false
    }
   },
   "outputs": [],
   "source": [
    "assert_is_instance(dist_10_bins, mpl.axes.Axes)\n",
    "\n",
    "# test histogram\n",
    "patches = dist_10_bins.patches\n",
    "assert_equal(len(patches), 10)\n",
    "\n",
    "bins_a = [25.,  31.,  37.,  43.,  49.,  55.,  61.,  67.,  73.,  79.,  85.]\n",
    "freq_a = [0.05453103,  0.07852469,  0.0242911,   0.00604799,  0.00148721,\n",
    "          0.00069403,  0.00039659,  0.00039659,  0.,          0.00029744]\n",
    "\n",
    "for i in range(len(patches)):\n",
    "    assert_equal(patches[i].get_x(), bins_a[i])\n",
    "    assert_almost_equal(patches[i].get_height(), freq_a[i])\n",
    "\n",
    "# test kde + rug plots\n",
    "lines = dist_10_bins.lines\n",
    "assert_equal(len(dist_10_bins.lines), len(local) + 1) # 1 kde + rug plots\n",
    "\n",
    "# test kde\n",
    "kdex, kdey = dist_10_bins.lines[0].get_xydata().T\n",
    "assert_almost_equal(np.trapz(kdey, kdex), 1.0, 4)\n",
    "\n",
    "# test rug plots\n",
    "for i in range(len(local)):\n",
    "    rugx, rugy = dist_10_bins.lines[i + 1].get_xydata().T\n",
    "    assert_array_equal(rugx, local.iloc[i, 0])\n",
    "    assert_equal(rugy[1] - rugy[0] > 0, True)\n",
    "    \n",
    "# check label texts\n",
    "assert_is_not(len(dist_10_bins.title.get_text()), 0,\n",
    "    msg=\"Your plot doesn't have a title.\")\n",
    "assert_is_not(dist_10_bins.yaxis.get_label_text(), '',\n",
    "    msg=\"Change the y-axis label to something more descriptive.\")"
   ]
  },
  {
   "cell_type": "code",
   "execution_count": null,
   "metadata": {
    "collapsed": false,
    "deletable": false,
    "nbgrader": {
     "checksum": "9f9d40e641818d75a9a06a79db05ee51",
     "grade": false,
     "grade_id": "plot_distplot_run_2",
     "locked": true,
     "solution": false
    }
   },
   "outputs": [],
   "source": [
    "dist_50_bins = plot_distplot(df=local, bins=50)"
   ]
  },
  {
   "cell_type": "code",
   "execution_count": null,
   "metadata": {
    "collapsed": true,
    "deletable": false,
    "nbgrader": {
     "checksum": "fc71bdba0ccbcd482aa89cecaab4c984",
     "grade": true,
     "grade_id": "plot_distplot_test_2",
     "locked": true,
     "points": 5,
     "solution": false
    }
   },
   "outputs": [],
   "source": [
    "assert_is_instance(dist_50_bins, mpl.axes.Axes)\n",
    "# test histogram\n",
    "patches = dist_50_bins.patches\n",
    "assert_equal(len(patches), 50)"
   ]
  },
  {
   "cell_type": "code",
   "execution_count": null,
   "metadata": {
    "collapsed": true
   },
   "outputs": [],
   "source": []
  }
 ],
 "metadata": {
  "kernelspec": {
   "display_name": "Python 3",
   "language": "python",
   "name": "python3"
  },
  "language_info": {
   "codemirror_mode": {
    "name": "ipython",
    "version": 3
   },
   "file_extension": ".py",
   "mimetype": "text/x-python",
   "name": "python",
   "nbconvert_exporter": "python",
   "pygments_lexer": "ipython3",
   "version": "3.5.2"
  }
 },
 "nbformat": 4,
 "nbformat_minor": 1
}
