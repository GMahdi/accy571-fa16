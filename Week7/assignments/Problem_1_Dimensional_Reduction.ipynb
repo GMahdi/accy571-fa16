{
 "cells": [
  {
   "cell_type": "markdown",
   "metadata": {
    "deletable": false,
    "nbgrader": {
     "checksum": "a98c739c45025e75b7a8a39168517825",
     "grade": false,
     "grade_id": "header",
     "locked": true,
     "solution": false
    }
   },
   "source": [
    "A few things you should keep in mind when working on assignments:\n",
    "\n",
    "1. Make sure you fill in any place that says `YOUR CODE HERE`. Do **not** write your answer in anywhere else other than where it says `YOUR CODE HERE`. Anything you write anywhere else will be removed or overwritten by the autograder.\n",
    "\n",
    "2. Before you submit your assignment, make sure everything runs as expected. Go to menubar, select _Kernel_, and restart the kernel and run all cells (_Restart & Run all_).\n",
    "\n",
    "3. Do not change the title (i.e. file name) of this notebook.\n",
    "\n",
    "4. Make sure that you save your work (in the menubar, select _File_ → _Save and CheckPoint_)\n",
    "\n",
    "5. You are allowed to submit an assignment multiple times, but only the most recent submission will be graded."
   ]
  },
  {
   "cell_type": "markdown",
   "metadata": {
    "deletable": false,
    "nbgrader": {
     "checksum": "951aafc4ac84027bae7b958443441414",
     "grade": false,
     "grade_id": "markdown_1",
     "locked": true,
     "solution": false
    }
   },
   "source": [
    "# Problem 1. Dimensional Reduction.\n",
    "\n",
    "This problem will give you a chance to practice using a dimensional reduction technique (PCA)  on Delta Airline's aircrafts."
   ]
  },
  {
   "cell_type": "code",
   "execution_count": null,
   "metadata": {
    "collapsed": true,
    "deletable": false,
    "nbgrader": {
     "checksum": "7fcdf00ec5cfb1d493cb4376882201a4",
     "grade": false,
     "grade_id": "import",
     "locked": true,
     "solution": false
    }
   },
   "outputs": [],
   "source": [
    "%matplotlib inline\n",
    "\n",
    "import numpy as np\n",
    "import pandas as pd\n",
    "import seaborn as sns\n",
    "import matplotlib as mpl\n",
    "import matplotlib.pyplot as plt\n",
    "import sklearn\n",
    "from sklearn.preprocessing import scale\n",
    "from sklearn.decomposition import PCA\n",
    "\n",
    "from nose.tools import assert_equal, assert_is_instance, assert_almost_equal\n",
    "from numpy.testing import assert_array_almost_equal"
   ]
  },
  {
   "cell_type": "markdown",
   "metadata": {
    "deletable": false,
    "nbgrader": {
     "checksum": "453aa46b04f292c0714d73dee62f7b95",
     "grade": false,
     "grade_id": "markdown_2",
     "locked": true,
     "solution": false
    }
   },
   "source": [
    "Delta Airline (and other major airlines) has data on all of their aircrafts on their [website](http://www.delta.com/content/www/en_US/traveling-with-us/airports-and-aircraft/Aircraft.html). For example, the following image shows the specifications of AIRBUS A319 VIP.\n",
    "\n",
    "![](https://github.com/UI-DataScience/accy571-fa16/raw/master/Week7/assignments/images/AIRBUS_A319_VIP.png)\n",
    "\n",
    "In this problem, we will use `/home/data_scientist/data/delta.csv`, a CSV file that has aircraft data taken from the Delta Airline website."
   ]
  },
  {
   "cell_type": "code",
   "execution_count": null,
   "metadata": {
    "collapsed": true,
    "deletable": false,
    "nbgrader": {
     "checksum": "e3a3ca7800a50fb1fbd41fa4b953a41f",
     "grade": false,
     "grade_id": "read_csv",
     "locked": true,
     "solution": false
    }
   },
   "outputs": [],
   "source": [
    "df = pd.read_csv('/home/data_scientist/data/delta.csv', index_col='Aircraft')"
   ]
  },
  {
   "cell_type": "markdown",
   "metadata": {
    "deletable": false,
    "nbgrader": {
     "checksum": "431e918a11075266b82d0922084c4259",
     "grade": false,
     "grade_id": "markdown_3",
     "locked": true,
     "solution": false
    }
   },
   "source": [
    "This data set has 34 columns (including the names of the aircrafts)\n",
    "  on 44 aircrafts. It inclues both quantitative measurements such as cruising speed,\n",
    "  accommodation and range in miles, as well as categorical data,\n",
    "  such as whether a particular aircraft has Wi-Fi or video.\n",
    "  These binary are assigned values of either 1 or 0, for yes or no respectively.\n",
    "  \n",
    "```python\n",
    ">>> print(df.head())\n",
    "```\n",
    "```\n",
    "                  Seat Width (Club)  Seat Pitch (Club)  Seat (Club)  \\\n",
    "Aircraft                                                              \n",
    "Airbus A319                     0.0                  0            0   \n",
    "Airbus A319 VIP                19.4                 44           12   \n",
    "Airbus A320                     0.0                  0            0   \n",
    "Airbus A320 32-R                0.0                  0            0   \n",
    "Airbus A330-200                 0.0                  0            0   \n",
    "\n",
    "                  Seat Width (First Class)  Seat Pitch (First Class)  \\\n",
    "Aircraft                                                               \n",
    "Airbus A319                           21.0                        36   \n",
    "Airbus A319 VIP                       19.4                        40   \n",
    "Airbus A320                           21.0                        36   \n",
    "Airbus A320 32-R                      21.0                        36   \n",
    "Airbus A330-200                        0.0                         0   \n",
    "\n",
    "                  Seats (First Class)  Seat Width (Business)  \\\n",
    "Aircraft                                                       \n",
    "Airbus A319                        12                      0   \n",
    "Airbus A319 VIP                    28                     21   \n",
    "Airbus A320                        12                      0   \n",
    "Airbus A320 32-R                   12                      0   \n",
    "Airbus A330-200                     0                     21   \n",
    "\n",
    "                  Seat Pitch (Business)  Seats (Business)  \\\n",
    "Aircraft                                                    \n",
    "Airbus A319                           0                 0   \n",
    "Airbus A319 VIP                      59                14   \n",
    "Airbus A320                           0                 0   \n",
    "Airbus A320 32-R                      0                 0   \n",
    "Airbus A330-200                      60                32   \n",
    "\n",
    "                  Seat Width (Eco Comfort)   ...     Video  Power  Satellite  \\\n",
    "Aircraft                                     ...                               \n",
    "Airbus A319                           17.2   ...         0      0          0   \n",
    "Airbus A319 VIP                        0.0   ...         1      0          0   \n",
    "Airbus A320                           17.2   ...         0      0          0   \n",
    "Airbus A320 32-R                      17.2   ...         0      0          0   \n",
    "Airbus A330-200                       18.0   ...         1      1          0   \n",
    "\n",
    "                  Flat-bed  Sleeper  Club  First Class  Business  Eco Comfort  \\\n",
    "Aircraft                                                                        \n",
    "Airbus A319              0        0     0            1         0            1   \n",
    "Airbus A319 VIP          0        0     1            1         1            0   \n",
    "Airbus A320              0        0     0            1         0            1   \n",
    "Airbus A320 32-R         0        0     0            1         0            1   \n",
    "Airbus A330-200          1        0     0            0         1            1   \n",
    "\n",
    "                  Economy  \n",
    "Aircraft                   \n",
    "Airbus A319             1  \n",
    "Airbus A319 VIP         0  \n",
    "Airbus A320             1  \n",
    "Airbus A320 32-R        1  \n",
    "Airbus A330-200         1  \n",
    "\n",
    "[5 rows x 33 columns]\n",
    "```\n",
    "\n",
    "First, let's visualize the relationships between the following attirubtes related to the aircraft physical characteristics:\n",
    "\n",
    "- Cruising Speed (mph)\n",
    "- Range (miles)\n",
    "- Engines\n",
    "- Wingspan (ft)\n",
    "- Tail Height (ft)\n",
    "- Length (ft)\n",
    "\n",
    "(You don't have to create the following plot.)\n",
    "\n",
    "![](https://github.com/UI-DataScience/accy571-fa16/raw/master/Week7/assignments/images/pair_grid_physical.png)\n",
    "\n",
    "**You do not have to create this plot.** I don't include the code that generated this plot, and leave it as an optional exercise for you.\n",
    "\n",
    "We can see that there are pretty strong positive correlations between all these variables, as all of them are related to the aircraft’s overall size. Remarkably there is an almost perfectly linear relationship between wingspan and tail height.\n",
    "\n",
    "The exception here is the variable right in the middle which is the number of engines. There is one lone outlier which has four engines, while all the other aircraft have two. In this way the engines variable is really more like a categorical variable, but we shall see as the analysis progresses that this is not really important, as there are other variables which more strongly discern the aircraft from one another than this.\n",
    "\n",
    "## Principal Components Analysis (A naive approach)\n",
    "\n",
    "Let’s say we know nothing about dimensionality reduction techniques and just naively apply principle components to the data. (You might want to read through the entire notebook to see why we are calling this the naive approach.)n\n",
    "\n",
    "- Write a function named `fit_pca()` that takes a pandas.DataFrame and uses [sklearn.decomposition.PCA](http://scikit-learn.org/0.17/modules/generated/sklearn.decomposition.PCA.html#sklearn.decomposition.PCA) to fit a PCA model on all values of `df`.\n",
    "- Note that `fit_pca()` also takes a second argument, `n_components`, which should be passed to the `n_components` parameter of `PCA()`. Use defaults values for all optional parameters in `PCA()` except `n_components`.\n",
    "- The function should return an instance of the `PCA` object. For example,\n",
    "```python\n",
    "def fit_pca(df, n_components):\n",
    "    pca = PCA(\n",
    "        # YOUR CODE HERE\n",
    "    )\n",
    "    # YOUR CODE HERE\n",
    "    return pca\n",
    "```"
   ]
  },
  {
   "cell_type": "code",
   "execution_count": null,
   "metadata": {
    "collapsed": true,
    "deletable": false,
    "nbgrader": {
     "checksum": "e1cce7713b9f3250d5b441cfdeb8c259",
     "grade": false,
     "grade_id": "fit_pca_answer",
     "locked": false,
     "solution": true
    }
   },
   "outputs": [],
   "source": [
    "def fit_pca(df, n_components):\n",
    "    \"\"\"\n",
    "    Uses sklearn.decomposition.PCA to fit a PCA model on \"df\".\n",
    "    \n",
    "    Parameters\n",
    "    ----------\n",
    "    df: A pandas.DataFrame. Comes from delta.csv.\n",
    "    n_components: An int. Number of principal components to keep.\n",
    "    \n",
    "    Returns\n",
    "    -------\n",
    "    An sklearn.decomposition.pca.PCA instance.\n",
    "    \"\"\"\n",
    "    \n",
    "    # YOUR CODE HERE\n",
    "    \n",
    "    return pca"
   ]
  },
  {
   "cell_type": "code",
   "execution_count": null,
   "metadata": {
    "collapsed": false,
    "deletable": false,
    "nbgrader": {
     "checksum": "647aa88e9a3c959571bd00a644c11c32",
     "grade": false,
     "grade_id": "fit_pca_run",
     "locked": true,
     "solution": false
    }
   },
   "outputs": [],
   "source": [
    "# we keep all components by setting n_components = number of columns in df\n",
    "pca_naive = fit_pca(df, n_components=df.shape[1])\n",
    "print(pca_naive.explained_variance_ratio_)"
   ]
  },
  {
   "cell_type": "code",
   "execution_count": null,
   "metadata": {
    "collapsed": true,
    "deletable": false,
    "nbgrader": {
     "checksum": "5f0e915d1673466756b44cefba5ac910",
     "grade": true,
     "grade_id": "fit_pca_test",
     "locked": true,
     "points": 5,
     "solution": false
    }
   },
   "outputs": [],
   "source": [
    "assert_is_instance(pca_naive, PCA)\n",
    "assert_almost_equal(pca_naive.explained_variance_ratio_.sum(), 1.0, 3)\n",
    "assert_equal(pca_naive.n_components_, df.shape[1])\n",
    "assert_equal(pca_naive.whiten, False)"
   ]
  },
  {
   "cell_type": "markdown",
   "metadata": {
    "deletable": false,
    "nbgrader": {
     "checksum": "014b1f3824288ab99592e76d4373ea63",
     "grade": false,
     "grade_id": "markdown_4",
     "locked": true,
     "solution": false
    }
   },
   "source": [
    "Let's visualize the percentage of variance explained by each of the selected components.\n",
    "\n",
    "![](https://github.com/UI-DataScience/accy571-fa16/raw/master/Week7/assignments/images/var_naive.png)\n",
    "\n",
    "(Again, **you do not have to create this plot.** I don't include the code that generated this plot, and leave it as an optional exercise for you.)\n",
    "\n",
    "Taking this naive approach, we can see that the first principal component accounts for 99.9% of the variance in the data. (Note the y-axis is on a log scale.) In the following code cell, we see that the first principal component is just the range in miles."
   ]
  },
  {
   "cell_type": "code",
   "execution_count": null,
   "metadata": {
    "collapsed": false,
    "deletable": false,
    "nbgrader": {
     "checksum": "b988f77d3e86cec27dcb55f579844dde",
     "grade": false,
     "grade_id": "print_variance",
     "locked": true,
     "solution": false
    }
   },
   "outputs": [],
   "source": [
    "abs_val = np.abs(pca_naive.components_[0])\n",
    "max_pos = abs_val.argmax()\n",
    "max_val = abs_val.max()\n",
    "\n",
    "print('\"{0}\" accounts for {1:0.1f} % of the variance.'.format(df.columns[max_pos], 100.0 * max_val))"
   ]
  },
  {
   "cell_type": "markdown",
   "metadata": {
    "deletable": false,
    "nbgrader": {
     "checksum": "e9fbd8e4a8e7d65dc48fc6472b416dd8",
     "grade": false,
     "grade_id": "markdown_5",
     "locked": true,
     "solution": false
    }
   },
   "source": [
    "This is because the scale of the different variables in the data set is quite variable.\n",
    "  PCA is a scale-dependent method. For example, if the range of one column is [-100, 100],\n",
    "  while the that of another column is [-0.1, 0.1], PCA will place more weight\n",
    "  on the feature with larger values.\n",
    "  One way to avoid this is to *standardize* a data set by\n",
    "  scaling each feature so that the individual features all look like\n",
    "  Gausssian distributions with zero mean and unit variance.\n",
    "  \n",
    "For further detail, see\n",
    "  [Preprocessing data](http://scikit-learn.org/stable/modules/preprocessing.html).\n",
    "  The function `sklearn.preprocessing.scale` provides a quick and easy way to\n",
    "  perform this operation on a single array-like dataset."
   ]
  },
  {
   "cell_type": "code",
   "execution_count": null,
   "metadata": {
    "collapsed": true,
    "deletable": false,
    "nbgrader": {
     "checksum": "89ca53dec3199321b5c296207693b145",
     "grade": false,
     "grade_id": "scaled",
     "locked": true,
     "solution": false
    }
   },
   "outputs": [],
   "source": [
    "scaled = scale(df)\n",
    "\n",
    "# we keep only 10 components\n",
    "n_components = 10\n",
    "pca = fit_pca(scaled, n_components=n_components)\n",
    "print(pca.explained_variance_ratio_)"
   ]
  },
  {
   "cell_type": "markdown",
   "metadata": {
    "deletable": false,
    "nbgrader": {
     "checksum": "bee9a2d9f48c15a290ce565761f5c086",
     "grade": false,
     "grade_id": "markdown_6",
     "locked": true,
     "solution": false
    }
   },
   "source": [
    "![](https://github.com/UI-DataScience/accy571-fa16/raw/master/Week7/assignments/images/var_scaled.png)\n",
    "\n",
    "(**You do not have to create this plot.** I don't include the code that generated this plot, and leave it as an optional exercise for you.)\n",
    "\n",
    "Great, so now we’re in business. There are various rules of thumb for selecting the number of principal components to retain in an analysis of this type, one of which I’ve encountered is\n",
    "\n",
    "```\n",
    "Pick the number of components which explain 85% or greater of the variation.\n",
    "```\n",
    "\n",
    "So, we will keep the first 4 principal components (remember that we are counting from zero, so we are keeping the 0th, 1st, 2nd, and 3rd components&mdash;four components). In Problem 2, we will use these four components to fit a $k$-means model. Before we move on to the next problem, let's apply the dimensional reduction on the scaled data. (In the previous sections, we didn't actually have to apply `transform()`. This step is to make sure that the scaled data is actually \"transformed\".)\n",
    "\n",
    "## Apply dimensional reduction\n",
    "\n",
    "- Write a function named `reduce()` that takes a PCA model (that is already trained on array) and a Numpy array, and applies dimensional reduction on the array. "
   ]
  },
  {
   "cell_type": "code",
   "execution_count": null,
   "metadata": {
    "collapsed": true,
    "deletable": false,
    "nbgrader": {
     "checksum": "dbd2db99fd1208b80b80f7791782d08f",
     "grade": false,
     "grade_id": "reduce_answer",
     "locked": false,
     "solution": true
    }
   },
   "outputs": [],
   "source": [
    "def reduce(pca, array):\n",
    "    \"\"\"\n",
    "    Applies the \"pca\" model on array.\n",
    "    \n",
    "    Parameters\n",
    "    ----------\n",
    "    pca: An sklearn.decomposition.PCA instance.\n",
    "    \n",
    "    Returns\n",
    "    -------\n",
    "    A Numpy array\n",
    "    \"\"\"\n",
    "    \n",
    "    # YOUR CODE HERE\n",
    "    \n",
    "    return reduced"
   ]
  },
  {
   "cell_type": "code",
   "execution_count": null,
   "metadata": {
    "collapsed": true,
    "deletable": false,
    "nbgrader": {
     "checksum": "9225b92f02b36edc51ddf92a2a433275",
     "grade": false,
     "grade_id": "reduce_run",
     "locked": true,
     "points": 5,
     "solution": false
    }
   },
   "outputs": [],
   "source": [
    "reduced = reduce(pca, scaled)"
   ]
  },
  {
   "cell_type": "code",
   "execution_count": null,
   "metadata": {
    "collapsed": false,
    "deletable": false,
    "nbgrader": {
     "checksum": "ec43cbb31970a13426e19664e9015dd6",
     "grade": true,
     "grade_id": "reduce_test",
     "locked": true,
     "points": 5,
     "solution": false
    }
   },
   "outputs": [],
   "source": [
    "assert_is_instance(reduced, np.ndarray)\n",
    "assert_array_almost_equal(reduced, pca.fit_transform(scaled))"
   ]
  }
 ],
 "metadata": {
  "kernelspec": {
   "display_name": "Python 3",
   "language": "python",
   "name": "python3"
  },
  "language_info": {
   "codemirror_mode": {
    "name": "ipython",
    "version": 3
   },
   "file_extension": ".py",
   "mimetype": "text/x-python",
   "name": "python",
   "nbconvert_exporter": "python",
   "pygments_lexer": "ipython3",
   "version": "3.5.2"
  }
 },
 "nbformat": 4,
 "nbformat_minor": 1
}
