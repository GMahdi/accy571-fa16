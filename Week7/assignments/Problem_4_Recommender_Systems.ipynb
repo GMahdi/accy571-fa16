{
 "cells": [
  {
   "cell_type": "markdown",
   "metadata": {
    "deletable": false,
    "nbgrader": {
     "checksum": "a98c739c45025e75b7a8a39168517825",
     "grade": false,
     "grade_id": "header",
     "locked": true,
     "solution": false
    }
   },
   "source": [
    "A few things you should keep in mind when working on assignments:\n",
    "\n",
    "1. Make sure you fill in any place that says `YOUR CODE HERE`. Do **not** write your answer in anywhere else other than where it says `YOUR CODE HERE`. Anything you write anywhere else will be removed or overwritten by the autograder.\n",
    "\n",
    "2. Before you submit your assignment, make sure everything runs as expected. Go to menubar, select _Kernel_, and restart the kernel and run all cells (_Restart & Run all_).\n",
    "\n",
    "3. Do not change the title (i.e. file name) of this notebook.\n",
    "\n",
    "4. Make sure that you save your work (in the menubar, select _File_ → _Save and CheckPoint_)\n",
    "\n",
    "5. You are allowed to submit an assignment multiple times, but only the most recent submission will be graded."
   ]
  },
  {
   "cell_type": "markdown",
   "metadata": {
    "deletable": false,
    "nbgrader": {
     "checksum": "0aa99be360d62e006e4fef3fe090180f",
     "grade": false,
     "grade_id": "markdown_1",
     "locked": true,
     "solution": false
    }
   },
   "source": [
    "# Problem 4. Recommender Systems\n",
    "\n",
    "In this problem, we use a sample data set to learn more about recommender systems."
   ]
  },
  {
   "cell_type": "code",
   "execution_count": null,
   "metadata": {
    "collapsed": true,
    "deletable": false,
    "nbgrader": {
     "checksum": "1e18b2a9e41ac70dd7c59387a276ab1d",
     "grade": false,
     "grade_id": "import",
     "locked": true,
     "solution": false
    }
   },
   "outputs": [],
   "source": [
    "import numpy as np\n",
    "import pandas as pd\n",
    "\n",
    "from nose.tools import assert_is_instance, assert_equal\n",
    "from numpy.testing import assert_array_equal"
   ]
  },
  {
   "cell_type": "markdown",
   "metadata": {
    "deletable": false,
    "nbgrader": {
     "checksum": "50ae2168ac15b20f5338b66e863a11c7",
     "grade": false,
     "grade_id": "markdown_2",
     "locked": true,
     "solution": false
    }
   },
   "source": [
    "Suppose we are given the following data frame representing users' ratings of movies on a 1–5 scale, with 5 the highest rating. Note that most user-movie pairs have `NaN`s, meaning the user has not rated the movie.\n",
    "\n",
    "```python\n",
    ">>> print(movie_df)\n",
    "```\n",
    "```\n",
    "         0    1    2    3    4    5    6\n",
    "Alice  4.0  NaN  NaN  5.0  1.0  NaN  NaN\n",
    "Bob    5.0  5.0  4.0  NaN  NaN  NaN  NaN\n",
    "Carol  NaN  NaN  NaN  2.0  4.0  5.0  NaN\n",
    "Dave   NaN  3.0  NaN  NaN  NaN  NaN  4.0\n",
    "```"
   ]
  },
  {
   "cell_type": "code",
   "execution_count": null,
   "metadata": {
    "collapsed": false,
    "deletable": false,
    "nbgrader": {
     "checksum": "7af51ca065e1d04033d33d3b3ac74413",
     "grade": false,
     "grade_id": "movies_df",
     "locked": true,
     "solution": false
    }
   },
   "outputs": [],
   "source": [
    "user_ids = [\"Alice\", \"Bob\", \"Carol\", \"Dave\"]\n",
    "movie_ids = list(range(7))\n",
    "\n",
    "data = np.array(\n",
    "    [[4, np.nan, np.nan, 5, 1, np.nan, np.nan],\n",
    "     [5, 5, 4, np.nan, np.nan, np.nan, np.nan],\n",
    "     [np.nan, np.nan, np.nan, 2, 4, 5, np.nan],\n",
    "     [np.nan, 3, np.nan, np.nan, np.nan, np.nan, 4]]\n",
    ")\n",
    "\n",
    "movies_df = pd.DataFrame(\n",
    "    data=data,\n",
    "    index=user_ids,\n",
    "    columns=movie_ids\n",
    ")\n",
    "\n",
    "print(movies_df)"
   ]
  },
  {
   "cell_type": "markdown",
   "metadata": {
    "deletable": false,
    "nbgrader": {
     "checksum": "ff9e2b9c3f178d6d95e43b71d6ec6eac",
     "grade": false,
     "grade_id": "markdown_3",
     "locked": true,
     "solution": false
    }
   },
   "source": [
    "## Convert data frame to a 2-d numpy array of favorable ratings\n",
    "\n",
    "The values in the above data frame hold the actual ratings. For simplicity, we want to restrict our analysis to only favorable ratings, which, since the movies are rated on a five-star system, we take to mean ratings greater than three. Thus,\n",
    "\n",
    "- Write a function named `favorable_matrix()` that takes a data frame.\n",
    "- The function converts the data frame to hold one for favorable ratings and zero for unfavorable ratings, and converts the result to a numpy matrix.\n",
    "- One possible way to do this is to use the [pandas.DataFrame.applymap()](http://pandas.pydata.org/pandas-docs/stable/generated/pandas.DataFrame.applymap.html) function (There are many ways to accomplish the same result). See the [Introduction to Recommender Systems](https://github.com/UI-DataScience/accy571-fa16/blob/master/Week7/notebooks/intro2rs.ipynb) notebook for examples.\n",
    "\n",
    "```python\n",
    ">>> matrix = favorable_matrix(movies_df)\n",
    ">>> print(matrix)\n",
    "```\n",
    "```\n",
    "[[1 0 0 1 0 0 0]\n",
    " [1 1 1 0 0 0 0]\n",
    " [0 0 0 0 1 1 0]\n",
    " [0 0 0 0 0 0 0]]\n",
    "```"
   ]
  },
  {
   "cell_type": "code",
   "execution_count": null,
   "metadata": {
    "collapsed": true,
    "deletable": false,
    "nbgrader": {
     "checksum": "3e931e9ef5a2435ab030ffb5581fbf69",
     "grade": false,
     "grade_id": "favorable_matrix_answer",
     "locked": false,
     "solution": true
    }
   },
   "outputs": [],
   "source": [
    "def favorable_matrix(df):\n",
    "    \"\"\"\n",
    "    Takes a pandas data frame and returns a numpy matrix\n",
    "    with 1 for ratings > 3 and 0 for ratings <= 3.\n",
    "    \n",
    "    Parameters\n",
    "    ----------\n",
    "    df: A pandas.DataFrame\n",
    "    \n",
    "    Returns\n",
    "    -------\n",
    "    A 2-d numpy array.\n",
    "    \"\"\"\n",
    "    \n",
    "    # YOUR CODE HERE\n",
    "    \n",
    "    return data"
   ]
  },
  {
   "cell_type": "code",
   "execution_count": null,
   "metadata": {
    "collapsed": false,
    "deletable": false,
    "nbgrader": {
     "checksum": "dc1b5bc5f8e1f4fd65050c205d85e131",
     "grade": false,
     "grade_id": "favorable_matrix_run",
     "locked": true,
     "solution": false
    }
   },
   "outputs": [],
   "source": [
    "matrix = favorable_matrix(movies_df)\n",
    "print(matrix)"
   ]
  },
  {
   "cell_type": "code",
   "execution_count": null,
   "metadata": {
    "collapsed": false,
    "deletable": false,
    "nbgrader": {
     "checksum": "b2e2b40ad302101cb19683622cfb709e",
     "grade": true,
     "grade_id": "favorable_matrix_test",
     "locked": true,
     "points": 5,
     "solution": false
    }
   },
   "outputs": [],
   "source": [
    "assert_is_instance(matrix, np.ndarray)\n",
    "assert_array_equal(\n",
    "    matrix,\n",
    "   [[1, 0, 0, 1, 0, 0, 0],\n",
    "    [1, 1, 1, 0, 0, 0, 0],\n",
    "    [0, 0, 0, 0, 1, 1, 0],\n",
    "    [0, 0, 0, 0, 0, 0, 1]]\n",
    ")\n",
    "\n",
    "df0 = pd.DataFrame(\n",
    "   [[5, 5, 5],\n",
    "    [4, 4, 4],\n",
    "    [3, 3, 3],\n",
    "    [2, 2, 2],\n",
    "    [1, 1, 1]]\n",
    ")\n",
    "mat0 = favorable_matrix(df0)\n",
    "assert_array_equal(mat0[0], [1, 1, 1])\n",
    "assert_array_equal(mat0[1], [1, 1, 1])\n",
    "assert_array_equal(mat0[2], [0, 0, 0])\n",
    "assert_array_equal(mat0[3], [0, 0, 0])\n",
    "assert_array_equal(mat0[4], [0, 0, 0])\n",
    "\n",
    "df1 = pd.DataFrame(\n",
    "   [[5, 4, 3, 2, 1],\n",
    "    [5, 4, 3, 2, 1],\n",
    "    [5, 4, 3, 2, 1]]\n",
    ")\n",
    "mat1 = favorable_matrix(df1)\n",
    "assert_array_equal(mat1[:, 0], [1, 1, 1])\n",
    "assert_array_equal(mat1[:, 1], [1, 1, 1])\n",
    "assert_array_equal(mat1[:, 2], [0, 0, 0])\n",
    "assert_array_equal(mat1[:, 3], [0, 0, 0])\n",
    "assert_array_equal(mat1[:, 4], [0, 0, 0])"
   ]
  },
  {
   "cell_type": "markdown",
   "metadata": {
    "deletable": false,
    "nbgrader": {
     "checksum": "0606bfe73a5bca9e4e0cd0ae5369eb5c",
     "grade": false,
     "grade_id": "markdown_4",
     "locked": true,
     "solution": false
    }
   },
   "source": [
    "We use the same cosine similarity function from the [Introduction to Recommender Systems](https://github.com/UI-DataScience/accy571-fa16/blob/master/Week7/notebooks/intro2rs.ipynb)."
   ]
  },
  {
   "cell_type": "code",
   "execution_count": null,
   "metadata": {
    "collapsed": true,
    "deletable": false,
    "nbgrader": {
     "checksum": "1ac5c7f259b01474508b3e7182d9a0b4",
     "grade": false,
     "grade_id": "cosine_similarity",
     "locked": true,
     "solution": false
    }
   },
   "outputs": [],
   "source": [
    "def cosine_similarity(u, v):\n",
    "    \"\"\"\n",
    "    The Cosine Similarity function from intro2rs.ipynb\n",
    "    \"\"\"\n",
    "    return np.dot(u, v) / np.sqrt((np.dot(u, u) * np.dot(v, v)))"
   ]
  },
  {
   "cell_type": "markdown",
   "metadata": {
    "deletable": false,
    "nbgrader": {
     "checksum": "ad27587142c55b1d4c84704cfe7e4070",
     "grade": false,
     "grade_id": "markdown_5",
     "locked": true,
     "solution": false
    }
   },
   "source": [
    "To find the best matching user, we apply the `cosine_similarity()` function to each row by using [numpy.apply_along_axis](http://docs.scipy.org/doc/numpy/reference/generated/numpy.apply_along_axis.html) (If the second parameter in `apply_along_axis()` is 0, the function is applied to each column, i.e. `axis=0`; if it's 1, the functin is applied to each row, i.e. `axis=1`.)\n",
    "\n",
    "After `cosine_similarity` is calculated for each user, we return the index of that user in the `matrix`. For example, if the best matching user was `Alice`, `find_best_match` will return 0; if it was `Bob`, 1 is returned; and so on."
   ]
  },
  {
   "cell_type": "code",
   "execution_count": null,
   "metadata": {
    "collapsed": false,
    "deletable": false,
    "nbgrader": {
     "checksum": "b6b9c7ee93144af020a9fd73899abd04",
     "grade": false,
     "grade_id": "find_best_match",
     "locked": true,
     "solution": false
    }
   },
   "outputs": [],
   "source": [
    "def find_best_match(x, y):\n",
    "    \n",
    "    # Compute similarity, find maximum value\n",
    "    similarities = np.apply_along_axis(cosine_similarity, 1, x, y)\n",
    "    maximum = np.nanmax(similarities)\n",
    "\n",
    "    # Find the best matching user\n",
    "    user_index = np.where(similarities == maximum)[0][0]\n",
    "    \n",
    "    return user_index"
   ]
  },
  {
   "cell_type": "code",
   "execution_count": null,
   "metadata": {
    "collapsed": false,
    "deletable": false,
    "nbgrader": {
     "checksum": "dde77dcb2cbb6a504ba47f2abfdaeff2",
     "grade": false,
     "grade_id": "print_best_match",
     "locked": true,
     "solution": false
    }
   },
   "outputs": [],
   "source": [
    "def print_best_match(df, user):\n",
    "    \n",
    "    mat = favorable_matrix(df)\n",
    "    best_match = find_best_match(mat, user)\n",
    "    titles = df.index.values\n",
    "    \n",
    "    print(\"Best match = {0}, Cosine Similarity = {1:4.3f}\".format(\n",
    "        titles[best_match],\n",
    "        cosine_similarity(mat[best_match], user)\n",
    "    ))"
   ]
  },
  {
   "cell_type": "markdown",
   "metadata": {
    "deletable": false,
    "nbgrader": {
     "checksum": "f5d3e722eea404f09230b332ebbc60fd",
     "grade": false,
     "grade_id": "markdown_6",
     "locked": true,
     "solution": false
    }
   },
   "source": [
    "We first create a fake user, `eve`, by selecting only the first movies as favorable. "
   ]
  },
  {
   "cell_type": "code",
   "execution_count": null,
   "metadata": {
    "collapsed": true,
    "deletable": false,
    "nbgrader": {
     "checksum": "37d8efc3a455d9ab28cb5fcaa251ccc1",
     "grade": false,
     "grade_id": "eve",
     "locked": true,
     "solution": false
    }
   },
   "outputs": [],
   "source": [
    "eve = np.array([1, 0, 0, 0, 0, 0, 0])"
   ]
  },
  {
   "cell_type": "markdown",
   "metadata": {
    "deletable": false,
    "nbgrader": {
     "checksum": "33e00963f8d5bee384d6f23f34e126f6",
     "grade": false,
     "grade_id": "markdown_7",
     "locked": true,
     "solution": false
    }
   },
   "source": [
    "Given this new vector, we identify the user who is most similar to this new user."
   ]
  },
  {
   "cell_type": "code",
   "execution_count": null,
   "metadata": {
    "collapsed": false,
    "deletable": false,
    "nbgrader": {
     "checksum": "6639cc04b4632f2b907088946964e36a",
     "grade": false,
     "grade_id": "print_best_match_eve",
     "locked": true,
     "solution": false
    }
   },
   "outputs": [],
   "source": [
    "print_best_match(movies_df, eve)"
   ]
  },
  {
   "cell_type": "markdown",
   "metadata": {
    "deletable": false,
    "nbgrader": {
     "checksum": "1c7cb2dd236ddf677925ce9d8ae3554c",
     "grade": false,
     "grade_id": "markdown_8",
     "locked": true,
     "solution": false
    }
   },
   "source": [
    "## Recommend movies\n",
    "\n",
    "- Write a function named `recommend` that makes a movie recommendation.\n",
    "- You might want to start by using `favorable_matrix()` to convert the data frame `df` into a 2-d matrix.\n",
    "- Recall that `find_best_match()` returns the index of the row that represents the best matching user. You can use this index in a 2-d array, e.g., `matrix`, to extract that one row. For example,\n",
    "```python\n",
    ">>> array = np.array([[1, 2, 3], [4, 5, 6], [7, 8, 9]])\n",
    ">>> match = 0\n",
    ">>> print(array[match])\n",
    "```\n",
    "```\n",
    "[1 2 3]\n",
    "```\n",
    "```python\n",
    ">>> match = 1\n",
    ">>> print(array[match])\n",
    "```\n",
    "```\n",
    "[4 5 6]\n",
    "```\n",
    "\n",
    "- When we subtract the best matching row from `user`, any negative value is a movie to recommend. For example, if we want to recommend movies for Eve, and the user who is most similar to Eve is Alice,\n",
    "```python\n",
    ">>> alice = np.array([1, 0, 0, 1, 0, 0, 0])\n",
    ">>> eve = eve = np.array([1, 0, 0, 0, 0, 0, 0])\n",
    "```\n",
    "we should recommend movie 3 because 3 is the index of -1 in\n",
    "```python\n",
    ">>> print(eve - alice)\n",
    "```\n",
    "```\n",
    "[ 0  0  0 -1  0  0  0]\n",
    "```"
   ]
  },
  {
   "cell_type": "code",
   "execution_count": null,
   "metadata": {
    "collapsed": true,
    "deletable": false,
    "nbgrader": {
     "checksum": "6f5b0250ca2b05ea4eec6e81c399b3c8",
     "grade": false,
     "grade_id": "recommend_answer",
     "locked": false,
     "solution": true
    }
   },
   "outputs": [],
   "source": [
    "def recommend(df, user):\n",
    "    \"\"\"\n",
    "    Find the best maching row in \"df\" according to cosine similarity,\n",
    "    and returns the index where diff < 0 and diff = user - best matching row.\n",
    "    \n",
    "    Parameters\n",
    "    ----------\n",
    "    df: A pandas.DataFrame\n",
    "    user: A 1-d numpy array of favorable ratings from one user.\n",
    "    \n",
    "    Returns\n",
    "    -------\n",
    "    A 1-d numpy array of recommended movies.\n",
    "    \"\"\"\n",
    "    \n",
    "    # YOUR CODE HERE\n",
    "    \n",
    "    return result"
   ]
  },
  {
   "cell_type": "code",
   "execution_count": null,
   "metadata": {
    "collapsed": false,
    "deletable": false,
    "nbgrader": {
     "checksum": "31815221c87f88f26398d460dcc64763",
     "grade": false,
     "grade_id": "recommend_run",
     "locked": true,
     "solution": false
    }
   },
   "outputs": [],
   "source": [
    "print(\"Recommended movies: {}\".format(recommend(movies_df, eve)))"
   ]
  },
  {
   "cell_type": "code",
   "execution_count": null,
   "metadata": {
    "collapsed": false,
    "deletable": false,
    "nbgrader": {
     "checksum": "ce5b2b87fa508030e839964c0c865c8e",
     "grade": true,
     "grade_id": "recommend_test",
     "locked": true,
     "points": 10,
     "solution": false
    }
   },
   "outputs": [],
   "source": [
    "r0 = recommend(movies_df, [1, 0, 0, 0, 0, 0, 0])\n",
    "assert_is_instance(r0, np.ndarray)\n",
    "assert_array_equal(r0, [3])\n",
    "\n",
    "r1 = recommend(movies_df, [1, 0, 1, 0, 0, 0, 0])\n",
    "assert_array_equal(r1, [1])\n",
    "\n",
    "r2 = recommend(movies_df, [0, 1, 0, 0, 0, 0, 0])\n",
    "assert_array_equal(r2, [0, 2])\n",
    "\n",
    "r3 = recommend(movies_df, [0, 0, 0, 0, 1, 0, 0])\n",
    "assert_array_equal(r3, [5])\n",
    "\n",
    "r4 = recommend(movies_df, [0, 0, 0, 0, 0, 1, 0])\n",
    "assert_array_equal(r4, [4])\n",
    "\n",
    "r5 = recommend(movies_df, [1, 0, 0, 1, 0, 0, 0])\n",
    "assert_equal(len(r5), 0)\n",
    "\n",
    "r6 = recommend(movies_df, [1, 1, 1, 0, 0, 0, 0])\n",
    "assert_equal(len(r6), 0)\n",
    "\n",
    "r7 = recommend(movies_df, [1, 1, 1, 1, 0, 0, 0])\n",
    "assert_equal(len(r7), 0)"
   ]
  },
  {
   "cell_type": "markdown",
   "metadata": {
    "deletable": false,
    "nbgrader": {
     "checksum": "e32a8d8e5fd8167a510dd6e3839a1e60",
     "grade": false,
     "grade_id": "markdown_9",
     "locked": true,
     "solution": false
    }
   },
   "source": [
    "So, our algorithm recommends movie 3 for Eve. Does this make sense? Recall that Eve had only the first movie as favorable.\n",
    "\n",
    "```python\n",
    "eve = np.array([1, 0, 0, 0, 0, 0, 0])\n",
    "```\n",
    "\n",
    "\n",
    "And we found that Alice was most similar to Eve.\n",
    "\n",
    "```python\n",
    ">>> print_best_match(movies_df, eve)\n",
    "```\n",
    "```\n",
    "Best match = Alice, Cosine Similarity = 0.707\n",
    "```\n",
    "\n",
    "Alice has values:\n",
    "```\n",
    "Alice  4.0  NaN  NaN  5.0  1.0  NaN  NaN\n",
    "```\n",
    "which correspond to\n",
    "```\n",
    "[1, 0, 0, 1, 0, 0, 0]\n",
    "```\n",
    "\n",
    "It makes sense. Alice likes movies 0 and 3. Eve likes movie 0. So our algorithm recommends movie 3.\n",
    "\n",
    "Let's try one more fake user."
   ]
  },
  {
   "cell_type": "code",
   "execution_count": null,
   "metadata": {
    "collapsed": false,
    "nbgrader": {
     "grade": false,
     "locked": false,
     "solution": false
    }
   },
   "outputs": [],
   "source": [
    "frank = np.array([1, 0, 1, 0, 0, 0, 0])\n",
    "print(\"Recommended movies: {}\".format(recommend(movies_df, frank)))"
   ]
  },
  {
   "cell_type": "markdown",
   "metadata": {
    "collapsed": true
   },
   "source": [
    "Does this make sense? As an optional exercise, try the test cases (`r1`, `r2`, ...) and more fake users."
   ]
  },
  {
   "cell_type": "code",
   "execution_count": null,
   "metadata": {
    "collapsed": true
   },
   "outputs": [],
   "source": []
  }
 ],
 "metadata": {
  "kernelspec": {
   "display_name": "Python 3",
   "language": "python",
   "name": "python3"
  },
  "language_info": {
   "codemirror_mode": {
    "name": "ipython",
    "version": 3
   },
   "file_extension": ".py",
   "mimetype": "text/x-python",
   "name": "python",
   "nbconvert_exporter": "python",
   "pygments_lexer": "ipython3",
   "version": "3.5.2"
  }
 },
 "nbformat": 4,
 "nbformat_minor": 0
}
