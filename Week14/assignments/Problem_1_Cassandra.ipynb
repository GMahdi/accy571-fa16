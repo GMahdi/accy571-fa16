{
 "cells": [
  {
   "cell_type": "markdown",
   "metadata": {
    "deletable": false,
    "nbgrader": {
     "checksum": "a98c739c45025e75b7a8a39168517825",
     "grade": false,
     "grade_id": "header",
     "locked": true,
     "solution": false
    }
   },
   "source": [
    "A few things you should keep in mind when working on assignments:\n",
    "\n",
    "1. Make sure you fill in any place that says `YOUR CODE HERE`. Do **not** write your answer in anywhere else other than where it says `YOUR CODE HERE`. Anything you write anywhere else will be removed or overwritten by the autograder.\n",
    "\n",
    "2. Before you submit your assignment, make sure everything runs as expected. Go to menubar, select _Kernel_, and restart the kernel and run all cells (_Restart & Run all_).\n",
    "\n",
    "3. Do not change the title (i.e. file name) of this notebook.\n",
    "\n",
    "4. Make sure that you save your work (in the menubar, select _File_ → _Save and CheckPoint_)\n",
    "\n",
    "5. You are allowed to submit an assignment multiple times, but only the most recent submission will be graded."
   ]
  },
  {
   "cell_type": "markdown",
   "metadata": {
    "deletable": false,
    "nbgrader": {
     "checksum": "6ecb256141966bd2c473e186c49ed967",
     "grade": false,
     "grade_id": "title",
     "locked": true,
     "solution": false
    }
   },
   "source": [
    "# Problem 1. Cassandra\n",
    "\n",
    "In this problem, we use the Cassandra Python database driver to execute CQL (Cassandra Query Language) queries."
   ]
  },
  {
   "cell_type": "code",
   "execution_count": null,
   "metadata": {
    "collapsed": true,
    "deletable": false,
    "nbgrader": {
     "checksum": "ef3dfe151906b5c20ff5412d0589ee17",
     "grade": false,
     "grade_id": "import",
     "locked": true,
     "solution": false
    }
   },
   "outputs": [],
   "source": [
    "import os\n",
    "import cassandra\n",
    "from cassandra.cluster import Cluster\n",
    "from cassandra.policies import WhiteListRoundRobinPolicy\n",
    "from cassandra.query import dict_factory\n",
    "from cassandra.cqlengine import connection, management\n",
    "\n",
    "from nose.tools import assert_equal, assert_true, assert_is_instance, assert_almost_equal"
   ]
  },
  {
   "cell_type": "markdown",
   "metadata": {
    "deletable": false,
    "nbgrader": {
     "checksum": "bbe887e9ea42162ba3024e474457eb3d",
     "grade": false,
     "grade_id": "markdown_1",
     "locked": true,
     "solution": false
    }
   },
   "source": [
    "Suppose we are given the following table:\n",
    "\n",
    "<div class=\"row\">\n",
    "    <div class=\"col-md-2\">\n",
    "      <div align=\"center\">\n",
    "        <b>Midterm</b>\n",
    "      </div>\n",
    "    <table>\n",
    "  <tr>\n",
    "    <th>Id</th>\n",
    "    <th>Name</th> \n",
    "    <th>Score</th>\n",
    "  </tr>\n",
    "  <tr>\n",
    "    <td>1</td>\n",
    "    <td>Alice</td> \n",
    "    <td>97.3</td>\n",
    "  </tr>\n",
    "  <tr>\n",
    "    <td>2</td>\n",
    "    <td>Bob</td> \n",
    "    <td>87.7</td>\n",
    "  </tr>\n",
    "  <tr>\n",
    "    <td>3</td>\n",
    "    <td>Chris</td> \n",
    "    <td>91.5</td>\n",
    "  </tr>\n",
    "</table>\n",
    "    </div>\n",
    "</div>\n",
    "\n",
    "We can represent this table as a list of dictionaries, as shown in the following code cell."
   ]
  },
  {
   "cell_type": "code",
   "execution_count": null,
   "metadata": {
    "collapsed": true,
    "deletable": false,
    "nbgrader": {
     "checksum": "04d9166e986fec91a5a2f679ee3f901e",
     "grade": false,
     "grade_id": "define_midterm",
     "locked": true,
     "solution": false
    }
   },
   "outputs": [],
   "source": [
    "midterm = [\n",
    "    {\"Id\": 1, \"Name\": \"Alice\", \"Score\": 97.3},\n",
    "    {\"Id\": 2, \"Name\": \"Bob\", \"Score\": 87.7},\n",
    "    {\"Id\": 3, \"Name\": \"Chris\", \"Score\": 91.5}\n",
    "]"
   ]
  },
  {
   "cell_type": "markdown",
   "metadata": {
    "deletable": false,
    "nbgrader": {
     "checksum": "4b7b9b21d5e0ca88703f40fd472b1f53",
     "grade": false,
     "grade_id": "markdown_2",
     "locked": true,
     "solution": false
    }
   },
   "source": [
    "We connect to the course Cassandra server as we did in the [Introduction to Cassandra notebook](https://github.com/UI-DataScience/accy571-fa16/blob/master/Week14/notebooks/intro2cassandra.ipynb)."
   ]
  },
  {
   "cell_type": "code",
   "execution_count": null,
   "metadata": {
    "collapsed": false,
    "deletable": false,
    "nbgrader": {
     "checksum": "6b39538de611007ba4ead0d9759cc971",
     "grade": false,
     "grade_id": "connect_session",
     "locked": true,
     "solution": false
    }
   },
   "outputs": [],
   "source": [
    "cassandra_ips = ['192.168.100.24']\n",
    "\n",
    "# Establish a connection to Cassandra\n",
    "\n",
    "# The Policy is necessary to allow Cassandra to run on Azure.\n",
    "from cassandra.policies import WhiteListRoundRobinPolicy\n",
    "pcy = WhiteListRoundRobinPolicy(cassandra_ips)\n",
    "\n",
    "# Create Connection\n",
    "cluster = Cluster(contact_points=cassandra_ips, load_balancing_policy=pcy)\n",
    "session = cluster.connect()\n",
    "\n",
    "print('Cluster Name: {0}'.format(cluster.metadata.cluster_name))\n",
    "for host in cluster.metadata.all_hosts():\n",
    "    print('{0}: Host: {1} in {2}'\\\n",
    "          .format(host.datacenter, host.address, host.rack))"
   ]
  },
  {
   "cell_type": "markdown",
   "metadata": {
    "deletable": false,
    "nbgrader": {
     "checksum": "5a988162da1dd26d682c0fd4836acada",
     "grade": false,
     "grade_id": "markdown_3",
     "locked": true,
     "solution": false
    }
   },
   "source": [
    "To provide distinct environments for each student, each student will create their own keyspace in the shared Cassandra cluster by using their NetIDs."
   ]
  },
  {
   "cell_type": "code",
   "execution_count": null,
   "metadata": {
    "collapsed": false,
    "deletable": false,
    "nbgrader": {
     "checksum": "3b2cee984b7553686f4d9a941e7e30cc",
     "grade": false,
     "grade_id": "keyspace",
     "locked": true,
     "solution": false
    }
   },
   "outputs": [],
   "source": [
    "# Filename containing user's netid\n",
    "fname = '/home/data_scientist/users.txt'\n",
    "with open(fname, 'r') as fin:\n",
    "    netid = fin.readline().rstrip()\n",
    "\n",
    "# We will delete our working directory if it exists before recreating.\n",
    "ks_name = '{0}'.format(netid)\n",
    "\n",
    "session.row_factory = dict_factory\n",
    "\n",
    "connection.set_session(session)\n",
    "\n",
    "# Explicitly set session hosts, this removes annoying warnings.\n",
    "connection.session.hosts = cassandra_ips\n",
    "\n",
    "# Drop Keyspace if it exists\n",
    "if ks_name in cluster.metadata.keyspaces:\n",
    "    management.drop_keyspace(ks_name)\n",
    "\n",
    "# Create Keyspace\n",
    "management.create_keyspace_simple(ks_name, 1)\n",
    "\n",
    "# Set keyspace for this session\n",
    "# Note: If keyspace exists in Cassandra instance, this is only line we need.\n",
    "session.set_keyspace(ks_name)\n",
    "\n",
    "# Display all non-system keyspaces.\n",
    "# Do not change to a different keyspace!\n",
    "\n",
    "keys = [val for val in sorted(cluster.metadata.keyspaces.keys()) if 'system' not in val]\n",
    "for ks in keys:\n",
    "    print(ks)\n",
    "\n",
    "print('\\nCQL Query to recreate this keyspace:')\n",
    "print(40*'-')\n",
    "print(cluster.metadata.keyspaces[ks_name].export_as_string())"
   ]
  },
  {
   "cell_type": "markdown",
   "metadata": {
    "deletable": false,
    "nbgrader": {
     "checksum": "677bf9618d49aed62398bdba04313c5d",
     "grade": false,
     "grade_id": "markdown_4",
     "locked": true,
     "solution": false
    }
   },
   "source": [
    "We first drop the table if it exists to ensure a clean slate before we create our new schema and insert data. Note that the table name we will be using in this problem is `midterm`."
   ]
  },
  {
   "cell_type": "code",
   "execution_count": null,
   "metadata": {
    "collapsed": true,
    "deletable": false,
    "nbgrader": {
     "checksum": "5f3c44d0241aa0f815e08d5c4bbfc2c2",
     "grade": false,
     "grade_id": "drop_table",
     "locked": true,
     "solution": false
    }
   },
   "outputs": [],
   "source": [
    "def drop_table(session, table):\n",
    "    \"\"\"\n",
    "    Drops a table if exists.\n",
    "    \n",
    "    Parameters\n",
    "    ----------\n",
    "    session: A cassandra.cluster.Session instance.\n",
    "    table: A string. Table name.\n",
    "    \n",
    "    Returns\n",
    "    -------\n",
    "    A cassandra.cluster.ResultSet instance.\n",
    "    \"\"\"\n",
    "    \n",
    "    result = session.execute(\"DROP TABLE IF EXISTS {};\".format(table))\n",
    "    return result\n",
    "\n",
    "result = drop_table(session, \"midterm\")\n",
    "\n",
    "assert_is_instance(result, cassandra.cluster.ResultSet)\n",
    "assert_equal(result.column_names, None)\n",
    "assert_equal(len(result.current_rows), 0)"
   ]
  },
  {
   "cell_type": "markdown",
   "metadata": {
    "deletable": false,
    "nbgrader": {
     "checksum": "bef2fe8cace8fff24b2d01a9f6c9bac2",
     "grade": false,
     "grade_id": "markdown_5",
     "locked": true,
     "solution": false
    }
   },
   "source": [
    "## Create a table\n",
    "\n",
    "- Complete the following function by writing a CQL schema that creates a table named `midterm` that has the following 3 columns:\n",
    "  - `id` (`int`, `PRIMARY KEY`)\n",
    "  - `name` (`text`)\n",
    "  - `score` (`float`)\n",
    "  \n",
    "Hints:\n",
    "\n",
    "- The _Schema Creation_ section of the [Introduction to Cassandra notebook](https://github.com/UI-DataScience/accy571-fa16/blob/master/Week14/notebooks/intro2cassandra.ipynb) has some examples. See also the [official documentation](http://docs.datastax.com/en/cql/3.3/cql/cql_using/useCreateTableTOC.html).\n",
    "\n",
    "- One item of importance is the creation of the [primary key](http://docs.datastax.com/en/cql/3.3/cql/cql_using/useSimplePrimaryKeyConcept.html#useSimplePrimaryKeyConcept). Use `id` as the primary key."
   ]
  },
  {
   "cell_type": "code",
   "execution_count": null,
   "metadata": {
    "collapsed": false,
    "deletable": false,
    "nbgrader": {
     "checksum": "3fa8b779aea28303a06ff2bb67b61882",
     "grade": false,
     "grade_id": "create_table_answer",
     "locked": false,
     "solution": true
    }
   },
   "outputs": [],
   "source": [
    "def create_table(session):\n",
    "    # YOUR CODE HERE\n",
    "\n",
    "    result = session.execute(create_schema)\n",
    "    \n",
    "    return result"
   ]
  },
  {
   "cell_type": "code",
   "execution_count": null,
   "metadata": {
    "collapsed": false,
    "deletable": false,
    "nbgrader": {
     "checksum": "8cc7642ee6db6b7d53762bbef2f88013",
     "grade": false,
     "grade_id": "create_table_run",
     "locked": true,
     "solution": false
    }
   },
   "outputs": [],
   "source": [
    "create_result = create_table(session)\n",
    "print(create_result.response_future)"
   ]
  },
  {
   "cell_type": "code",
   "execution_count": null,
   "metadata": {
    "collapsed": false,
    "deletable": false,
    "nbgrader": {
     "checksum": "3c8d091bf8d8a3e4228904236c412f2c",
     "grade": true,
     "grade_id": "create_table_test",
     "locked": true,
     "points": 5,
     "solution": false
    }
   },
   "outputs": [],
   "source": [
    "result = session.execute(\"SELECT * FROM Midterm;\")\n",
    "assert_is_instance(result, cassandra.cluster.ResultSet)\n",
    "assert_equal(set(result.column_names), {\"id\", \"name\", \"score\"})\n",
    "assert_equal(len(result.current_rows), 0)"
   ]
  },
  {
   "cell_type": "markdown",
   "metadata": {
    "deletable": false,
    "nbgrader": {
     "checksum": "cdaab171b99b1b7838a8f330a272abc4",
     "grade": false,
     "grade_id": "markdown_6",
     "locked": true,
     "solution": false
    }
   },
   "source": [
    "## Insert data\n",
    "\n",
    "- Complete the following function by writing a **prepared statement** that inserts data into the `midterm` table.\n",
    "\n",
    "Hints:\n",
    "\n",
    "- The _Adding Data_ section of the [Introduction to Cassandra notebook](https://github.com/UI-DataScience/accy571-fa16/blob/master/Week14/notebooks/intro2cassandra.ipynb) has some examples. See also the official documentation [here](https://docs.datastax.com/en/developer/java-driver/3.1/manual/statements/prepared/) and [here](https://datastax.github.io/python-driver/api/cassandra/cluster.html#cassandra.cluster.Session.prepare).\n"
   ]
  },
  {
   "cell_type": "code",
   "execution_count": null,
   "metadata": {
    "collapsed": true,
    "deletable": false,
    "nbgrader": {
     "checksum": "1747d6067bbaa538eb98079af307c82b",
     "grade": false,
     "grade_id": "insert_data_answer",
     "locked": false,
     "solution": true
    }
   },
   "outputs": [],
   "source": [
    "def insert_data(session, data):\n",
    "    \n",
    "    # YOUR CODE HERE\n",
    "    prepared = session.prepare(insert_many)\n",
    "\n",
    "    for idx, student in enumerate(data):\n",
    "        result = session.execute(prepared, (idx + 1, student['Name'], student['Score']))\n",
    "    \n",
    "    return result"
   ]
  },
  {
   "cell_type": "code",
   "execution_count": null,
   "metadata": {
    "collapsed": false,
    "deletable": false,
    "nbgrader": {
     "checksum": "a3691734da15b468f75a8682f2c63ec5",
     "grade": false,
     "grade_id": "insert_data_run",
     "locked": true,
     "solution": false
    }
   },
   "outputs": [],
   "source": [
    "insert_result = insert_data(session, midterm)\n",
    "print(insert_result.response_future)"
   ]
  },
  {
   "cell_type": "code",
   "execution_count": null,
   "metadata": {
    "collapsed": false,
    "deletable": false,
    "nbgrader": {
     "checksum": "90cbb3679d79636d746ee95c97d634d2",
     "grade": true,
     "grade_id": "insert_data_test",
     "locked": true,
     "points": 5,
     "solution": false
    }
   },
   "outputs": [],
   "source": [
    "result = session.execute(\"SELECT * FROM midterm;\")\n",
    "assert_is_instance(result, cassandra.cluster.ResultSet)\n",
    "assert_equal(len(result.current_rows), len(midterm))\n",
    "assert_equal(\n",
    "    {row[\"name\"] for row in result.current_rows},\n",
    "    {student[\"Name\"] for student in midterm}\n",
    "    )\n",
    "assert_equal(\n",
    "    {row[\"id\"] for row in result.current_rows},\n",
    "    set(range(1, len(midterm) + 1))\n",
    "    )"
   ]
  },
  {
   "cell_type": "markdown",
   "metadata": {
    "deletable": false,
    "nbgrader": {
     "checksum": "fce4514fe98fa5055ffc0c61ee62d1a4",
     "grade": false,
     "grade_id": "markdown_7",
     "locked": true,
     "solution": false
    }
   },
   "source": [
    "## Retrieve data\n",
    "\n",
    "- The following function accepts an argument named `id_`. It uses this argument in a CQL prepared statement, queries the matching `id` column in the Cassandra table, and then selects the `name` and `score` columns. Complete this function by writing a prepared statement that selects the `name` and `score` of a student by matching the `id` column.\n",
    "\n",
    "Hints:\n",
    "\n",
    "- When you run\n",
    "  ```python\n",
    "  >>> retrieve_result = retrieve(session, 1)\n",
    "  >>> print(retrieve_result.current_rows)\n",
    "  ```\n",
    "  you should get\n",
    "  ```\n",
    "  [{'name': 'Alice', 'score': 97.30000305175781}]\n",
    "  ```\n",
    "  Similary,\n",
    "  ```python\n",
    "  >>> retrieve_result = retrieve(session, 2)\n",
    "  >>> print(retrieve_result.current_rows)\n",
    "  ```\n",
    "  ```\n",
    "  [{'name': 'Bob', 'score': 87.69999694824219}]\n",
    "  ```\n",
    "  ```python\n",
    "  >>> retrieve_result = retrieve(session, 3)\n",
    "  >>> print(retrieve_result.current_rows)\n",
    "  ```\n",
    "  ```\n",
    "  [{'name': 'Chris', 'score': 91.5}]\n",
    "  ```\n",
    "  \n",
    "- The _Retrieving Data_ section of the [Introduction to Cassandra notebook](https://github.com/UI-DataScience/accy571-fa16/blob/master/Week14/notebooks/intro2cassandra.ipynb) has some examples. See also the official documentation [here](https://datastax.github.io/python-driver/api/cassandra/cluster.html#cassandra.cluster.Session.prepare)."
   ]
  },
  {
   "cell_type": "code",
   "execution_count": null,
   "metadata": {
    "collapsed": true,
    "deletable": false,
    "nbgrader": {
     "checksum": "0764db4fea2d0ce5d57819ab7dcf82a2",
     "grade": false,
     "grade_id": "retrieve_answer",
     "locked": false,
     "solution": true
    }
   },
   "outputs": [],
   "source": [
    "def retrieve(session, id_):\n",
    "    # YOUR CODE HERE\n",
    "    result = session.execute(query, {\"id_\": id_})\n",
    "    \n",
    "    return result"
   ]
  },
  {
   "cell_type": "code",
   "execution_count": null,
   "metadata": {
    "collapsed": false,
    "deletable": false,
    "nbgrader": {
     "checksum": "b91241a4e20796eb64e92ffca220a7c8",
     "grade": false,
     "grade_id": "retrieve_run1",
     "locked": true,
     "solution": false
    }
   },
   "outputs": [],
   "source": [
    "retrieve_result = retrieve(session, 1)\n",
    "print(retrieve_result.current_rows)"
   ]
  },
  {
   "cell_type": "code",
   "execution_count": null,
   "metadata": {
    "collapsed": false,
    "deletable": false,
    "nbgrader": {
     "checksum": "a96fd31b052882470514891f1e7c05f9",
     "grade": false,
     "grade_id": "retrieve_run2",
     "locked": true,
     "solution": false
    }
   },
   "outputs": [],
   "source": [
    "retrieve_result = retrieve(session, 2)\n",
    "print(retrieve_result.current_rows)"
   ]
  },
  {
   "cell_type": "code",
   "execution_count": null,
   "metadata": {
    "collapsed": false,
    "deletable": false,
    "nbgrader": {
     "checksum": "6bbacf31447474966dfb1d75563b197a",
     "grade": false,
     "grade_id": "retrieve_run3",
     "locked": true,
     "solution": false
    }
   },
   "outputs": [],
   "source": [
    "retrieve_result = retrieve(session, 3)\n",
    "print(retrieve_result.current_rows)"
   ]
  },
  {
   "cell_type": "code",
   "execution_count": null,
   "metadata": {
    "collapsed": false,
    "deletable": false,
    "nbgrader": {
     "checksum": "dfa0ced62c2d84a7766e7c82cbdd1515",
     "grade": true,
     "grade_id": "retrieve_test",
     "locked": true,
     "points": 5,
     "solution": false
    }
   },
   "outputs": [],
   "source": [
    "assert_is_instance(result, cassandra.cluster.ResultSet)\n",
    "\n",
    "def get_answer(table):\n",
    "    return [{\"name\": s[\"Name\"], \"score\": s[\"Score\"]} for s in table if s[\"Id\"] == 1]\n",
    "\n",
    "def get_names(items):\n",
    "    return [i[\"name\"] for i in items]\n",
    "\n",
    "def get_scores(items):\n",
    "    return [i[\"score\"] for i in items]\n",
    "\n",
    "def test_names(session, id_, table):\n",
    "    t = retrieve(session, id_).current_rows\n",
    "    a = get_answer(table)\n",
    "    t_names = get_names(t)\n",
    "    a_names = get_names(a)\n",
    "    assert_equal(len(t_names), len(a_names))\n",
    "    assert_equal(set(a_names), set(a_names))\n",
    "\n",
    "def test_scores(session, id_, table):\n",
    "    t = retrieve(session, id_).current_rows\n",
    "    a = get_answer(table)\n",
    "    t_scores = get_scores(t)\n",
    "    a_scores = get_scores(a)\n",
    "    assert_equal(len(t_scores), len(a_scores))\n",
    "    assert_equal(set(a_scores), set(a_scores))\n",
    "    \n",
    "for i in range(1, 4):\n",
    "    test_names(session, i, midterm)\n",
    "    test_scores(session, i, midterm)"
   ]
  },
  {
   "cell_type": "code",
   "execution_count": null,
   "metadata": {
    "collapsed": true
   },
   "outputs": [],
   "source": []
  }
 ],
 "metadata": {
  "kernelspec": {
   "display_name": "Python 3",
   "language": "python",
   "name": "python3"
  },
  "language_info": {
   "codemirror_mode": {
    "name": "ipython",
    "version": 3
   },
   "file_extension": ".py",
   "mimetype": "text/x-python",
   "name": "python",
   "nbconvert_exporter": "python",
   "pygments_lexer": "ipython3",
   "version": "3.5.2"
  }
 },
 "nbformat": 4,
 "nbformat_minor": 1
}
