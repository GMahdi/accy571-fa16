{
 "cells": [
  {
   "cell_type": "markdown",
   "metadata": {},
   "source": [
    "<DIV ALIGN=CENTER>\n",
    "\n",
    "# Introduction to Hadoop\n",
    "## Professor Robert J. Brunner\n",
    "  \n",
    "</DIV>  \n",
    "----- \n",
    "-----"
   ]
  },
  {
   "cell_type": "markdown",
   "metadata": {},
   "source": [
    "## Introduction\n",
    "\n",
    "In this Notebook, we will introduce Hadoop and the Hadoop Distributed\n",
    "File System, which underlie the entire Hadoop ecosystem. Our setup will\n",
    "be using a single Hadoop node, which will not be very fast, especially\n",
    "when compared to simply running Python code directly. However, even with\n",
    "this simple setup, the full Hadoop process will be demonstrated,\n",
    "including the use of the Hadoop file system (HDFS) and the Hadoop\n",
    "Streaming process model.\n",
    "\n",
    "Typically, Hadoop is operated on a large cluster that runs both Hadoop\n",
    "and HDFS, although with the development of Yarn, more diverse workflows\n",
    "are now possible. In this Notebook, we only explore the basic Hadoop\n",
    "components of Hadoop and HDFS, which work together to run code on the\n",
    "nodes that hold the relevant data in order to maximize throughput.\n",
    "[Other resources][hort] exist to learn more about Yarn and other Hadoop\n",
    "workflows, and we will explore using [Pig][nb3] this week, and using\n",
    "Spark in Week 14.\n",
    "\n",
    "In the first code cell, we simple test the Hadoop is working in our\n",
    "course [Docker container][info-hadoop]. We do this by displaying the\n",
    "contents of the most recent Hadoop log files. If the files don't exist,\n",
    "or do not have current timestamps, you will need to explore whether\n",
    "Hadoop is working correctly before proceeding through the rest of this\n",
    "Notebook.\n",
    "\n",
    "-----\n",
    "[hort]: http://hortonworks.com/hadoop-tutorial/introducing-apache-hadoop-developers/\n",
    "[wcp]: https://hadoop.apache.org/docs/r2.6.0/hadoop-mapreduce-client/hadoop-mapreduce-client-core/MapReduceTutorial.html\n",
    "\n",
    "[nb3]: intro2pig.ipynb\n",
    "\n",
    "[info-hadoop]: https://github.com/UI-DataScience/docker-info490/tree/master/hadoop"
   ]
  },
  {
   "cell_type": "code",
   "execution_count": 1,
   "metadata": {
    "collapsed": false
   },
   "outputs": [
    {
     "name": "stdout",
     "output_type": "stream",
     "text": [
      "##### Out File #####\n",
      "ulimit -a for user data_scientist\n",
      "core file size          (blocks, -c) 0\n",
      "data seg size           (kbytes, -d) unlimited\n",
      "scheduling priority             (-e) 0\n",
      "file size               (blocks, -f) unlimited\n",
      "pending signals                 (-i) 15504\n",
      "max locked memory       (kbytes, -l) 64\n",
      "max memory size         (kbytes, -m) unlimited\n",
      "open files                      (-n) 1048576\n",
      "pipe size            (512 bytes, -p) 8\n",
      "POSIX message queues     (bytes, -q) 819200\n",
      "real-time priority              (-r) 0\n",
      "stack size              (kbytes, -s) 8192\n",
      "cpu time               (seconds, -t) unlimited\n",
      "max user processes              (-u) 1048576\n",
      "virtual memory          (kbytes, -v) unlimited\n",
      "file locks                      (-x) unlimited\n",
      "\n",
      "##### Log File #####\n",
      "\tat java.lang.Thread.run(Thread.java:745)\n",
      "Caused by: java.io.EOFException\n",
      "\tat java.io.DataInputStream.readInt(DataInputStream.java:392)\n",
      "\tat org.apache.hadoop.ipc.Client$Connection.receiveRpcResponse(Client.java:1084)\n",
      "\tat org.apache.hadoop.ipc.Client$Connection.run(Client.java:979)\n",
      "2016-11-01 21:55:09,745 ERROR org.apache.hadoop.hdfs.server.datanode.DataNode: RECEIVED SIGNAL 15: SIGTERM\n",
      "2016-11-01 21:55:09,747 INFO org.apache.hadoop.hdfs.server.datanode.DataNode: SHUTDOWN_MSG: \n",
      "/************************************************************\n",
      "SHUTDOWN_MSG: Shutting down DataNode at 6b90ae080522/172.17.0.1\n",
      "************************************************************/\n"
     ]
    }
   ],
   "source": [
    "%%bash\n",
    "#!/usr/bin/env bash\n",
    "\n",
    "echo '##### Out File #####'\n",
    "out_file=$(ls -la /usr/local/hadoop/logs/hadoop-data*.out | head -1 | awk '{print $9}')\n",
    "cat  $out_file\n",
    "\n",
    "echo\n",
    "echo '##### Log File #####'\n",
    "log_file=$(ls -la /usr/local/hadoop/logs/hadoop-data*.log | head -1 | awk '{print $9}')\n",
    "tail -10  $log_file"
   ]
  },
  {
   "cell_type": "markdown",
   "metadata": {},
   "source": [
    "-----\n",
    "\n",
    "## Setup Local Hadoop Environment\n",
    "\n",
    "\n",
    "-----"
   ]
  },
  {
   "cell_type": "code",
   "execution_count": 2,
   "metadata": {
    "collapsed": false
   },
   "outputs": [
    {
     "name": "stdout",
     "output_type": "stream",
     "text": [
      "Stopping namenodes on [6b90ae080522]\n",
      "6b90ae080522: no namenode to stop\n",
      "localhost: no datanode to stop\n",
      "Stopping secondary namenodes [0.0.0.0]\n",
      "0.0.0.0: no secondarynamenode to stop\n"
     ]
    }
   ],
   "source": [
    "%%bash\n",
    "\n",
    "# make sure we stop the namenode and datanodes if there are any running from previous run\n",
    "$HADOOP_PREFIX/sbin/stop-dfs.sh\n",
    "$HADOOP_PREFIX/sbin/stop-yarn.sh\n",
    "\n",
    "# Clean up temp files if there are any created during the previous Hadoop operation.\n",
    "rm -rf /tmp/*\n",
    "\n",
    "# Format the namenode and delete all files in our HDFS.\n",
    "echo \"Y\" | $HADOOP_PREFIX/bin/hdfs namenode -format 2> /dev/null"
   ]
  },
  {
   "cell_type": "code",
   "execution_count": 3,
   "metadata": {
    "collapsed": false
   },
   "outputs": [
    {
     "name": "stdout",
     "output_type": "stream",
     "text": [
      "Starting namenodes on [6b90ae080522]\n",
      "6b90ae080522: starting namenode, logging to /usr/local/hadoop/logs/hadoop-data_scientist-namenode-6b90ae080522.out\n",
      "localhost: starting datanode, logging to /usr/local/hadoop/logs/hadoop-data_scientist-datanode-6b90ae080522.out\n",
      "Starting secondary namenodes [0.0.0.0]\n",
      "0.0.0.0: starting secondarynamenode, logging to /usr/local/hadoop/logs/hadoop-data_scientist-secondarynamenode-6b90ae080522.out\n"
     ]
    }
   ],
   "source": [
    "%%bash\n",
    "\n",
    "# Restart namenode and datanodes\n",
    "$HADOOP_PREFIX/etc/hadoop/hadoop-env.sh\n",
    "$HADOOP_PREFIX/sbin/start-dfs.sh\n",
    "$HADOOP_PREFIX/sbin/start-yarn.sh"
   ]
  },
  {
   "cell_type": "code",
   "execution_count": 4,
   "metadata": {
    "collapsed": false
   },
   "outputs": [
    {
     "name": "stdout",
     "output_type": "stream",
     "text": [
      "Safe mode is OFF\n"
     ]
    }
   ],
   "source": [
    "%%bash\n",
    "\n",
    "# Sometimes when the namenode is restarted, it enteres Safe Mode, \n",
    "# not allowing any changes to the file system. \n",
    "# We do want to make changes, so we manually leave Safe Mode.\n",
    "\n",
    "$HADOOP_PREFIX/bin/hdfs dfsadmin -safemode leave\n",
    "\n",
    "$HADOOP_PREFIX/bin/hdfs dfs -mkdir -p /user/$NB_USER"
   ]
  },
  {
   "cell_type": "markdown",
   "metadata": {},
   "source": [
    "-----\n",
    "\n",
    "## HDFS\n",
    "\n",
    "Next, we need to move our data to process into the Hadoop Distributed\n",
    "File system, or HDFS. HDFS is a a file system that is designed to work\n",
    "effectively with the Hadoop environment. In a typical Hadoop cluster,\n",
    "files would be broken up and distributed to different Hadoop nodes. The\n",
    "processing is moved to the data in this model, which can produce high\n",
    "throughput, especially for map/reduce programming tasks. However, this\n",
    "means you can not simply move around the HDFS file system in the same\n",
    "manner as a traditional Unix file system, since the components of a\n",
    "particular file are not all collocated. Instead, we must use the [HDFS\n",
    "file system interface][hdfs], which is invoked by using\n",
    "`$HADOOP_PREFIX/bin/hdfs`. Running this command by itself in our Hadoop\n",
    "Docker container will list the available commands, as shown in the\n",
    "following code cell.\n",
    "\n",
    "-----\n",
    "\n",
    "[hdfs]: https://hadoop.apache.org/docs/r2.7.2/hadoop-project-dist/hadoop-hdfs/HDFSCommands.html#dfs\n",
    "\n"
   ]
  },
  {
   "cell_type": "code",
   "execution_count": 5,
   "metadata": {
    "collapsed": false
   },
   "outputs": [
    {
     "name": "stdout",
     "output_type": "stream",
     "text": [
      "Usage: hdfs [--config confdir] [--loglevel loglevel] COMMAND\r\n",
      "       where COMMAND is one of:\r\n",
      "  dfs                  run a filesystem command on the file systems supported in Hadoop.\r\n",
      "  classpath            prints the classpath\r\n",
      "  namenode -format     format the DFS filesystem\r\n",
      "  secondarynamenode    run the DFS secondary namenode\r\n",
      "  namenode             run the DFS namenode\r\n",
      "  journalnode          run the DFS journalnode\r\n",
      "  zkfc                 run the ZK Failover Controller daemon\r\n",
      "  datanode             run a DFS datanode\r\n",
      "  dfsadmin             run a DFS admin client\r\n",
      "  haadmin              run a DFS HA admin client\r\n",
      "  fsck                 run a DFS filesystem checking utility\r\n",
      "  balancer             run a cluster balancing utility\r\n",
      "  jmxget               get JMX exported values from NameNode or DataNode.\r\n",
      "  mover                run a utility to move block replicas across\r\n",
      "                       storage types\r\n",
      "  oiv                  apply the offline fsimage viewer to an fsimage\r\n",
      "  oiv_legacy           apply the offline fsimage viewer to an legacy fsimage\r\n",
      "  oev                  apply the offline edits viewer to an edits file\r\n",
      "  fetchdt              fetch a delegation token from the NameNode\r\n",
      "  getconf              get config values from configuration\r\n",
      "  groups               get the groups which users belong to\r\n",
      "  snapshotDiff         diff two snapshots of a directory or diff the\r\n",
      "                       current directory contents with a snapshot\r\n",
      "  lsSnapshottableDir   list all snapshottable dirs owned by the current user\r\n",
      "\t\t\t\t\t\tUse -help to see options\r\n",
      "  portmap              run a portmap service\r\n",
      "  nfs3                 run an NFS version 3 gateway\r\n",
      "  cacheadmin           configure the HDFS cache\r\n",
      "  crypto               configure HDFS encryption zones\r\n",
      "  storagepolicies      list/get/set block storage policies\r\n",
      "  version              print the version\r\n",
      "\r\n",
      "Most commands print help when invoked w/o parameters.\r\n"
     ]
    }
   ],
   "source": [
    "!$HADOOP_PREFIX/bin/hdfs"
   ]
  },
  {
   "cell_type": "markdown",
   "metadata": {},
   "source": [
    "-----\n",
    "\n",
    "The standard command we will use is `dfs` which runs a filesystem\n",
    "command on the HDFS file system that is supported by Hadoop. The [list\n",
    "of supported `dfs` commands][dfsl] is extensive, and mirrors many of the\n",
    "traditional Unix file systems commands. The full listing can be obtained\n",
    "by entering `$HADOOP_PREFIX/bin/hdfs dfs` at the prompt in our Hadoop\n",
    "Docker container, as shown below.\n",
    "\n",
    "-----\n",
    "\n",
    "[dfsl]: https://hadoop.apache.org/docs/stable/hadoop-project-dist/hadoop-common/FileSystemShell.html"
   ]
  },
  {
   "cell_type": "code",
   "execution_count": 6,
   "metadata": {
    "collapsed": false
   },
   "outputs": [
    {
     "name": "stdout",
     "output_type": "stream",
     "text": [
      "Usage: hadoop fs [generic options]\n",
      "\t[-appendToFile <localsrc> ... <dst>]\n",
      "\t[-cat [-ignoreCrc] <src> ...]\n",
      "\t[-checksum <src> ...]\n",
      "\t[-chgrp [-R] GROUP PATH...]\n",
      "\t[-chmod [-R] <MODE[,MODE]... | OCTALMODE> PATH...]\n",
      "\t[-chown [-R] [OWNER][:[GROUP]] PATH...]\n",
      "\t[-copyFromLocal [-f] [-p] [-l] <localsrc> ... <dst>]\n",
      "\t[-copyToLocal [-p] [-ignoreCrc] [-crc] <src> ... <localdst>]\n",
      "\t[-count [-q] [-h] <path> ...]\n",
      "\t[-cp [-f] [-p | -p[topax]] <src> ... <dst>]\n",
      "\t[-createSnapshot <snapshotDir> [<snapshotName>]]\n",
      "\t[-deleteSnapshot <snapshotDir> <snapshotName>]\n",
      "\t[-df [-h] [<path> ...]]\n",
      "\t[-du [-s] [-h] <path> ...]\n",
      "\t[-expunge]\n",
      "\t[-find <path> ... <expression> ...]\n",
      "\t[-get [-p] [-ignoreCrc] [-crc] <src> ... <localdst>]\n",
      "\t[-getfacl [-R] <path>]\n",
      "\t[-getfattr [-R] {-n name | -d} [-e en] <path>]\n",
      "\t[-getmerge [-nl] <src> <localdst>]\n",
      "\t[-help [cmd ...]]\n",
      "\t[-ls [-d] [-h] [-R] [<path> ...]]\n",
      "\t[-mkdir [-p] <path> ...]\n",
      "\t[-moveFromLocal <localsrc> ... <dst>]\n",
      "\t[-moveToLocal <src> <localdst>]\n",
      "\t[-mv <src> ... <dst>]\n",
      "\t[-put [-f] [-p] [-l] <localsrc> ... <dst>]\n",
      "\t[-renameSnapshot <snapshotDir> <oldName> <newName>]\n",
      "\t[-rm [-f] [-r|-R] [-skipTrash] <src> ...]\n",
      "\t[-rmdir [--ignore-fail-on-non-empty] <dir> ...]\n",
      "\t[-setfacl [-R] [{-b|-k} {-m|-x <acl_spec>} <path>]|[--set <acl_spec> <path>]]\n",
      "\t[-setfattr {-n name [-v value] | -x name} <path>]\n",
      "\t[-setrep [-R] [-w] <rep> <path> ...]\n",
      "\t[-stat [format] <path> ...]\n",
      "\t[-tail [-f] <file>]\n",
      "\t[-test -[defsz] <path>]\n",
      "\t[-text [-ignoreCrc] <src> ...]\n",
      "\t[-touchz <path> ...]\n",
      "\t[-truncate [-w] <length> <path> ...]\n",
      "\t[-usage [cmd ...]]\n",
      "\n",
      "Generic options supported are\n",
      "-conf <configuration file>     specify an application configuration file\n",
      "-D <property=value>            use value for given property\n",
      "-fs <local|namenode:port>      specify a namenode\n",
      "-jt <local|resourcemanager:port>    specify a ResourceManager\n",
      "-files <comma separated list of files>    specify comma separated files to be copied to the map reduce cluster\n",
      "-libjars <comma separated list of jars>    specify comma separated jar files to include in the classpath.\n",
      "-archives <comma separated list of archives>    specify comma separated archives to be unarchived on the compute machines.\n",
      "\n",
      "The general command line syntax is\n",
      "bin/hadoop command [genericOptions] [commandOptions]\n",
      "\n"
     ]
    }
   ],
   "source": [
    "!$HADOOP_PREFIX/bin/hdfs dfs"
   ]
  },
  {
   "cell_type": "markdown",
   "metadata": {},
   "source": [
    "-----\n",
    "\n",
    " Some of the more useful commands for this class\n",
    "include:\n",
    "\n",
    "- `-cat`: copies the source path to STDOUT.\n",
    "\n",
    "- `-count -h`: counts the number of directories, files and byts under the\n",
    "path specified. With the `-h` flag, the output is displayed in a\n",
    "human-readable format.\n",
    "\n",
    "- `-expunge`: empties the trash. By default, files and directories are\n",
    "not removed from HDFS with the `rm` command, they are simply moved to the\n",
    "trash. This can be useful when HDFS supplies a `Name node is in safe\n",
    "mode.` message. \n",
    "\n",
    "- `-ls`: lists the contents of the indicated directory in HDFS.\n",
    "\n",
    "- `-mkdir -p`: creates a new directory in HDFS at the specified\n",
    "location. With the `-p` flag any parent directory specified in the full\n",
    "path will also be created as necessary.\n",
    "\n",
    "- `-put`: copies indicated file(s) from local host file system into the\n",
    "specified path in HDFS.\n",
    "\n",
    "- `-rm -f -r`: delete the indicated file or directory. With the `-r -f`\n",
    "flags, the command will not display any message and any will delete any\n",
    "files or directories under the indicated directory. The `-skipTrash`\n",
    "flag should be used to delete the indicated resource immediately.\n",
    "\n",
    "- `-tail`: display the last kilobyte of the indicated file to STDOUT.\n",
    "\n",
    "-----"
   ]
  },
  {
   "cell_type": "code",
   "execution_count": 7,
   "metadata": {
    "collapsed": false
   },
   "outputs": [
    {
     "name": "stdout",
     "output_type": "stream",
     "text": [
      "Found 2 items\r\n",
      "drwxrwx---   - data_scientist supergroup          0 2016-11-01 20:52 /tmp\r\n",
      "drwxr-xr-x   - data_scientist supergroup          0 2016-10-31 21:09 /user\r\n"
     ]
    }
   ],
   "source": [
    "# Display HDFS root directory structure\n",
    "!$HADOOP_PREFIX/bin/hdfs dfs -ls /"
   ]
  },
  {
   "cell_type": "code",
   "execution_count": 8,
   "metadata": {
    "collapsed": false
   },
   "outputs": [
    {
     "name": "stdout",
     "output_type": "stream",
     "text": [
      "Found 1 items\r\n",
      "drwxr-xr-x   - data_scientist supergroup          0 2016-11-01 21:54 /user/data_scientist\r\n"
     ]
    }
   ],
   "source": [
    "# Display HDFS directory\n",
    "!$HADOOP_PREFIX/bin/hdfs dfs -ls /user/"
   ]
  },
  {
   "cell_type": "code",
   "execution_count": 9,
   "metadata": {
    "collapsed": false
   },
   "outputs": [
    {
     "name": "stdout",
     "output_type": "stream",
     "text": [
      "ls: cannot access /user: No such file or directory\r\n"
     ]
    }
   ],
   "source": [
    "# Not a local filesystem directory so we get an error\n",
    "!ls /user"
   ]
  },
  {
   "cell_type": "code",
   "execution_count": 10,
   "metadata": {
    "collapsed": false
   },
   "outputs": [
    {
     "name": "stdout",
     "output_type": "stream",
     "text": [
      "Filesystem                  Size   Used  Available  Use%\r\n",
      "hdfs://6b90ae080522:9000  18.2 G  784 K    970.6 M    0%\r\n"
     ]
    }
   ],
   "source": [
    "# Free Space\n",
    "!$HADOOP_PREFIX/bin/hdfs dfs -df -h"
   ]
  },
  {
   "cell_type": "markdown",
   "metadata": {},
   "source": [
    "-----\n",
    "\n",
    "### Hadoop Example\n",
    "\n",
    "We can now turn to a complete Hadoop example. This example will run the\n",
    "`grep` command over a set of input files to search for the occurrences of\n",
    "a particular regular expression, which in this case is the three\n",
    "character sequence _dfs_ followed by one or more lowercase characters or\n",
    "a period. Hadoop tasks read inout from the HDFS filesystem and write\n",
    "their output to the HDFS file system. Thus we need to create an input\n",
    "directory, move our data to this input directory, before we can execute\n",
    "our Hadoop task. \n",
    "\n",
    "As demonstrated in the following code cell, we can do this easily with\n",
    "HDFS commands, after which we execute our specific Hadoop task. Notice\n",
    "how we include the input and output directories as part of the task\n",
    "execution. In some cases these will be indicated by flags. Finally, we\n",
    "display the directory contents, which demonstrate the successful\n",
    "completion of this task. Since Hadoop tasks can involve complex\n",
    "operations over a distributed file system, Hadoop tasks, by default,\n",
    "display a considerably quantity of information. You can capture the\n",
    "STDERR of any Hadoop (or HDFS) command to hide these informational\n",
    "messages. Of course, this will also hide any error messages, so proceed\n",
    "carefully if employing this technique.\n",
    "\n",
    "\n",
    "-----"
   ]
  },
  {
   "cell_type": "code",
   "execution_count": 11,
   "metadata": {
    "collapsed": false
   },
   "outputs": [
    {
     "name": "stdout",
     "output_type": "stream",
     "text": [
      "Deleted hadoop\n",
      "\n",
      "Hadoop Directory\n",
      "Found 1 items\n",
      "drwxr-xr-x   - data_scientist supergroup          0 2016-11-01 22:25 hadoop/input\n",
      "\n",
      "Hadoop Input Directory\n",
      "Found 9 items\n",
      "-rw-r--r--   1 data_scientist supergroup       4436 2016-11-01 22:25 hadoop/input/capacity-scheduler.xml\n",
      "-rw-r--r--   1 data_scientist supergroup        158 2016-11-01 22:25 hadoop/input/core-site.xml\n",
      "-rw-r--r--   1 data_scientist supergroup       9683 2016-11-01 22:25 hadoop/input/hadoop-policy.xml\n",
      "-rw-r--r--   1 data_scientist supergroup        354 2016-11-01 22:25 hadoop/input/hdfs-site.xml\n",
      "-rw-r--r--   1 data_scientist supergroup        620 2016-11-01 22:25 hadoop/input/httpfs-site.xml\n",
      "-rw-r--r--   1 data_scientist supergroup       3518 2016-11-01 22:25 hadoop/input/kms-acls.xml\n",
      "-rw-r--r--   1 data_scientist supergroup       5511 2016-11-01 22:25 hadoop/input/kms-site.xml\n",
      "-rw-r--r--   1 data_scientist supergroup        357 2016-11-01 22:25 hadoop/input/mapred-site.xml\n",
      "-rw-r--r--   1 data_scientist supergroup       1703 2016-11-01 22:25 hadoop/input/yarn-site.xml\n",
      "\n",
      "Hadoop Output Directory\n"
     ]
    },
    {
     "name": "stderr",
     "output_type": "stream",
     "text": [
      "16/11/01 22:25:19 INFO fs.TrashPolicyDefault: Namenode trash configuration: Deletion interval = 0 minutes, Emptier interval = 0 minutes.\n",
      "16/11/01 22:25:31 INFO client.RMProxy: Connecting to ResourceManager at 6b90ae080522/172.17.0.1:8032\n",
      "16/11/01 22:25:32 INFO ipc.Client: Retrying connect to server: 6b90ae080522/172.17.0.1:8032. Already tried 0 time(s); retry policy is RetryUpToMaximumCountWithFixedSleep(maxRetries=10, sleepTime=1000 MILLISECONDS)\n",
      "16/11/01 22:25:33 INFO ipc.Client: Retrying connect to server: 6b90ae080522/172.17.0.1:8032. Already tried 1 time(s); retry policy is RetryUpToMaximumCountWithFixedSleep(maxRetries=10, sleepTime=1000 MILLISECONDS)\n",
      "16/11/01 22:25:34 INFO ipc.Client: Retrying connect to server: 6b90ae080522/172.17.0.1:8032. Already tried 2 time(s); retry policy is RetryUpToMaximumCountWithFixedSleep(maxRetries=10, sleepTime=1000 MILLISECONDS)\n",
      "16/11/01 22:25:35 INFO ipc.Client: Retrying connect to server: 6b90ae080522/172.17.0.1:8032. Already tried 3 time(s); retry policy is RetryUpToMaximumCountWithFixedSleep(maxRetries=10, sleepTime=1000 MILLISECONDS)\n",
      "16/11/01 22:25:36 INFO ipc.Client: Retrying connect to server: 6b90ae080522/172.17.0.1:8032. Already tried 4 time(s); retry policy is RetryUpToMaximumCountWithFixedSleep(maxRetries=10, sleepTime=1000 MILLISECONDS)\n",
      "16/11/01 22:25:37 INFO ipc.Client: Retrying connect to server: 6b90ae080522/172.17.0.1:8032. Already tried 5 time(s); retry policy is RetryUpToMaximumCountWithFixedSleep(maxRetries=10, sleepTime=1000 MILLISECONDS)\n",
      "16/11/01 22:25:38 INFO ipc.Client: Retrying connect to server: 6b90ae080522/172.17.0.1:8032. Already tried 6 time(s); retry policy is RetryUpToMaximumCountWithFixedSleep(maxRetries=10, sleepTime=1000 MILLISECONDS)\n",
      "16/11/01 22:25:39 INFO ipc.Client: Retrying connect to server: 6b90ae080522/172.17.0.1:8032. Already tried 7 time(s); retry policy is RetryUpToMaximumCountWithFixedSleep(maxRetries=10, sleepTime=1000 MILLISECONDS)\n",
      "16/11/01 22:25:40 INFO ipc.Client: Retrying connect to server: 6b90ae080522/172.17.0.1:8032. Already tried 8 time(s); retry policy is RetryUpToMaximumCountWithFixedSleep(maxRetries=10, sleepTime=1000 MILLISECONDS)\n",
      "16/11/01 22:25:41 INFO ipc.Client: Retrying connect to server: 6b90ae080522/172.17.0.1:8032. Already tried 9 time(s); retry policy is RetryUpToMaximumCountWithFixedSleep(maxRetries=10, sleepTime=1000 MILLISECONDS)\n",
      "16/11/01 22:26:12 INFO ipc.Client: Retrying connect to server: 6b90ae080522/172.17.0.1:8032. Already tried 0 time(s); retry policy is RetryUpToMaximumCountWithFixedSleep(maxRetries=10, sleepTime=1000 MILLISECONDS)\n",
      "16/11/01 22:26:13 INFO ipc.Client: Retrying connect to server: 6b90ae080522/172.17.0.1:8032. Already tried 1 time(s); retry policy is RetryUpToMaximumCountWithFixedSleep(maxRetries=10, sleepTime=1000 MILLISECONDS)\n",
      "16/11/01 22:26:14 INFO ipc.Client: Retrying connect to server: 6b90ae080522/172.17.0.1:8032. Already tried 2 time(s); retry policy is RetryUpToMaximumCountWithFixedSleep(maxRetries=10, sleepTime=1000 MILLISECONDS)\n",
      "16/11/01 22:26:15 INFO ipc.Client: Retrying connect to server: 6b90ae080522/172.17.0.1:8032. Already tried 3 time(s); retry policy is RetryUpToMaximumCountWithFixedSleep(maxRetries=10, sleepTime=1000 MILLISECONDS)\n",
      "16/11/01 22:26:16 INFO ipc.Client: Retrying connect to server: 6b90ae080522/172.17.0.1:8032. Already tried 4 time(s); retry policy is RetryUpToMaximumCountWithFixedSleep(maxRetries=10, sleepTime=1000 MILLISECONDS)\n",
      "16/11/01 22:26:17 INFO ipc.Client: Retrying connect to server: 6b90ae080522/172.17.0.1:8032. Already tried 5 time(s); retry policy is RetryUpToMaximumCountWithFixedSleep(maxRetries=10, sleepTime=1000 MILLISECONDS)\n",
      "16/11/01 22:26:18 INFO ipc.Client: Retrying connect to server: 6b90ae080522/172.17.0.1:8032. Already tried 6 time(s); retry policy is RetryUpToMaximumCountWithFixedSleep(maxRetries=10, sleepTime=1000 MILLISECONDS)\n",
      "16/11/01 22:26:19 INFO ipc.Client: Retrying connect to server: 6b90ae080522/172.17.0.1:8032. Already tried 7 time(s); retry policy is RetryUpToMaximumCountWithFixedSleep(maxRetries=10, sleepTime=1000 MILLISECONDS)\n",
      "16/11/01 22:26:20 INFO ipc.Client: Retrying connect to server: 6b90ae080522/172.17.0.1:8032. Already tried 8 time(s); retry policy is RetryUpToMaximumCountWithFixedSleep(maxRetries=10, sleepTime=1000 MILLISECONDS)\n",
      "16/11/01 22:26:21 INFO ipc.Client: Retrying connect to server: 6b90ae080522/172.17.0.1:8032. Already tried 9 time(s); retry policy is RetryUpToMaximumCountWithFixedSleep(maxRetries=10, sleepTime=1000 MILLISECONDS)\n",
      "16/11/01 22:26:52 INFO ipc.Client: Retrying connect to server: 6b90ae080522/172.17.0.1:8032. Already tried 0 time(s); retry policy is RetryUpToMaximumCountWithFixedSleep(maxRetries=10, sleepTime=1000 MILLISECONDS)\n",
      "16/11/01 22:26:53 INFO ipc.Client: Retrying connect to server: 6b90ae080522/172.17.0.1:8032. Already tried 1 time(s); retry policy is RetryUpToMaximumCountWithFixedSleep(maxRetries=10, sleepTime=1000 MILLISECONDS)\n",
      "16/11/01 22:26:54 INFO ipc.Client: Retrying connect to server: 6b90ae080522/172.17.0.1:8032. Already tried 2 time(s); retry policy is RetryUpToMaximumCountWithFixedSleep(maxRetries=10, sleepTime=1000 MILLISECONDS)\n",
      "16/11/01 22:26:55 INFO ipc.Client: Retrying connect to server: 6b90ae080522/172.17.0.1:8032. Already tried 3 time(s); retry policy is RetryUpToMaximumCountWithFixedSleep(maxRetries=10, sleepTime=1000 MILLISECONDS)\n",
      "16/11/01 22:26:56 INFO ipc.Client: Retrying connect to server: 6b90ae080522/172.17.0.1:8032. Already tried 4 time(s); retry policy is RetryUpToMaximumCountWithFixedSleep(maxRetries=10, sleepTime=1000 MILLISECONDS)\n",
      "16/11/01 22:26:57 INFO ipc.Client: Retrying connect to server: 6b90ae080522/172.17.0.1:8032. Already tried 5 time(s); retry policy is RetryUpToMaximumCountWithFixedSleep(maxRetries=10, sleepTime=1000 MILLISECONDS)\n",
      "16/11/01 22:26:58 INFO ipc.Client: Retrying connect to server: 6b90ae080522/172.17.0.1:8032. Already tried 6 time(s); retry policy is RetryUpToMaximumCountWithFixedSleep(maxRetries=10, sleepTime=1000 MILLISECONDS)\n",
      "16/11/01 22:26:59 INFO ipc.Client: Retrying connect to server: 6b90ae080522/172.17.0.1:8032. Already tried 7 time(s); retry policy is RetryUpToMaximumCountWithFixedSleep(maxRetries=10, sleepTime=1000 MILLISECONDS)\n",
      "16/11/01 22:27:00 INFO ipc.Client: Retrying connect to server: 6b90ae080522/172.17.0.1:8032. Already tried 8 time(s); retry policy is RetryUpToMaximumCountWithFixedSleep(maxRetries=10, sleepTime=1000 MILLISECONDS)\n",
      "16/11/01 22:27:01 INFO ipc.Client: Retrying connect to server: 6b90ae080522/172.17.0.1:8032. Already tried 9 time(s); retry policy is RetryUpToMaximumCountWithFixedSleep(maxRetries=10, sleepTime=1000 MILLISECONDS)\n",
      "16/11/01 22:27:32 INFO ipc.Client: Retrying connect to server: 6b90ae080522/172.17.0.1:8032. Already tried 0 time(s); retry policy is RetryUpToMaximumCountWithFixedSleep(maxRetries=10, sleepTime=1000 MILLISECONDS)\n",
      "16/11/01 22:27:33 INFO ipc.Client: Retrying connect to server: 6b90ae080522/172.17.0.1:8032. Already tried 1 time(s); retry policy is RetryUpToMaximumCountWithFixedSleep(maxRetries=10, sleepTime=1000 MILLISECONDS)\n",
      "16/11/01 22:27:34 INFO ipc.Client: Retrying connect to server: 6b90ae080522/172.17.0.1:8032. Already tried 2 time(s); retry policy is RetryUpToMaximumCountWithFixedSleep(maxRetries=10, sleepTime=1000 MILLISECONDS)\n",
      "16/11/01 22:27:35 INFO ipc.Client: Retrying connect to server: 6b90ae080522/172.17.0.1:8032. Already tried 3 time(s); retry policy is RetryUpToMaximumCountWithFixedSleep(maxRetries=10, sleepTime=1000 MILLISECONDS)\n",
      "16/11/01 22:27:36 INFO ipc.Client: Retrying connect to server: 6b90ae080522/172.17.0.1:8032. Already tried 4 time(s); retry policy is RetryUpToMaximumCountWithFixedSleep(maxRetries=10, sleepTime=1000 MILLISECONDS)\n",
      "16/11/01 22:27:37 INFO ipc.Client: Retrying connect to server: 6b90ae080522/172.17.0.1:8032. Already tried 5 time(s); retry policy is RetryUpToMaximumCountWithFixedSleep(maxRetries=10, sleepTime=1000 MILLISECONDS)\n",
      "16/11/01 22:27:38 INFO ipc.Client: Retrying connect to server: 6b90ae080522/172.17.0.1:8032. Already tried 6 time(s); retry policy is RetryUpToMaximumCountWithFixedSleep(maxRetries=10, sleepTime=1000 MILLISECONDS)\n",
      "16/11/01 22:27:39 INFO ipc.Client: Retrying connect to server: 6b90ae080522/172.17.0.1:8032. Already tried 7 time(s); retry policy is RetryUpToMaximumCountWithFixedSleep(maxRetries=10, sleepTime=1000 MILLISECONDS)\n",
      "16/11/01 22:27:40 INFO ipc.Client: Retrying connect to server: 6b90ae080522/172.17.0.1:8032. Already tried 8 time(s); retry policy is RetryUpToMaximumCountWithFixedSleep(maxRetries=10, sleepTime=1000 MILLISECONDS)\n",
      "16/11/01 22:27:41 INFO ipc.Client: Retrying connect to server: 6b90ae080522/172.17.0.1:8032. Already tried 9 time(s); retry policy is RetryUpToMaximumCountWithFixedSleep(maxRetries=10, sleepTime=1000 MILLISECONDS)\n",
      "16/11/01 22:28:12 INFO ipc.Client: Retrying connect to server: 6b90ae080522/172.17.0.1:8032. Already tried 0 time(s); retry policy is RetryUpToMaximumCountWithFixedSleep(maxRetries=10, sleepTime=1000 MILLISECONDS)\n",
      "16/11/01 22:28:13 INFO ipc.Client: Retrying connect to server: 6b90ae080522/172.17.0.1:8032. Already tried 1 time(s); retry policy is RetryUpToMaximumCountWithFixedSleep(maxRetries=10, sleepTime=1000 MILLISECONDS)\n",
      "16/11/01 22:28:14 INFO ipc.Client: Retrying connect to server: 6b90ae080522/172.17.0.1:8032. Already tried 2 time(s); retry policy is RetryUpToMaximumCountWithFixedSleep(maxRetries=10, sleepTime=1000 MILLISECONDS)\n",
      "16/11/01 22:28:15 INFO ipc.Client: Retrying connect to server: 6b90ae080522/172.17.0.1:8032. Already tried 3 time(s); retry policy is RetryUpToMaximumCountWithFixedSleep(maxRetries=10, sleepTime=1000 MILLISECONDS)\n",
      "16/11/01 22:28:16 INFO ipc.Client: Retrying connect to server: 6b90ae080522/172.17.0.1:8032. Already tried 4 time(s); retry policy is RetryUpToMaximumCountWithFixedSleep(maxRetries=10, sleepTime=1000 MILLISECONDS)\n",
      "16/11/01 22:28:17 INFO ipc.Client: Retrying connect to server: 6b90ae080522/172.17.0.1:8032. Already tried 5 time(s); retry policy is RetryUpToMaximumCountWithFixedSleep(maxRetries=10, sleepTime=1000 MILLISECONDS)\n",
      "16/11/01 22:28:18 INFO ipc.Client: Retrying connect to server: 6b90ae080522/172.17.0.1:8032. Already tried 6 time(s); retry policy is RetryUpToMaximumCountWithFixedSleep(maxRetries=10, sleepTime=1000 MILLISECONDS)\n",
      "16/11/01 22:28:19 INFO ipc.Client: Retrying connect to server: 6b90ae080522/172.17.0.1:8032. Already tried 7 time(s); retry policy is RetryUpToMaximumCountWithFixedSleep(maxRetries=10, sleepTime=1000 MILLISECONDS)\n",
      "16/11/01 22:28:20 INFO ipc.Client: Retrying connect to server: 6b90ae080522/172.17.0.1:8032. Already tried 8 time(s); retry policy is RetryUpToMaximumCountWithFixedSleep(maxRetries=10, sleepTime=1000 MILLISECONDS)\n",
      "16/11/01 22:28:21 INFO ipc.Client: Retrying connect to server: 6b90ae080522/172.17.0.1:8032. Already tried 9 time(s); retry policy is RetryUpToMaximumCountWithFixedSleep(maxRetries=10, sleepTime=1000 MILLISECONDS)\n",
      "16/11/01 22:28:52 INFO ipc.Client: Retrying connect to server: 6b90ae080522/172.17.0.1:8032. Already tried 0 time(s); retry policy is RetryUpToMaximumCountWithFixedSleep(maxRetries=10, sleepTime=1000 MILLISECONDS)\n",
      "16/11/01 22:28:53 INFO ipc.Client: Retrying connect to server: 6b90ae080522/172.17.0.1:8032. Already tried 1 time(s); retry policy is RetryUpToMaximumCountWithFixedSleep(maxRetries=10, sleepTime=1000 MILLISECONDS)\n",
      "16/11/01 22:28:54 INFO ipc.Client: Retrying connect to server: 6b90ae080522/172.17.0.1:8032. Already tried 2 time(s); retry policy is RetryUpToMaximumCountWithFixedSleep(maxRetries=10, sleepTime=1000 MILLISECONDS)\n",
      "16/11/01 22:28:55 INFO ipc.Client: Retrying connect to server: 6b90ae080522/172.17.0.1:8032. Already tried 3 time(s); retry policy is RetryUpToMaximumCountWithFixedSleep(maxRetries=10, sleepTime=1000 MILLISECONDS)\n",
      "16/11/01 22:28:56 INFO ipc.Client: Retrying connect to server: 6b90ae080522/172.17.0.1:8032. Already tried 4 time(s); retry policy is RetryUpToMaximumCountWithFixedSleep(maxRetries=10, sleepTime=1000 MILLISECONDS)\n",
      "16/11/01 22:28:57 INFO ipc.Client: Retrying connect to server: 6b90ae080522/172.17.0.1:8032. Already tried 5 time(s); retry policy is RetryUpToMaximumCountWithFixedSleep(maxRetries=10, sleepTime=1000 MILLISECONDS)\n",
      "16/11/01 22:28:58 INFO ipc.Client: Retrying connect to server: 6b90ae080522/172.17.0.1:8032. Already tried 6 time(s); retry policy is RetryUpToMaximumCountWithFixedSleep(maxRetries=10, sleepTime=1000 MILLISECONDS)\n",
      "16/11/01 22:28:59 INFO ipc.Client: Retrying connect to server: 6b90ae080522/172.17.0.1:8032. Already tried 7 time(s); retry policy is RetryUpToMaximumCountWithFixedSleep(maxRetries=10, sleepTime=1000 MILLISECONDS)\n",
      "16/11/01 22:29:00 INFO ipc.Client: Retrying connect to server: 6b90ae080522/172.17.0.1:8032. Already tried 8 time(s); retry policy is RetryUpToMaximumCountWithFixedSleep(maxRetries=10, sleepTime=1000 MILLISECONDS)\n",
      "16/11/01 22:29:01 INFO ipc.Client: Retrying connect to server: 6b90ae080522/172.17.0.1:8032. Already tried 9 time(s); retry policy is RetryUpToMaximumCountWithFixedSleep(maxRetries=10, sleepTime=1000 MILLISECONDS)\n",
      "16/11/01 22:29:32 INFO ipc.Client: Retrying connect to server: 6b90ae080522/172.17.0.1:8032. Already tried 0 time(s); retry policy is RetryUpToMaximumCountWithFixedSleep(maxRetries=10, sleepTime=1000 MILLISECONDS)\n",
      "16/11/01 22:29:33 INFO ipc.Client: Retrying connect to server: 6b90ae080522/172.17.0.1:8032. Already tried 1 time(s); retry policy is RetryUpToMaximumCountWithFixedSleep(maxRetries=10, sleepTime=1000 MILLISECONDS)\n",
      "16/11/01 22:29:34 INFO ipc.Client: Retrying connect to server: 6b90ae080522/172.17.0.1:8032. Already tried 2 time(s); retry policy is RetryUpToMaximumCountWithFixedSleep(maxRetries=10, sleepTime=1000 MILLISECONDS)\n",
      "16/11/01 22:29:35 INFO ipc.Client: Retrying connect to server: 6b90ae080522/172.17.0.1:8032. Already tried 3 time(s); retry policy is RetryUpToMaximumCountWithFixedSleep(maxRetries=10, sleepTime=1000 MILLISECONDS)\n",
      "16/11/01 22:29:36 INFO ipc.Client: Retrying connect to server: 6b90ae080522/172.17.0.1:8032. Already tried 4 time(s); retry policy is RetryUpToMaximumCountWithFixedSleep(maxRetries=10, sleepTime=1000 MILLISECONDS)\n",
      "16/11/01 22:29:37 INFO ipc.Client: Retrying connect to server: 6b90ae080522/172.17.0.1:8032. Already tried 5 time(s); retry policy is RetryUpToMaximumCountWithFixedSleep(maxRetries=10, sleepTime=1000 MILLISECONDS)\n",
      "16/11/01 22:29:38 INFO ipc.Client: Retrying connect to server: 6b90ae080522/172.17.0.1:8032. Already tried 6 time(s); retry policy is RetryUpToMaximumCountWithFixedSleep(maxRetries=10, sleepTime=1000 MILLISECONDS)\n",
      "16/11/01 22:29:39 INFO ipc.Client: Retrying connect to server: 6b90ae080522/172.17.0.1:8032. Already tried 7 time(s); retry policy is RetryUpToMaximumCountWithFixedSleep(maxRetries=10, sleepTime=1000 MILLISECONDS)\n",
      "16/11/01 22:29:40 INFO ipc.Client: Retrying connect to server: 6b90ae080522/172.17.0.1:8032. Already tried 8 time(s); retry policy is RetryUpToMaximumCountWithFixedSleep(maxRetries=10, sleepTime=1000 MILLISECONDS)\n",
      "16/11/01 22:29:41 INFO ipc.Client: Retrying connect to server: 6b90ae080522/172.17.0.1:8032. Already tried 9 time(s); retry policy is RetryUpToMaximumCountWithFixedSleep(maxRetries=10, sleepTime=1000 MILLISECONDS)\n",
      "16/11/01 22:30:12 INFO ipc.Client: Retrying connect to server: 6b90ae080522/172.17.0.1:8032. Already tried 0 time(s); retry policy is RetryUpToMaximumCountWithFixedSleep(maxRetries=10, sleepTime=1000 MILLISECONDS)\n",
      "16/11/01 22:30:13 INFO ipc.Client: Retrying connect to server: 6b90ae080522/172.17.0.1:8032. Already tried 1 time(s); retry policy is RetryUpToMaximumCountWithFixedSleep(maxRetries=10, sleepTime=1000 MILLISECONDS)\n",
      "16/11/01 22:30:14 INFO ipc.Client: Retrying connect to server: 6b90ae080522/172.17.0.1:8032. Already tried 2 time(s); retry policy is RetryUpToMaximumCountWithFixedSleep(maxRetries=10, sleepTime=1000 MILLISECONDS)\n",
      "16/11/01 22:30:15 INFO ipc.Client: Retrying connect to server: 6b90ae080522/172.17.0.1:8032. Already tried 3 time(s); retry policy is RetryUpToMaximumCountWithFixedSleep(maxRetries=10, sleepTime=1000 MILLISECONDS)\n",
      "16/11/01 22:30:16 INFO ipc.Client: Retrying connect to server: 6b90ae080522/172.17.0.1:8032. Already tried 4 time(s); retry policy is RetryUpToMaximumCountWithFixedSleep(maxRetries=10, sleepTime=1000 MILLISECONDS)\n",
      "16/11/01 22:30:17 INFO ipc.Client: Retrying connect to server: 6b90ae080522/172.17.0.1:8032. Already tried 5 time(s); retry policy is RetryUpToMaximumCountWithFixedSleep(maxRetries=10, sleepTime=1000 MILLISECONDS)\n",
      "16/11/01 22:30:18 INFO ipc.Client: Retrying connect to server: 6b90ae080522/172.17.0.1:8032. Already tried 6 time(s); retry policy is RetryUpToMaximumCountWithFixedSleep(maxRetries=10, sleepTime=1000 MILLISECONDS)\n",
      "16/11/01 22:30:19 INFO ipc.Client: Retrying connect to server: 6b90ae080522/172.17.0.1:8032. Already tried 7 time(s); retry policy is RetryUpToMaximumCountWithFixedSleep(maxRetries=10, sleepTime=1000 MILLISECONDS)\n",
      "16/11/01 22:30:20 INFO ipc.Client: Retrying connect to server: 6b90ae080522/172.17.0.1:8032. Already tried 8 time(s); retry policy is RetryUpToMaximumCountWithFixedSleep(maxRetries=10, sleepTime=1000 MILLISECONDS)\n",
      "16/11/01 22:30:21 INFO ipc.Client: Retrying connect to server: 6b90ae080522/172.17.0.1:8032. Already tried 9 time(s); retry policy is RetryUpToMaximumCountWithFixedSleep(maxRetries=10, sleepTime=1000 MILLISECONDS)\n",
      "16/11/01 22:30:52 INFO ipc.Client: Retrying connect to server: 6b90ae080522/172.17.0.1:8032. Already tried 0 time(s); retry policy is RetryUpToMaximumCountWithFixedSleep(maxRetries=10, sleepTime=1000 MILLISECONDS)\n",
      "16/11/01 22:30:53 INFO ipc.Client: Retrying connect to server: 6b90ae080522/172.17.0.1:8032. Already tried 1 time(s); retry policy is RetryUpToMaximumCountWithFixedSleep(maxRetries=10, sleepTime=1000 MILLISECONDS)\n",
      "16/11/01 22:30:54 INFO ipc.Client: Retrying connect to server: 6b90ae080522/172.17.0.1:8032. Already tried 2 time(s); retry policy is RetryUpToMaximumCountWithFixedSleep(maxRetries=10, sleepTime=1000 MILLISECONDS)\n",
      "16/11/01 22:30:55 INFO ipc.Client: Retrying connect to server: 6b90ae080522/172.17.0.1:8032. Already tried 3 time(s); retry policy is RetryUpToMaximumCountWithFixedSleep(maxRetries=10, sleepTime=1000 MILLISECONDS)\n",
      "16/11/01 22:30:56 INFO ipc.Client: Retrying connect to server: 6b90ae080522/172.17.0.1:8032. Already tried 4 time(s); retry policy is RetryUpToMaximumCountWithFixedSleep(maxRetries=10, sleepTime=1000 MILLISECONDS)\n",
      "16/11/01 22:30:57 INFO ipc.Client: Retrying connect to server: 6b90ae080522/172.17.0.1:8032. Already tried 5 time(s); retry policy is RetryUpToMaximumCountWithFixedSleep(maxRetries=10, sleepTime=1000 MILLISECONDS)\n",
      "16/11/01 22:30:58 INFO ipc.Client: Retrying connect to server: 6b90ae080522/172.17.0.1:8032. Already tried 6 time(s); retry policy is RetryUpToMaximumCountWithFixedSleep(maxRetries=10, sleepTime=1000 MILLISECONDS)\n",
      "16/11/01 22:30:59 INFO ipc.Client: Retrying connect to server: 6b90ae080522/172.17.0.1:8032. Already tried 7 time(s); retry policy is RetryUpToMaximumCountWithFixedSleep(maxRetries=10, sleepTime=1000 MILLISECONDS)\n",
      "16/11/01 22:31:00 INFO ipc.Client: Retrying connect to server: 6b90ae080522/172.17.0.1:8032. Already tried 8 time(s); retry policy is RetryUpToMaximumCountWithFixedSleep(maxRetries=10, sleepTime=1000 MILLISECONDS)\n",
      "16/11/01 22:31:01 INFO ipc.Client: Retrying connect to server: 6b90ae080522/172.17.0.1:8032. Already tried 9 time(s); retry policy is RetryUpToMaximumCountWithFixedSleep(maxRetries=10, sleepTime=1000 MILLISECONDS)\n",
      "16/11/01 22:31:32 INFO ipc.Client: Retrying connect to server: 6b90ae080522/172.17.0.1:8032. Already tried 0 time(s); retry policy is RetryUpToMaximumCountWithFixedSleep(maxRetries=10, sleepTime=1000 MILLISECONDS)\n",
      "16/11/01 22:31:33 INFO ipc.Client: Retrying connect to server: 6b90ae080522/172.17.0.1:8032. Already tried 1 time(s); retry policy is RetryUpToMaximumCountWithFixedSleep(maxRetries=10, sleepTime=1000 MILLISECONDS)\n",
      "16/11/01 22:31:34 INFO ipc.Client: Retrying connect to server: 6b90ae080522/172.17.0.1:8032. Already tried 2 time(s); retry policy is RetryUpToMaximumCountWithFixedSleep(maxRetries=10, sleepTime=1000 MILLISECONDS)\n",
      "16/11/01 22:31:35 INFO ipc.Client: Retrying connect to server: 6b90ae080522/172.17.0.1:8032. Already tried 3 time(s); retry policy is RetryUpToMaximumCountWithFixedSleep(maxRetries=10, sleepTime=1000 MILLISECONDS)\n",
      "16/11/01 22:31:36 INFO ipc.Client: Retrying connect to server: 6b90ae080522/172.17.0.1:8032. Already tried 4 time(s); retry policy is RetryUpToMaximumCountWithFixedSleep(maxRetries=10, sleepTime=1000 MILLISECONDS)\n",
      "16/11/01 22:31:37 INFO ipc.Client: Retrying connect to server: 6b90ae080522/172.17.0.1:8032. Already tried 5 time(s); retry policy is RetryUpToMaximumCountWithFixedSleep(maxRetries=10, sleepTime=1000 MILLISECONDS)\n",
      "16/11/01 22:31:38 INFO ipc.Client: Retrying connect to server: 6b90ae080522/172.17.0.1:8032. Already tried 6 time(s); retry policy is RetryUpToMaximumCountWithFixedSleep(maxRetries=10, sleepTime=1000 MILLISECONDS)\n",
      "16/11/01 22:31:39 INFO ipc.Client: Retrying connect to server: 6b90ae080522/172.17.0.1:8032. Already tried 7 time(s); retry policy is RetryUpToMaximumCountWithFixedSleep(maxRetries=10, sleepTime=1000 MILLISECONDS)\n",
      "16/11/01 22:31:40 INFO ipc.Client: Retrying connect to server: 6b90ae080522/172.17.0.1:8032. Already tried 8 time(s); retry policy is RetryUpToMaximumCountWithFixedSleep(maxRetries=10, sleepTime=1000 MILLISECONDS)\n",
      "16/11/01 22:31:41 INFO ipc.Client: Retrying connect to server: 6b90ae080522/172.17.0.1:8032. Already tried 9 time(s); retry policy is RetryUpToMaximumCountWithFixedSleep(maxRetries=10, sleepTime=1000 MILLISECONDS)\n",
      "16/11/01 22:32:12 INFO ipc.Client: Retrying connect to server: 6b90ae080522/172.17.0.1:8032. Already tried 0 time(s); retry policy is RetryUpToMaximumCountWithFixedSleep(maxRetries=10, sleepTime=1000 MILLISECONDS)\n",
      "16/11/01 22:32:13 INFO ipc.Client: Retrying connect to server: 6b90ae080522/172.17.0.1:8032. Already tried 1 time(s); retry policy is RetryUpToMaximumCountWithFixedSleep(maxRetries=10, sleepTime=1000 MILLISECONDS)\n",
      "16/11/01 22:32:14 INFO ipc.Client: Retrying connect to server: 6b90ae080522/172.17.0.1:8032. Already tried 2 time(s); retry policy is RetryUpToMaximumCountWithFixedSleep(maxRetries=10, sleepTime=1000 MILLISECONDS)\n",
      "16/11/01 22:32:15 INFO ipc.Client: Retrying connect to server: 6b90ae080522/172.17.0.1:8032. Already tried 3 time(s); retry policy is RetryUpToMaximumCountWithFixedSleep(maxRetries=10, sleepTime=1000 MILLISECONDS)\n",
      "16/11/01 22:32:16 INFO ipc.Client: Retrying connect to server: 6b90ae080522/172.17.0.1:8032. Already tried 4 time(s); retry policy is RetryUpToMaximumCountWithFixedSleep(maxRetries=10, sleepTime=1000 MILLISECONDS)\n",
      "16/11/01 22:32:17 INFO ipc.Client: Retrying connect to server: 6b90ae080522/172.17.0.1:8032. Already tried 5 time(s); retry policy is RetryUpToMaximumCountWithFixedSleep(maxRetries=10, sleepTime=1000 MILLISECONDS)\n",
      "16/11/01 22:32:18 INFO ipc.Client: Retrying connect to server: 6b90ae080522/172.17.0.1:8032. Already tried 6 time(s); retry policy is RetryUpToMaximumCountWithFixedSleep(maxRetries=10, sleepTime=1000 MILLISECONDS)\n",
      "16/11/01 22:32:19 INFO ipc.Client: Retrying connect to server: 6b90ae080522/172.17.0.1:8032. Already tried 7 time(s); retry policy is RetryUpToMaximumCountWithFixedSleep(maxRetries=10, sleepTime=1000 MILLISECONDS)\n",
      "16/11/01 22:32:20 INFO ipc.Client: Retrying connect to server: 6b90ae080522/172.17.0.1:8032. Already tried 8 time(s); retry policy is RetryUpToMaximumCountWithFixedSleep(maxRetries=10, sleepTime=1000 MILLISECONDS)\n",
      "16/11/01 22:32:21 INFO ipc.Client: Retrying connect to server: 6b90ae080522/172.17.0.1:8032. Already tried 9 time(s); retry policy is RetryUpToMaximumCountWithFixedSleep(maxRetries=10, sleepTime=1000 MILLISECONDS)\n",
      "16/11/01 22:32:52 INFO ipc.Client: Retrying connect to server: 6b90ae080522/172.17.0.1:8032. Already tried 0 time(s); retry policy is RetryUpToMaximumCountWithFixedSleep(maxRetries=10, sleepTime=1000 MILLISECONDS)\n",
      "16/11/01 22:32:53 INFO ipc.Client: Retrying connect to server: 6b90ae080522/172.17.0.1:8032. Already tried 1 time(s); retry policy is RetryUpToMaximumCountWithFixedSleep(maxRetries=10, sleepTime=1000 MILLISECONDS)\n",
      "16/11/01 22:32:54 INFO ipc.Client: Retrying connect to server: 6b90ae080522/172.17.0.1:8032. Already tried 2 time(s); retry policy is RetryUpToMaximumCountWithFixedSleep(maxRetries=10, sleepTime=1000 MILLISECONDS)\n",
      "16/11/01 22:32:55 INFO ipc.Client: Retrying connect to server: 6b90ae080522/172.17.0.1:8032. Already tried 3 time(s); retry policy is RetryUpToMaximumCountWithFixedSleep(maxRetries=10, sleepTime=1000 MILLISECONDS)\n",
      "16/11/01 22:32:56 INFO ipc.Client: Retrying connect to server: 6b90ae080522/172.17.0.1:8032. Already tried 4 time(s); retry policy is RetryUpToMaximumCountWithFixedSleep(maxRetries=10, sleepTime=1000 MILLISECONDS)\n",
      "16/11/01 22:32:57 INFO ipc.Client: Retrying connect to server: 6b90ae080522/172.17.0.1:8032. Already tried 5 time(s); retry policy is RetryUpToMaximumCountWithFixedSleep(maxRetries=10, sleepTime=1000 MILLISECONDS)\n",
      "16/11/01 22:32:58 INFO ipc.Client: Retrying connect to server: 6b90ae080522/172.17.0.1:8032. Already tried 6 time(s); retry policy is RetryUpToMaximumCountWithFixedSleep(maxRetries=10, sleepTime=1000 MILLISECONDS)\n",
      "16/11/01 22:32:59 INFO ipc.Client: Retrying connect to server: 6b90ae080522/172.17.0.1:8032. Already tried 7 time(s); retry policy is RetryUpToMaximumCountWithFixedSleep(maxRetries=10, sleepTime=1000 MILLISECONDS)\n",
      "16/11/01 22:33:00 INFO ipc.Client: Retrying connect to server: 6b90ae080522/172.17.0.1:8032. Already tried 8 time(s); retry policy is RetryUpToMaximumCountWithFixedSleep(maxRetries=10, sleepTime=1000 MILLISECONDS)\n",
      "16/11/01 22:33:01 INFO ipc.Client: Retrying connect to server: 6b90ae080522/172.17.0.1:8032. Already tried 9 time(s); retry policy is RetryUpToMaximumCountWithFixedSleep(maxRetries=10, sleepTime=1000 MILLISECONDS)\n",
      "16/11/01 22:33:32 INFO ipc.Client: Retrying connect to server: 6b90ae080522/172.17.0.1:8032. Already tried 0 time(s); retry policy is RetryUpToMaximumCountWithFixedSleep(maxRetries=10, sleepTime=1000 MILLISECONDS)\n",
      "16/11/01 22:33:33 INFO ipc.Client: Retrying connect to server: 6b90ae080522/172.17.0.1:8032. Already tried 1 time(s); retry policy is RetryUpToMaximumCountWithFixedSleep(maxRetries=10, sleepTime=1000 MILLISECONDS)\n",
      "16/11/01 22:33:34 INFO ipc.Client: Retrying connect to server: 6b90ae080522/172.17.0.1:8032. Already tried 2 time(s); retry policy is RetryUpToMaximumCountWithFixedSleep(maxRetries=10, sleepTime=1000 MILLISECONDS)\n",
      "16/11/01 22:33:35 INFO ipc.Client: Retrying connect to server: 6b90ae080522/172.17.0.1:8032. Already tried 3 time(s); retry policy is RetryUpToMaximumCountWithFixedSleep(maxRetries=10, sleepTime=1000 MILLISECONDS)\n",
      "16/11/01 22:33:36 INFO ipc.Client: Retrying connect to server: 6b90ae080522/172.17.0.1:8032. Already tried 4 time(s); retry policy is RetryUpToMaximumCountWithFixedSleep(maxRetries=10, sleepTime=1000 MILLISECONDS)\n",
      "16/11/01 22:33:37 INFO ipc.Client: Retrying connect to server: 6b90ae080522/172.17.0.1:8032. Already tried 5 time(s); retry policy is RetryUpToMaximumCountWithFixedSleep(maxRetries=10, sleepTime=1000 MILLISECONDS)\n",
      "16/11/01 22:33:38 INFO ipc.Client: Retrying connect to server: 6b90ae080522/172.17.0.1:8032. Already tried 6 time(s); retry policy is RetryUpToMaximumCountWithFixedSleep(maxRetries=10, sleepTime=1000 MILLISECONDS)\n",
      "16/11/01 22:33:39 INFO ipc.Client: Retrying connect to server: 6b90ae080522/172.17.0.1:8032. Already tried 7 time(s); retry policy is RetryUpToMaximumCountWithFixedSleep(maxRetries=10, sleepTime=1000 MILLISECONDS)\n",
      "16/11/01 22:33:40 INFO ipc.Client: Retrying connect to server: 6b90ae080522/172.17.0.1:8032. Already tried 8 time(s); retry policy is RetryUpToMaximumCountWithFixedSleep(maxRetries=10, sleepTime=1000 MILLISECONDS)\n",
      "16/11/01 22:33:41 INFO ipc.Client: Retrying connect to server: 6b90ae080522/172.17.0.1:8032. Already tried 9 time(s); retry policy is RetryUpToMaximumCountWithFixedSleep(maxRetries=10, sleepTime=1000 MILLISECONDS)\n",
      "16/11/01 22:34:12 INFO ipc.Client: Retrying connect to server: 6b90ae080522/172.17.0.1:8032. Already tried 0 time(s); retry policy is RetryUpToMaximumCountWithFixedSleep(maxRetries=10, sleepTime=1000 MILLISECONDS)\n",
      "16/11/01 22:34:13 INFO ipc.Client: Retrying connect to server: 6b90ae080522/172.17.0.1:8032. Already tried 1 time(s); retry policy is RetryUpToMaximumCountWithFixedSleep(maxRetries=10, sleepTime=1000 MILLISECONDS)\n",
      "16/11/01 22:34:14 INFO ipc.Client: Retrying connect to server: 6b90ae080522/172.17.0.1:8032. Already tried 2 time(s); retry policy is RetryUpToMaximumCountWithFixedSleep(maxRetries=10, sleepTime=1000 MILLISECONDS)\n",
      "16/11/01 22:34:15 INFO ipc.Client: Retrying connect to server: 6b90ae080522/172.17.0.1:8032. Already tried 3 time(s); retry policy is RetryUpToMaximumCountWithFixedSleep(maxRetries=10, sleepTime=1000 MILLISECONDS)\n",
      "16/11/01 22:34:16 INFO ipc.Client: Retrying connect to server: 6b90ae080522/172.17.0.1:8032. Already tried 4 time(s); retry policy is RetryUpToMaximumCountWithFixedSleep(maxRetries=10, sleepTime=1000 MILLISECONDS)\n",
      "16/11/01 22:34:17 INFO ipc.Client: Retrying connect to server: 6b90ae080522/172.17.0.1:8032. Already tried 5 time(s); retry policy is RetryUpToMaximumCountWithFixedSleep(maxRetries=10, sleepTime=1000 MILLISECONDS)\n",
      "16/11/01 22:34:18 INFO ipc.Client: Retrying connect to server: 6b90ae080522/172.17.0.1:8032. Already tried 6 time(s); retry policy is RetryUpToMaximumCountWithFixedSleep(maxRetries=10, sleepTime=1000 MILLISECONDS)\n",
      "16/11/01 22:34:19 INFO ipc.Client: Retrying connect to server: 6b90ae080522/172.17.0.1:8032. Already tried 7 time(s); retry policy is RetryUpToMaximumCountWithFixedSleep(maxRetries=10, sleepTime=1000 MILLISECONDS)\n",
      "16/11/01 22:34:20 INFO ipc.Client: Retrying connect to server: 6b90ae080522/172.17.0.1:8032. Already tried 8 time(s); retry policy is RetryUpToMaximumCountWithFixedSleep(maxRetries=10, sleepTime=1000 MILLISECONDS)\n",
      "16/11/01 22:34:21 INFO ipc.Client: Retrying connect to server: 6b90ae080522/172.17.0.1:8032. Already tried 9 time(s); retry policy is RetryUpToMaximumCountWithFixedSleep(maxRetries=10, sleepTime=1000 MILLISECONDS)\n",
      "16/11/01 22:34:52 INFO ipc.Client: Retrying connect to server: 6b90ae080522/172.17.0.1:8032. Already tried 0 time(s); retry policy is RetryUpToMaximumCountWithFixedSleep(maxRetries=10, sleepTime=1000 MILLISECONDS)\n",
      "16/11/01 22:34:53 INFO ipc.Client: Retrying connect to server: 6b90ae080522/172.17.0.1:8032. Already tried 1 time(s); retry policy is RetryUpToMaximumCountWithFixedSleep(maxRetries=10, sleepTime=1000 MILLISECONDS)\n",
      "16/11/01 22:34:54 INFO ipc.Client: Retrying connect to server: 6b90ae080522/172.17.0.1:8032. Already tried 2 time(s); retry policy is RetryUpToMaximumCountWithFixedSleep(maxRetries=10, sleepTime=1000 MILLISECONDS)\n",
      "16/11/01 22:34:55 INFO ipc.Client: Retrying connect to server: 6b90ae080522/172.17.0.1:8032. Already tried 3 time(s); retry policy is RetryUpToMaximumCountWithFixedSleep(maxRetries=10, sleepTime=1000 MILLISECONDS)\n",
      "16/11/01 22:34:56 INFO ipc.Client: Retrying connect to server: 6b90ae080522/172.17.0.1:8032. Already tried 4 time(s); retry policy is RetryUpToMaximumCountWithFixedSleep(maxRetries=10, sleepTime=1000 MILLISECONDS)\n",
      "16/11/01 22:34:57 INFO ipc.Client: Retrying connect to server: 6b90ae080522/172.17.0.1:8032. Already tried 5 time(s); retry policy is RetryUpToMaximumCountWithFixedSleep(maxRetries=10, sleepTime=1000 MILLISECONDS)\n",
      "16/11/01 22:34:58 INFO ipc.Client: Retrying connect to server: 6b90ae080522/172.17.0.1:8032. Already tried 6 time(s); retry policy is RetryUpToMaximumCountWithFixedSleep(maxRetries=10, sleepTime=1000 MILLISECONDS)\n",
      "16/11/01 22:34:59 INFO ipc.Client: Retrying connect to server: 6b90ae080522/172.17.0.1:8032. Already tried 7 time(s); retry policy is RetryUpToMaximumCountWithFixedSleep(maxRetries=10, sleepTime=1000 MILLISECONDS)\n",
      "16/11/01 22:35:00 INFO ipc.Client: Retrying connect to server: 6b90ae080522/172.17.0.1:8032. Already tried 8 time(s); retry policy is RetryUpToMaximumCountWithFixedSleep(maxRetries=10, sleepTime=1000 MILLISECONDS)\n",
      "16/11/01 22:35:01 INFO ipc.Client: Retrying connect to server: 6b90ae080522/172.17.0.1:8032. Already tried 9 time(s); retry policy is RetryUpToMaximumCountWithFixedSleep(maxRetries=10, sleepTime=1000 MILLISECONDS)\n",
      "16/11/01 22:35:32 INFO ipc.Client: Retrying connect to server: 6b90ae080522/172.17.0.1:8032. Already tried 0 time(s); retry policy is RetryUpToMaximumCountWithFixedSleep(maxRetries=10, sleepTime=1000 MILLISECONDS)\n",
      "16/11/01 22:35:33 INFO ipc.Client: Retrying connect to server: 6b90ae080522/172.17.0.1:8032. Already tried 1 time(s); retry policy is RetryUpToMaximumCountWithFixedSleep(maxRetries=10, sleepTime=1000 MILLISECONDS)\n",
      "16/11/01 22:35:34 INFO ipc.Client: Retrying connect to server: 6b90ae080522/172.17.0.1:8032. Already tried 2 time(s); retry policy is RetryUpToMaximumCountWithFixedSleep(maxRetries=10, sleepTime=1000 MILLISECONDS)\n",
      "16/11/01 22:35:35 INFO ipc.Client: Retrying connect to server: 6b90ae080522/172.17.0.1:8032. Already tried 3 time(s); retry policy is RetryUpToMaximumCountWithFixedSleep(maxRetries=10, sleepTime=1000 MILLISECONDS)\n",
      "16/11/01 22:35:36 INFO ipc.Client: Retrying connect to server: 6b90ae080522/172.17.0.1:8032. Already tried 4 time(s); retry policy is RetryUpToMaximumCountWithFixedSleep(maxRetries=10, sleepTime=1000 MILLISECONDS)\n",
      "16/11/01 22:35:37 INFO ipc.Client: Retrying connect to server: 6b90ae080522/172.17.0.1:8032. Already tried 5 time(s); retry policy is RetryUpToMaximumCountWithFixedSleep(maxRetries=10, sleepTime=1000 MILLISECONDS)\n",
      "16/11/01 22:35:38 INFO ipc.Client: Retrying connect to server: 6b90ae080522/172.17.0.1:8032. Already tried 6 time(s); retry policy is RetryUpToMaximumCountWithFixedSleep(maxRetries=10, sleepTime=1000 MILLISECONDS)\n",
      "16/11/01 22:35:39 INFO ipc.Client: Retrying connect to server: 6b90ae080522/172.17.0.1:8032. Already tried 7 time(s); retry policy is RetryUpToMaximumCountWithFixedSleep(maxRetries=10, sleepTime=1000 MILLISECONDS)\n",
      "16/11/01 22:35:40 INFO ipc.Client: Retrying connect to server: 6b90ae080522/172.17.0.1:8032. Already tried 8 time(s); retry policy is RetryUpToMaximumCountWithFixedSleep(maxRetries=10, sleepTime=1000 MILLISECONDS)\n",
      "16/11/01 22:35:41 INFO ipc.Client: Retrying connect to server: 6b90ae080522/172.17.0.1:8032. Already tried 9 time(s); retry policy is RetryUpToMaximumCountWithFixedSleep(maxRetries=10, sleepTime=1000 MILLISECONDS)\n",
      "16/11/01 22:36:12 INFO ipc.Client: Retrying connect to server: 6b90ae080522/172.17.0.1:8032. Already tried 0 time(s); retry policy is RetryUpToMaximumCountWithFixedSleep(maxRetries=10, sleepTime=1000 MILLISECONDS)\n",
      "16/11/01 22:36:13 INFO ipc.Client: Retrying connect to server: 6b90ae080522/172.17.0.1:8032. Already tried 1 time(s); retry policy is RetryUpToMaximumCountWithFixedSleep(maxRetries=10, sleepTime=1000 MILLISECONDS)\n",
      "16/11/01 22:36:14 INFO ipc.Client: Retrying connect to server: 6b90ae080522/172.17.0.1:8032. Already tried 2 time(s); retry policy is RetryUpToMaximumCountWithFixedSleep(maxRetries=10, sleepTime=1000 MILLISECONDS)\n",
      "16/11/01 22:36:15 INFO ipc.Client: Retrying connect to server: 6b90ae080522/172.17.0.1:8032. Already tried 3 time(s); retry policy is RetryUpToMaximumCountWithFixedSleep(maxRetries=10, sleepTime=1000 MILLISECONDS)\n",
      "16/11/01 22:36:16 INFO ipc.Client: Retrying connect to server: 6b90ae080522/172.17.0.1:8032. Already tried 4 time(s); retry policy is RetryUpToMaximumCountWithFixedSleep(maxRetries=10, sleepTime=1000 MILLISECONDS)\n",
      "16/11/01 22:36:17 INFO ipc.Client: Retrying connect to server: 6b90ae080522/172.17.0.1:8032. Already tried 5 time(s); retry policy is RetryUpToMaximumCountWithFixedSleep(maxRetries=10, sleepTime=1000 MILLISECONDS)\n",
      "16/11/01 22:36:18 INFO ipc.Client: Retrying connect to server: 6b90ae080522/172.17.0.1:8032. Already tried 6 time(s); retry policy is RetryUpToMaximumCountWithFixedSleep(maxRetries=10, sleepTime=1000 MILLISECONDS)\n",
      "16/11/01 22:36:19 INFO ipc.Client: Retrying connect to server: 6b90ae080522/172.17.0.1:8032. Already tried 7 time(s); retry policy is RetryUpToMaximumCountWithFixedSleep(maxRetries=10, sleepTime=1000 MILLISECONDS)\n",
      "16/11/01 22:36:20 INFO ipc.Client: Retrying connect to server: 6b90ae080522/172.17.0.1:8032. Already tried 8 time(s); retry policy is RetryUpToMaximumCountWithFixedSleep(maxRetries=10, sleepTime=1000 MILLISECONDS)\n",
      "16/11/01 22:36:21 INFO ipc.Client: Retrying connect to server: 6b90ae080522/172.17.0.1:8032. Already tried 9 time(s); retry policy is RetryUpToMaximumCountWithFixedSleep(maxRetries=10, sleepTime=1000 MILLISECONDS)\n",
      "16/11/01 22:36:52 INFO ipc.Client: Retrying connect to server: 6b90ae080522/172.17.0.1:8032. Already tried 0 time(s); retry policy is RetryUpToMaximumCountWithFixedSleep(maxRetries=10, sleepTime=1000 MILLISECONDS)\n",
      "16/11/01 22:36:53 INFO ipc.Client: Retrying connect to server: 6b90ae080522/172.17.0.1:8032. Already tried 1 time(s); retry policy is RetryUpToMaximumCountWithFixedSleep(maxRetries=10, sleepTime=1000 MILLISECONDS)\n",
      "16/11/01 22:36:54 INFO ipc.Client: Retrying connect to server: 6b90ae080522/172.17.0.1:8032. Already tried 2 time(s); retry policy is RetryUpToMaximumCountWithFixedSleep(maxRetries=10, sleepTime=1000 MILLISECONDS)\n",
      "16/11/01 22:36:55 INFO ipc.Client: Retrying connect to server: 6b90ae080522/172.17.0.1:8032. Already tried 3 time(s); retry policy is RetryUpToMaximumCountWithFixedSleep(maxRetries=10, sleepTime=1000 MILLISECONDS)\n",
      "16/11/01 22:36:56 INFO ipc.Client: Retrying connect to server: 6b90ae080522/172.17.0.1:8032. Already tried 4 time(s); retry policy is RetryUpToMaximumCountWithFixedSleep(maxRetries=10, sleepTime=1000 MILLISECONDS)\n",
      "16/11/01 22:36:57 INFO ipc.Client: Retrying connect to server: 6b90ae080522/172.17.0.1:8032. Already tried 5 time(s); retry policy is RetryUpToMaximumCountWithFixedSleep(maxRetries=10, sleepTime=1000 MILLISECONDS)\n",
      "16/11/01 22:36:58 INFO ipc.Client: Retrying connect to server: 6b90ae080522/172.17.0.1:8032. Already tried 6 time(s); retry policy is RetryUpToMaximumCountWithFixedSleep(maxRetries=10, sleepTime=1000 MILLISECONDS)\n",
      "16/11/01 22:36:59 INFO ipc.Client: Retrying connect to server: 6b90ae080522/172.17.0.1:8032. Already tried 7 time(s); retry policy is RetryUpToMaximumCountWithFixedSleep(maxRetries=10, sleepTime=1000 MILLISECONDS)\n",
      "16/11/01 22:37:00 INFO ipc.Client: Retrying connect to server: 6b90ae080522/172.17.0.1:8032. Already tried 8 time(s); retry policy is RetryUpToMaximumCountWithFixedSleep(maxRetries=10, sleepTime=1000 MILLISECONDS)\n",
      "16/11/01 22:37:01 INFO ipc.Client: Retrying connect to server: 6b90ae080522/172.17.0.1:8032. Already tried 9 time(s); retry policy is RetryUpToMaximumCountWithFixedSleep(maxRetries=10, sleepTime=1000 MILLISECONDS)\n",
      "16/11/01 22:37:32 INFO ipc.Client: Retrying connect to server: 6b90ae080522/172.17.0.1:8032. Already tried 0 time(s); retry policy is RetryUpToMaximumCountWithFixedSleep(maxRetries=10, sleepTime=1000 MILLISECONDS)\n",
      "16/11/01 22:37:33 INFO ipc.Client: Retrying connect to server: 6b90ae080522/172.17.0.1:8032. Already tried 1 time(s); retry policy is RetryUpToMaximumCountWithFixedSleep(maxRetries=10, sleepTime=1000 MILLISECONDS)\n",
      "16/11/01 22:37:34 INFO ipc.Client: Retrying connect to server: 6b90ae080522/172.17.0.1:8032. Already tried 2 time(s); retry policy is RetryUpToMaximumCountWithFixedSleep(maxRetries=10, sleepTime=1000 MILLISECONDS)\n",
      "16/11/01 22:37:35 INFO ipc.Client: Retrying connect to server: 6b90ae080522/172.17.0.1:8032. Already tried 3 time(s); retry policy is RetryUpToMaximumCountWithFixedSleep(maxRetries=10, sleepTime=1000 MILLISECONDS)\n",
      "16/11/01 22:37:36 INFO ipc.Client: Retrying connect to server: 6b90ae080522/172.17.0.1:8032. Already tried 4 time(s); retry policy is RetryUpToMaximumCountWithFixedSleep(maxRetries=10, sleepTime=1000 MILLISECONDS)\n",
      "16/11/01 22:37:37 INFO ipc.Client: Retrying connect to server: 6b90ae080522/172.17.0.1:8032. Already tried 5 time(s); retry policy is RetryUpToMaximumCountWithFixedSleep(maxRetries=10, sleepTime=1000 MILLISECONDS)\n",
      "16/11/01 22:37:38 INFO ipc.Client: Retrying connect to server: 6b90ae080522/172.17.0.1:8032. Already tried 6 time(s); retry policy is RetryUpToMaximumCountWithFixedSleep(maxRetries=10, sleepTime=1000 MILLISECONDS)\n",
      "16/11/01 22:37:39 INFO ipc.Client: Retrying connect to server: 6b90ae080522/172.17.0.1:8032. Already tried 7 time(s); retry policy is RetryUpToMaximumCountWithFixedSleep(maxRetries=10, sleepTime=1000 MILLISECONDS)\n",
      "16/11/01 22:37:40 INFO ipc.Client: Retrying connect to server: 6b90ae080522/172.17.0.1:8032. Already tried 8 time(s); retry policy is RetryUpToMaximumCountWithFixedSleep(maxRetries=10, sleepTime=1000 MILLISECONDS)\n",
      "16/11/01 22:37:41 INFO ipc.Client: Retrying connect to server: 6b90ae080522/172.17.0.1:8032. Already tried 9 time(s); retry policy is RetryUpToMaximumCountWithFixedSleep(maxRetries=10, sleepTime=1000 MILLISECONDS)\n",
      "16/11/01 22:38:12 INFO ipc.Client: Retrying connect to server: 6b90ae080522/172.17.0.1:8032. Already tried 0 time(s); retry policy is RetryUpToMaximumCountWithFixedSleep(maxRetries=10, sleepTime=1000 MILLISECONDS)\n",
      "16/11/01 22:38:13 INFO ipc.Client: Retrying connect to server: 6b90ae080522/172.17.0.1:8032. Already tried 1 time(s); retry policy is RetryUpToMaximumCountWithFixedSleep(maxRetries=10, sleepTime=1000 MILLISECONDS)\n",
      "16/11/01 22:38:14 INFO ipc.Client: Retrying connect to server: 6b90ae080522/172.17.0.1:8032. Already tried 2 time(s); retry policy is RetryUpToMaximumCountWithFixedSleep(maxRetries=10, sleepTime=1000 MILLISECONDS)\n",
      "16/11/01 22:38:15 INFO ipc.Client: Retrying connect to server: 6b90ae080522/172.17.0.1:8032. Already tried 3 time(s); retry policy is RetryUpToMaximumCountWithFixedSleep(maxRetries=10, sleepTime=1000 MILLISECONDS)\n",
      "16/11/01 22:38:16 INFO ipc.Client: Retrying connect to server: 6b90ae080522/172.17.0.1:8032. Already tried 4 time(s); retry policy is RetryUpToMaximumCountWithFixedSleep(maxRetries=10, sleepTime=1000 MILLISECONDS)\n",
      "16/11/01 22:38:17 INFO ipc.Client: Retrying connect to server: 6b90ae080522/172.17.0.1:8032. Already tried 5 time(s); retry policy is RetryUpToMaximumCountWithFixedSleep(maxRetries=10, sleepTime=1000 MILLISECONDS)\n",
      "16/11/01 22:38:18 INFO ipc.Client: Retrying connect to server: 6b90ae080522/172.17.0.1:8032. Already tried 6 time(s); retry policy is RetryUpToMaximumCountWithFixedSleep(maxRetries=10, sleepTime=1000 MILLISECONDS)\n",
      "16/11/01 22:38:19 INFO ipc.Client: Retrying connect to server: 6b90ae080522/172.17.0.1:8032. Already tried 7 time(s); retry policy is RetryUpToMaximumCountWithFixedSleep(maxRetries=10, sleepTime=1000 MILLISECONDS)\n",
      "16/11/01 22:38:20 INFO ipc.Client: Retrying connect to server: 6b90ae080522/172.17.0.1:8032. Already tried 8 time(s); retry policy is RetryUpToMaximumCountWithFixedSleep(maxRetries=10, sleepTime=1000 MILLISECONDS)\n",
      "16/11/01 22:38:21 INFO ipc.Client: Retrying connect to server: 6b90ae080522/172.17.0.1:8032. Already tried 9 time(s); retry policy is RetryUpToMaximumCountWithFixedSleep(maxRetries=10, sleepTime=1000 MILLISECONDS)\n",
      "16/11/01 22:38:52 INFO ipc.Client: Retrying connect to server: 6b90ae080522/172.17.0.1:8032. Already tried 0 time(s); retry policy is RetryUpToMaximumCountWithFixedSleep(maxRetries=10, sleepTime=1000 MILLISECONDS)\n",
      "16/11/01 22:38:53 INFO ipc.Client: Retrying connect to server: 6b90ae080522/172.17.0.1:8032. Already tried 1 time(s); retry policy is RetryUpToMaximumCountWithFixedSleep(maxRetries=10, sleepTime=1000 MILLISECONDS)\n",
      "16/11/01 22:38:54 INFO ipc.Client: Retrying connect to server: 6b90ae080522/172.17.0.1:8032. Already tried 2 time(s); retry policy is RetryUpToMaximumCountWithFixedSleep(maxRetries=10, sleepTime=1000 MILLISECONDS)\n",
      "16/11/01 22:38:55 INFO ipc.Client: Retrying connect to server: 6b90ae080522/172.17.0.1:8032. Already tried 3 time(s); retry policy is RetryUpToMaximumCountWithFixedSleep(maxRetries=10, sleepTime=1000 MILLISECONDS)\n",
      "16/11/01 22:38:56 INFO ipc.Client: Retrying connect to server: 6b90ae080522/172.17.0.1:8032. Already tried 4 time(s); retry policy is RetryUpToMaximumCountWithFixedSleep(maxRetries=10, sleepTime=1000 MILLISECONDS)\n",
      "16/11/01 22:38:57 INFO ipc.Client: Retrying connect to server: 6b90ae080522/172.17.0.1:8032. Already tried 5 time(s); retry policy is RetryUpToMaximumCountWithFixedSleep(maxRetries=10, sleepTime=1000 MILLISECONDS)\n",
      "16/11/01 22:38:58 INFO ipc.Client: Retrying connect to server: 6b90ae080522/172.17.0.1:8032. Already tried 6 time(s); retry policy is RetryUpToMaximumCountWithFixedSleep(maxRetries=10, sleepTime=1000 MILLISECONDS)\n",
      "16/11/01 22:38:59 INFO ipc.Client: Retrying connect to server: 6b90ae080522/172.17.0.1:8032. Already tried 7 time(s); retry policy is RetryUpToMaximumCountWithFixedSleep(maxRetries=10, sleepTime=1000 MILLISECONDS)\n",
      "16/11/01 22:39:00 INFO ipc.Client: Retrying connect to server: 6b90ae080522/172.17.0.1:8032. Already tried 8 time(s); retry policy is RetryUpToMaximumCountWithFixedSleep(maxRetries=10, sleepTime=1000 MILLISECONDS)\n",
      "16/11/01 22:39:01 INFO ipc.Client: Retrying connect to server: 6b90ae080522/172.17.0.1:8032. Already tried 9 time(s); retry policy is RetryUpToMaximumCountWithFixedSleep(maxRetries=10, sleepTime=1000 MILLISECONDS)\n",
      "16/11/01 22:39:32 INFO ipc.Client: Retrying connect to server: 6b90ae080522/172.17.0.1:8032. Already tried 0 time(s); retry policy is RetryUpToMaximumCountWithFixedSleep(maxRetries=10, sleepTime=1000 MILLISECONDS)\n",
      "16/11/01 22:39:33 INFO ipc.Client: Retrying connect to server: 6b90ae080522/172.17.0.1:8032. Already tried 1 time(s); retry policy is RetryUpToMaximumCountWithFixedSleep(maxRetries=10, sleepTime=1000 MILLISECONDS)\n",
      "16/11/01 22:39:34 INFO ipc.Client: Retrying connect to server: 6b90ae080522/172.17.0.1:8032. Already tried 2 time(s); retry policy is RetryUpToMaximumCountWithFixedSleep(maxRetries=10, sleepTime=1000 MILLISECONDS)\n",
      "16/11/01 22:39:35 INFO ipc.Client: Retrying connect to server: 6b90ae080522/172.17.0.1:8032. Already tried 3 time(s); retry policy is RetryUpToMaximumCountWithFixedSleep(maxRetries=10, sleepTime=1000 MILLISECONDS)\n",
      "16/11/01 22:39:36 INFO ipc.Client: Retrying connect to server: 6b90ae080522/172.17.0.1:8032. Already tried 4 time(s); retry policy is RetryUpToMaximumCountWithFixedSleep(maxRetries=10, sleepTime=1000 MILLISECONDS)\n",
      "16/11/01 22:39:37 INFO ipc.Client: Retrying connect to server: 6b90ae080522/172.17.0.1:8032. Already tried 5 time(s); retry policy is RetryUpToMaximumCountWithFixedSleep(maxRetries=10, sleepTime=1000 MILLISECONDS)\n",
      "16/11/01 22:39:38 INFO ipc.Client: Retrying connect to server: 6b90ae080522/172.17.0.1:8032. Already tried 6 time(s); retry policy is RetryUpToMaximumCountWithFixedSleep(maxRetries=10, sleepTime=1000 MILLISECONDS)\n",
      "16/11/01 22:39:39 INFO ipc.Client: Retrying connect to server: 6b90ae080522/172.17.0.1:8032. Already tried 7 time(s); retry policy is RetryUpToMaximumCountWithFixedSleep(maxRetries=10, sleepTime=1000 MILLISECONDS)\n",
      "16/11/01 22:39:40 INFO ipc.Client: Retrying connect to server: 6b90ae080522/172.17.0.1:8032. Already tried 8 time(s); retry policy is RetryUpToMaximumCountWithFixedSleep(maxRetries=10, sleepTime=1000 MILLISECONDS)\n",
      "16/11/01 22:39:41 INFO ipc.Client: Retrying connect to server: 6b90ae080522/172.17.0.1:8032. Already tried 9 time(s); retry policy is RetryUpToMaximumCountWithFixedSleep(maxRetries=10, sleepTime=1000 MILLISECONDS)\n",
      "16/11/01 22:40:12 INFO ipc.Client: Retrying connect to server: 6b90ae080522/172.17.0.1:8032. Already tried 0 time(s); retry policy is RetryUpToMaximumCountWithFixedSleep(maxRetries=10, sleepTime=1000 MILLISECONDS)\n",
      "16/11/01 22:40:13 INFO ipc.Client: Retrying connect to server: 6b90ae080522/172.17.0.1:8032. Already tried 1 time(s); retry policy is RetryUpToMaximumCountWithFixedSleep(maxRetries=10, sleepTime=1000 MILLISECONDS)\n",
      "16/11/01 22:40:14 INFO ipc.Client: Retrying connect to server: 6b90ae080522/172.17.0.1:8032. Already tried 2 time(s); retry policy is RetryUpToMaximumCountWithFixedSleep(maxRetries=10, sleepTime=1000 MILLISECONDS)\n",
      "16/11/01 22:40:15 INFO ipc.Client: Retrying connect to server: 6b90ae080522/172.17.0.1:8032. Already tried 3 time(s); retry policy is RetryUpToMaximumCountWithFixedSleep(maxRetries=10, sleepTime=1000 MILLISECONDS)\n",
      "16/11/01 22:40:16 INFO ipc.Client: Retrying connect to server: 6b90ae080522/172.17.0.1:8032. Already tried 4 time(s); retry policy is RetryUpToMaximumCountWithFixedSleep(maxRetries=10, sleepTime=1000 MILLISECONDS)\n",
      "16/11/01 22:40:17 INFO ipc.Client: Retrying connect to server: 6b90ae080522/172.17.0.1:8032. Already tried 5 time(s); retry policy is RetryUpToMaximumCountWithFixedSleep(maxRetries=10, sleepTime=1000 MILLISECONDS)\n",
      "16/11/01 22:40:18 INFO ipc.Client: Retrying connect to server: 6b90ae080522/172.17.0.1:8032. Already tried 6 time(s); retry policy is RetryUpToMaximumCountWithFixedSleep(maxRetries=10, sleepTime=1000 MILLISECONDS)\n",
      "16/11/01 22:40:19 INFO ipc.Client: Retrying connect to server: 6b90ae080522/172.17.0.1:8032. Already tried 7 time(s); retry policy is RetryUpToMaximumCountWithFixedSleep(maxRetries=10, sleepTime=1000 MILLISECONDS)\n",
      "16/11/01 22:40:20 INFO ipc.Client: Retrying connect to server: 6b90ae080522/172.17.0.1:8032. Already tried 8 time(s); retry policy is RetryUpToMaximumCountWithFixedSleep(maxRetries=10, sleepTime=1000 MILLISECONDS)\n",
      "16/11/01 22:40:21 INFO ipc.Client: Retrying connect to server: 6b90ae080522/172.17.0.1:8032. Already tried 9 time(s); retry policy is RetryUpToMaximumCountWithFixedSleep(maxRetries=10, sleepTime=1000 MILLISECONDS)\n",
      "16/11/01 22:40:52 INFO ipc.Client: Retrying connect to server: 6b90ae080522/172.17.0.1:8032. Already tried 0 time(s); retry policy is RetryUpToMaximumCountWithFixedSleep(maxRetries=10, sleepTime=1000 MILLISECONDS)\n",
      "16/11/01 22:40:53 INFO ipc.Client: Retrying connect to server: 6b90ae080522/172.17.0.1:8032. Already tried 1 time(s); retry policy is RetryUpToMaximumCountWithFixedSleep(maxRetries=10, sleepTime=1000 MILLISECONDS)\n",
      "16/11/01 22:40:54 INFO ipc.Client: Retrying connect to server: 6b90ae080522/172.17.0.1:8032. Already tried 2 time(s); retry policy is RetryUpToMaximumCountWithFixedSleep(maxRetries=10, sleepTime=1000 MILLISECONDS)\n",
      "16/11/01 22:40:55 INFO ipc.Client: Retrying connect to server: 6b90ae080522/172.17.0.1:8032. Already tried 3 time(s); retry policy is RetryUpToMaximumCountWithFixedSleep(maxRetries=10, sleepTime=1000 MILLISECONDS)\n",
      "16/11/01 22:40:56 INFO ipc.Client: Retrying connect to server: 6b90ae080522/172.17.0.1:8032. Already tried 4 time(s); retry policy is RetryUpToMaximumCountWithFixedSleep(maxRetries=10, sleepTime=1000 MILLISECONDS)\n",
      "16/11/01 22:40:57 INFO ipc.Client: Retrying connect to server: 6b90ae080522/172.17.0.1:8032. Already tried 5 time(s); retry policy is RetryUpToMaximumCountWithFixedSleep(maxRetries=10, sleepTime=1000 MILLISECONDS)\n",
      "16/11/01 22:40:58 INFO ipc.Client: Retrying connect to server: 6b90ae080522/172.17.0.1:8032. Already tried 6 time(s); retry policy is RetryUpToMaximumCountWithFixedSleep(maxRetries=10, sleepTime=1000 MILLISECONDS)\n",
      "16/11/01 22:40:59 INFO ipc.Client: Retrying connect to server: 6b90ae080522/172.17.0.1:8032. Already tried 7 time(s); retry policy is RetryUpToMaximumCountWithFixedSleep(maxRetries=10, sleepTime=1000 MILLISECONDS)\n",
      "16/11/01 22:41:00 INFO ipc.Client: Retrying connect to server: 6b90ae080522/172.17.0.1:8032. Already tried 8 time(s); retry policy is RetryUpToMaximumCountWithFixedSleep(maxRetries=10, sleepTime=1000 MILLISECONDS)\n",
      "16/11/01 22:41:01 INFO ipc.Client: Retrying connect to server: 6b90ae080522/172.17.0.1:8032. Already tried 9 time(s); retry policy is RetryUpToMaximumCountWithFixedSleep(maxRetries=10, sleepTime=1000 MILLISECONDS)\n",
      "16/11/01 22:41:32 INFO ipc.Client: Retrying connect to server: 6b90ae080522/172.17.0.1:8032. Already tried 0 time(s); retry policy is RetryUpToMaximumCountWithFixedSleep(maxRetries=10, sleepTime=1000 MILLISECONDS)\n",
      "16/11/01 22:41:33 INFO ipc.Client: Retrying connect to server: 6b90ae080522/172.17.0.1:8032. Already tried 1 time(s); retry policy is RetryUpToMaximumCountWithFixedSleep(maxRetries=10, sleepTime=1000 MILLISECONDS)\n",
      "16/11/01 22:41:34 INFO ipc.Client: Retrying connect to server: 6b90ae080522/172.17.0.1:8032. Already tried 2 time(s); retry policy is RetryUpToMaximumCountWithFixedSleep(maxRetries=10, sleepTime=1000 MILLISECONDS)\n",
      "16/11/01 22:41:35 INFO ipc.Client: Retrying connect to server: 6b90ae080522/172.17.0.1:8032. Already tried 3 time(s); retry policy is RetryUpToMaximumCountWithFixedSleep(maxRetries=10, sleepTime=1000 MILLISECONDS)\n",
      "16/11/01 22:41:36 INFO ipc.Client: Retrying connect to server: 6b90ae080522/172.17.0.1:8032. Already tried 4 time(s); retry policy is RetryUpToMaximumCountWithFixedSleep(maxRetries=10, sleepTime=1000 MILLISECONDS)\n",
      "16/11/01 22:41:37 INFO ipc.Client: Retrying connect to server: 6b90ae080522/172.17.0.1:8032. Already tried 5 time(s); retry policy is RetryUpToMaximumCountWithFixedSleep(maxRetries=10, sleepTime=1000 MILLISECONDS)\n",
      "16/11/01 22:41:38 INFO ipc.Client: Retrying connect to server: 6b90ae080522/172.17.0.1:8032. Already tried 6 time(s); retry policy is RetryUpToMaximumCountWithFixedSleep(maxRetries=10, sleepTime=1000 MILLISECONDS)\n",
      "16/11/01 22:41:39 INFO ipc.Client: Retrying connect to server: 6b90ae080522/172.17.0.1:8032. Already tried 7 time(s); retry policy is RetryUpToMaximumCountWithFixedSleep(maxRetries=10, sleepTime=1000 MILLISECONDS)\n",
      "16/11/01 22:41:40 INFO ipc.Client: Retrying connect to server: 6b90ae080522/172.17.0.1:8032. Already tried 8 time(s); retry policy is RetryUpToMaximumCountWithFixedSleep(maxRetries=10, sleepTime=1000 MILLISECONDS)\n",
      "16/11/01 22:41:41 INFO ipc.Client: Retrying connect to server: 6b90ae080522/172.17.0.1:8032. Already tried 9 time(s); retry policy is RetryUpToMaximumCountWithFixedSleep(maxRetries=10, sleepTime=1000 MILLISECONDS)\n",
      "16/11/01 22:42:13 INFO ipc.Client: Retrying connect to server: 6b90ae080522/172.17.0.1:8032. Already tried 0 time(s); retry policy is RetryUpToMaximumCountWithFixedSleep(maxRetries=10, sleepTime=1000 MILLISECONDS)\n",
      "16/11/01 22:42:14 INFO ipc.Client: Retrying connect to server: 6b90ae080522/172.17.0.1:8032. Already tried 1 time(s); retry policy is RetryUpToMaximumCountWithFixedSleep(maxRetries=10, sleepTime=1000 MILLISECONDS)\n",
      "16/11/01 22:42:15 INFO ipc.Client: Retrying connect to server: 6b90ae080522/172.17.0.1:8032. Already tried 2 time(s); retry policy is RetryUpToMaximumCountWithFixedSleep(maxRetries=10, sleepTime=1000 MILLISECONDS)\n",
      "16/11/01 22:42:16 INFO ipc.Client: Retrying connect to server: 6b90ae080522/172.17.0.1:8032. Already tried 3 time(s); retry policy is RetryUpToMaximumCountWithFixedSleep(maxRetries=10, sleepTime=1000 MILLISECONDS)\n",
      "16/11/01 22:42:17 INFO ipc.Client: Retrying connect to server: 6b90ae080522/172.17.0.1:8032. Already tried 4 time(s); retry policy is RetryUpToMaximumCountWithFixedSleep(maxRetries=10, sleepTime=1000 MILLISECONDS)\n",
      "16/11/01 22:42:18 INFO ipc.Client: Retrying connect to server: 6b90ae080522/172.17.0.1:8032. Already tried 5 time(s); retry policy is RetryUpToMaximumCountWithFixedSleep(maxRetries=10, sleepTime=1000 MILLISECONDS)\n",
      "16/11/01 22:42:19 INFO ipc.Client: Retrying connect to server: 6b90ae080522/172.17.0.1:8032. Already tried 6 time(s); retry policy is RetryUpToMaximumCountWithFixedSleep(maxRetries=10, sleepTime=1000 MILLISECONDS)\n",
      "16/11/01 22:42:20 INFO ipc.Client: Retrying connect to server: 6b90ae080522/172.17.0.1:8032. Already tried 7 time(s); retry policy is RetryUpToMaximumCountWithFixedSleep(maxRetries=10, sleepTime=1000 MILLISECONDS)\n",
      "16/11/01 22:42:21 INFO ipc.Client: Retrying connect to server: 6b90ae080522/172.17.0.1:8032. Already tried 8 time(s); retry policy is RetryUpToMaximumCountWithFixedSleep(maxRetries=10, sleepTime=1000 MILLISECONDS)\n",
      "16/11/01 22:42:22 INFO ipc.Client: Retrying connect to server: 6b90ae080522/172.17.0.1:8032. Already tried 9 time(s); retry policy is RetryUpToMaximumCountWithFixedSleep(maxRetries=10, sleepTime=1000 MILLISECONDS)\n",
      "16/11/01 22:42:53 INFO ipc.Client: Retrying connect to server: 6b90ae080522/172.17.0.1:8032. Already tried 0 time(s); retry policy is RetryUpToMaximumCountWithFixedSleep(maxRetries=10, sleepTime=1000 MILLISECONDS)\n",
      "16/11/01 22:42:54 INFO ipc.Client: Retrying connect to server: 6b90ae080522/172.17.0.1:8032. Already tried 1 time(s); retry policy is RetryUpToMaximumCountWithFixedSleep(maxRetries=10, sleepTime=1000 MILLISECONDS)\n",
      "16/11/01 22:42:55 INFO ipc.Client: Retrying connect to server: 6b90ae080522/172.17.0.1:8032. Already tried 2 time(s); retry policy is RetryUpToMaximumCountWithFixedSleep(maxRetries=10, sleepTime=1000 MILLISECONDS)\n",
      "16/11/01 22:42:56 INFO ipc.Client: Retrying connect to server: 6b90ae080522/172.17.0.1:8032. Already tried 3 time(s); retry policy is RetryUpToMaximumCountWithFixedSleep(maxRetries=10, sleepTime=1000 MILLISECONDS)\n",
      "16/11/01 22:42:57 INFO ipc.Client: Retrying connect to server: 6b90ae080522/172.17.0.1:8032. Already tried 4 time(s); retry policy is RetryUpToMaximumCountWithFixedSleep(maxRetries=10, sleepTime=1000 MILLISECONDS)\n",
      "16/11/01 22:42:58 INFO ipc.Client: Retrying connect to server: 6b90ae080522/172.17.0.1:8032. Already tried 5 time(s); retry policy is RetryUpToMaximumCountWithFixedSleep(maxRetries=10, sleepTime=1000 MILLISECONDS)\n",
      "16/11/01 22:42:59 INFO ipc.Client: Retrying connect to server: 6b90ae080522/172.17.0.1:8032. Already tried 6 time(s); retry policy is RetryUpToMaximumCountWithFixedSleep(maxRetries=10, sleepTime=1000 MILLISECONDS)\n",
      "16/11/01 22:43:00 INFO ipc.Client: Retrying connect to server: 6b90ae080522/172.17.0.1:8032. Already tried 7 time(s); retry policy is RetryUpToMaximumCountWithFixedSleep(maxRetries=10, sleepTime=1000 MILLISECONDS)\n",
      "16/11/01 22:43:01 INFO ipc.Client: Retrying connect to server: 6b90ae080522/172.17.0.1:8032. Already tried 8 time(s); retry policy is RetryUpToMaximumCountWithFixedSleep(maxRetries=10, sleepTime=1000 MILLISECONDS)\n",
      "16/11/01 22:43:02 INFO ipc.Client: Retrying connect to server: 6b90ae080522/172.17.0.1:8032. Already tried 9 time(s); retry policy is RetryUpToMaximumCountWithFixedSleep(maxRetries=10, sleepTime=1000 MILLISECONDS)\n",
      "16/11/01 22:43:33 INFO ipc.Client: Retrying connect to server: 6b90ae080522/172.17.0.1:8032. Already tried 0 time(s); retry policy is RetryUpToMaximumCountWithFixedSleep(maxRetries=10, sleepTime=1000 MILLISECONDS)\n",
      "16/11/01 22:43:34 INFO ipc.Client: Retrying connect to server: 6b90ae080522/172.17.0.1:8032. Already tried 1 time(s); retry policy is RetryUpToMaximumCountWithFixedSleep(maxRetries=10, sleepTime=1000 MILLISECONDS)\n",
      "16/11/01 22:43:35 INFO ipc.Client: Retrying connect to server: 6b90ae080522/172.17.0.1:8032. Already tried 2 time(s); retry policy is RetryUpToMaximumCountWithFixedSleep(maxRetries=10, sleepTime=1000 MILLISECONDS)\n",
      "16/11/01 22:43:36 INFO ipc.Client: Retrying connect to server: 6b90ae080522/172.17.0.1:8032. Already tried 3 time(s); retry policy is RetryUpToMaximumCountWithFixedSleep(maxRetries=10, sleepTime=1000 MILLISECONDS)\n",
      "16/11/01 22:43:37 INFO ipc.Client: Retrying connect to server: 6b90ae080522/172.17.0.1:8032. Already tried 4 time(s); retry policy is RetryUpToMaximumCountWithFixedSleep(maxRetries=10, sleepTime=1000 MILLISECONDS)\n",
      "16/11/01 22:43:38 INFO ipc.Client: Retrying connect to server: 6b90ae080522/172.17.0.1:8032. Already tried 5 time(s); retry policy is RetryUpToMaximumCountWithFixedSleep(maxRetries=10, sleepTime=1000 MILLISECONDS)\n",
      "16/11/01 22:43:39 INFO ipc.Client: Retrying connect to server: 6b90ae080522/172.17.0.1:8032. Already tried 6 time(s); retry policy is RetryUpToMaximumCountWithFixedSleep(maxRetries=10, sleepTime=1000 MILLISECONDS)\n",
      "16/11/01 22:43:40 INFO ipc.Client: Retrying connect to server: 6b90ae080522/172.17.0.1:8032. Already tried 7 time(s); retry policy is RetryUpToMaximumCountWithFixedSleep(maxRetries=10, sleepTime=1000 MILLISECONDS)\n",
      "16/11/01 22:43:41 INFO ipc.Client: Retrying connect to server: 6b90ae080522/172.17.0.1:8032. Already tried 8 time(s); retry policy is RetryUpToMaximumCountWithFixedSleep(maxRetries=10, sleepTime=1000 MILLISECONDS)\n",
      "16/11/01 22:43:42 INFO ipc.Client: Retrying connect to server: 6b90ae080522/172.17.0.1:8032. Already tried 9 time(s); retry policy is RetryUpToMaximumCountWithFixedSleep(maxRetries=10, sleepTime=1000 MILLISECONDS)\n",
      "16/11/01 22:44:13 INFO ipc.Client: Retrying connect to server: 6b90ae080522/172.17.0.1:8032. Already tried 0 time(s); retry policy is RetryUpToMaximumCountWithFixedSleep(maxRetries=10, sleepTime=1000 MILLISECONDS)\n",
      "16/11/01 22:44:14 INFO ipc.Client: Retrying connect to server: 6b90ae080522/172.17.0.1:8032. Already tried 1 time(s); retry policy is RetryUpToMaximumCountWithFixedSleep(maxRetries=10, sleepTime=1000 MILLISECONDS)\n",
      "16/11/01 22:44:15 INFO ipc.Client: Retrying connect to server: 6b90ae080522/172.17.0.1:8032. Already tried 2 time(s); retry policy is RetryUpToMaximumCountWithFixedSleep(maxRetries=10, sleepTime=1000 MILLISECONDS)\n",
      "16/11/01 22:44:16 INFO ipc.Client: Retrying connect to server: 6b90ae080522/172.17.0.1:8032. Already tried 3 time(s); retry policy is RetryUpToMaximumCountWithFixedSleep(maxRetries=10, sleepTime=1000 MILLISECONDS)\n",
      "16/11/01 22:44:17 INFO ipc.Client: Retrying connect to server: 6b90ae080522/172.17.0.1:8032. Already tried 4 time(s); retry policy is RetryUpToMaximumCountWithFixedSleep(maxRetries=10, sleepTime=1000 MILLISECONDS)\n",
      "16/11/01 22:44:18 INFO ipc.Client: Retrying connect to server: 6b90ae080522/172.17.0.1:8032. Already tried 5 time(s); retry policy is RetryUpToMaximumCountWithFixedSleep(maxRetries=10, sleepTime=1000 MILLISECONDS)\n",
      "16/11/01 22:44:19 INFO ipc.Client: Retrying connect to server: 6b90ae080522/172.17.0.1:8032. Already tried 6 time(s); retry policy is RetryUpToMaximumCountWithFixedSleep(maxRetries=10, sleepTime=1000 MILLISECONDS)\n",
      "16/11/01 22:44:20 INFO ipc.Client: Retrying connect to server: 6b90ae080522/172.17.0.1:8032. Already tried 7 time(s); retry policy is RetryUpToMaximumCountWithFixedSleep(maxRetries=10, sleepTime=1000 MILLISECONDS)\n",
      "16/11/01 22:44:21 INFO ipc.Client: Retrying connect to server: 6b90ae080522/172.17.0.1:8032. Already tried 8 time(s); retry policy is RetryUpToMaximumCountWithFixedSleep(maxRetries=10, sleepTime=1000 MILLISECONDS)\n",
      "16/11/01 22:44:22 INFO ipc.Client: Retrying connect to server: 6b90ae080522/172.17.0.1:8032. Already tried 9 time(s); retry policy is RetryUpToMaximumCountWithFixedSleep(maxRetries=10, sleepTime=1000 MILLISECONDS)\n",
      "16/11/01 22:44:53 INFO ipc.Client: Retrying connect to server: 6b90ae080522/172.17.0.1:8032. Already tried 0 time(s); retry policy is RetryUpToMaximumCountWithFixedSleep(maxRetries=10, sleepTime=1000 MILLISECONDS)\n",
      "16/11/01 22:44:54 INFO ipc.Client: Retrying connect to server: 6b90ae080522/172.17.0.1:8032. Already tried 1 time(s); retry policy is RetryUpToMaximumCountWithFixedSleep(maxRetries=10, sleepTime=1000 MILLISECONDS)\n",
      "16/11/01 22:44:55 INFO ipc.Client: Retrying connect to server: 6b90ae080522/172.17.0.1:8032. Already tried 2 time(s); retry policy is RetryUpToMaximumCountWithFixedSleep(maxRetries=10, sleepTime=1000 MILLISECONDS)\n",
      "16/11/01 22:44:56 INFO ipc.Client: Retrying connect to server: 6b90ae080522/172.17.0.1:8032. Already tried 3 time(s); retry policy is RetryUpToMaximumCountWithFixedSleep(maxRetries=10, sleepTime=1000 MILLISECONDS)\n",
      "16/11/01 22:44:57 INFO ipc.Client: Retrying connect to server: 6b90ae080522/172.17.0.1:8032. Already tried 4 time(s); retry policy is RetryUpToMaximumCountWithFixedSleep(maxRetries=10, sleepTime=1000 MILLISECONDS)\n",
      "16/11/01 22:44:58 INFO ipc.Client: Retrying connect to server: 6b90ae080522/172.17.0.1:8032. Already tried 5 time(s); retry policy is RetryUpToMaximumCountWithFixedSleep(maxRetries=10, sleepTime=1000 MILLISECONDS)\n",
      "16/11/01 22:44:59 INFO ipc.Client: Retrying connect to server: 6b90ae080522/172.17.0.1:8032. Already tried 6 time(s); retry policy is RetryUpToMaximumCountWithFixedSleep(maxRetries=10, sleepTime=1000 MILLISECONDS)\n",
      "16/11/01 22:45:00 INFO ipc.Client: Retrying connect to server: 6b90ae080522/172.17.0.1:8032. Already tried 7 time(s); retry policy is RetryUpToMaximumCountWithFixedSleep(maxRetries=10, sleepTime=1000 MILLISECONDS)\n",
      "16/11/01 22:45:01 INFO ipc.Client: Retrying connect to server: 6b90ae080522/172.17.0.1:8032. Already tried 8 time(s); retry policy is RetryUpToMaximumCountWithFixedSleep(maxRetries=10, sleepTime=1000 MILLISECONDS)\n",
      "16/11/01 22:45:02 INFO ipc.Client: Retrying connect to server: 6b90ae080522/172.17.0.1:8032. Already tried 9 time(s); retry policy is RetryUpToMaximumCountWithFixedSleep(maxRetries=10, sleepTime=1000 MILLISECONDS)\n",
      "16/11/01 22:45:33 INFO ipc.Client: Retrying connect to server: 6b90ae080522/172.17.0.1:8032. Already tried 0 time(s); retry policy is RetryUpToMaximumCountWithFixedSleep(maxRetries=10, sleepTime=1000 MILLISECONDS)\n",
      "16/11/01 22:45:34 INFO ipc.Client: Retrying connect to server: 6b90ae080522/172.17.0.1:8032. Already tried 1 time(s); retry policy is RetryUpToMaximumCountWithFixedSleep(maxRetries=10, sleepTime=1000 MILLISECONDS)\n",
      "16/11/01 22:45:35 INFO ipc.Client: Retrying connect to server: 6b90ae080522/172.17.0.1:8032. Already tried 2 time(s); retry policy is RetryUpToMaximumCountWithFixedSleep(maxRetries=10, sleepTime=1000 MILLISECONDS)\n",
      "16/11/01 22:45:36 INFO ipc.Client: Retrying connect to server: 6b90ae080522/172.17.0.1:8032. Already tried 3 time(s); retry policy is RetryUpToMaximumCountWithFixedSleep(maxRetries=10, sleepTime=1000 MILLISECONDS)\n",
      "16/11/01 22:45:37 INFO ipc.Client: Retrying connect to server: 6b90ae080522/172.17.0.1:8032. Already tried 4 time(s); retry policy is RetryUpToMaximumCountWithFixedSleep(maxRetries=10, sleepTime=1000 MILLISECONDS)\n",
      "16/11/01 22:45:38 INFO ipc.Client: Retrying connect to server: 6b90ae080522/172.17.0.1:8032. Already tried 5 time(s); retry policy is RetryUpToMaximumCountWithFixedSleep(maxRetries=10, sleepTime=1000 MILLISECONDS)\n",
      "16/11/01 22:45:39 INFO ipc.Client: Retrying connect to server: 6b90ae080522/172.17.0.1:8032. Already tried 6 time(s); retry policy is RetryUpToMaximumCountWithFixedSleep(maxRetries=10, sleepTime=1000 MILLISECONDS)\n",
      "16/11/01 22:45:40 INFO ipc.Client: Retrying connect to server: 6b90ae080522/172.17.0.1:8032. Already tried 7 time(s); retry policy is RetryUpToMaximumCountWithFixedSleep(maxRetries=10, sleepTime=1000 MILLISECONDS)\n",
      "16/11/01 22:45:41 INFO ipc.Client: Retrying connect to server: 6b90ae080522/172.17.0.1:8032. Already tried 8 time(s); retry policy is RetryUpToMaximumCountWithFixedSleep(maxRetries=10, sleepTime=1000 MILLISECONDS)\n",
      "16/11/01 22:45:42 INFO ipc.Client: Retrying connect to server: 6b90ae080522/172.17.0.1:8032. Already tried 9 time(s); retry policy is RetryUpToMaximumCountWithFixedSleep(maxRetries=10, sleepTime=1000 MILLISECONDS)\n",
      "java.net.ConnectException: Call From 6b90ae080522/172.17.0.1 to 6b90ae080522:8032 failed on connection exception: java.net.ConnectException: Connection refused; For more details see:  http://wiki.apache.org/hadoop/ConnectionRefused\n",
      "\tat sun.reflect.GeneratedConstructorAccessor5.newInstance(Unknown Source)\n",
      "\tat sun.reflect.DelegatingConstructorAccessorImpl.newInstance(DelegatingConstructorAccessorImpl.java:45)\n",
      "\tat java.lang.reflect.Constructor.newInstance(Constructor.java:423)\n",
      "\tat org.apache.hadoop.net.NetUtils.wrapWithMessage(NetUtils.java:792)\n",
      "\tat org.apache.hadoop.net.NetUtils.wrapException(NetUtils.java:732)\n",
      "\tat org.apache.hadoop.ipc.Client.call(Client.java:1479)\n",
      "\tat org.apache.hadoop.ipc.Client.call(Client.java:1412)\n",
      "\tat org.apache.hadoop.ipc.ProtobufRpcEngine$Invoker.invoke(ProtobufRpcEngine.java:229)\n",
      "\tat com.sun.proxy.$Proxy12.getNewApplication(Unknown Source)\n",
      "\tat org.apache.hadoop.yarn.api.impl.pb.client.ApplicationClientProtocolPBClientImpl.getNewApplication(ApplicationClientProtocolPBClientImpl.java:221)\n",
      "\tat sun.reflect.GeneratedMethodAccessor2.invoke(Unknown Source)\n",
      "\tat sun.reflect.DelegatingMethodAccessorImpl.invoke(DelegatingMethodAccessorImpl.java:43)\n",
      "\tat java.lang.reflect.Method.invoke(Method.java:498)\n",
      "\tat org.apache.hadoop.io.retry.RetryInvocationHandler.invokeMethod(RetryInvocationHandler.java:191)\n",
      "\tat org.apache.hadoop.io.retry.RetryInvocationHandler.invoke(RetryInvocationHandler.java:102)\n",
      "\tat com.sun.proxy.$Proxy13.getNewApplication(Unknown Source)\n",
      "\tat org.apache.hadoop.yarn.client.api.impl.YarnClientImpl.getNewApplication(YarnClientImpl.java:219)\n",
      "\tat org.apache.hadoop.yarn.client.api.impl.YarnClientImpl.createApplication(YarnClientImpl.java:227)\n",
      "\tat org.apache.hadoop.mapred.ResourceMgrDelegate.getNewJobID(ResourceMgrDelegate.java:187)\n",
      "\tat org.apache.hadoop.mapred.YARNRunner.getNewJobID(YARNRunner.java:231)\n",
      "\tat org.apache.hadoop.mapreduce.JobSubmitter.submitJobInternal(JobSubmitter.java:153)\n",
      "\tat org.apache.hadoop.mapreduce.Job$10.run(Job.java:1290)\n",
      "\tat org.apache.hadoop.mapreduce.Job$10.run(Job.java:1287)\n",
      "\tat java.security.AccessController.doPrivileged(Native Method)\n",
      "\tat javax.security.auth.Subject.doAs(Subject.java:422)\n",
      "\tat org.apache.hadoop.security.UserGroupInformation.doAs(UserGroupInformation.java:1657)\n",
      "\tat org.apache.hadoop.mapreduce.Job.submit(Job.java:1287)\n",
      "\tat org.apache.hadoop.mapreduce.Job.waitForCompletion(Job.java:1308)\n",
      "\tat org.apache.hadoop.examples.Grep.run(Grep.java:78)\n",
      "\tat org.apache.hadoop.util.ToolRunner.run(ToolRunner.java:70)\n",
      "\tat org.apache.hadoop.examples.Grep.main(Grep.java:103)\n",
      "\tat sun.reflect.NativeMethodAccessorImpl.invoke0(Native Method)\n",
      "\tat sun.reflect.NativeMethodAccessorImpl.invoke(NativeMethodAccessorImpl.java:62)\n",
      "\tat sun.reflect.DelegatingMethodAccessorImpl.invoke(DelegatingMethodAccessorImpl.java:43)\n",
      "\tat java.lang.reflect.Method.invoke(Method.java:498)\n",
      "\tat org.apache.hadoop.util.ProgramDriver$ProgramDescription.invoke(ProgramDriver.java:71)\n",
      "\tat org.apache.hadoop.util.ProgramDriver.run(ProgramDriver.java:144)\n",
      "\tat org.apache.hadoop.examples.ExampleDriver.main(ExampleDriver.java:74)\n",
      "\tat sun.reflect.NativeMethodAccessorImpl.invoke0(Native Method)\n",
      "\tat sun.reflect.NativeMethodAccessorImpl.invoke(NativeMethodAccessorImpl.java:62)\n",
      "\tat sun.reflect.DelegatingMethodAccessorImpl.invoke(DelegatingMethodAccessorImpl.java:43)\n",
      "\tat java.lang.reflect.Method.invoke(Method.java:498)\n",
      "\tat org.apache.hadoop.util.RunJar.run(RunJar.java:221)\n",
      "\tat org.apache.hadoop.util.RunJar.main(RunJar.java:136)\n",
      "Caused by: java.net.ConnectException: Connection refused\n",
      "\tat sun.nio.ch.SocketChannelImpl.checkConnect(Native Method)\n",
      "\tat sun.nio.ch.SocketChannelImpl.finishConnect(SocketChannelImpl.java:717)\n",
      "\tat org.apache.hadoop.net.SocketIOWithTimeout.connect(SocketIOWithTimeout.java:206)\n",
      "\tat org.apache.hadoop.net.NetUtils.connect(NetUtils.java:531)\n",
      "\tat org.apache.hadoop.net.NetUtils.connect(NetUtils.java:495)\n",
      "\tat org.apache.hadoop.ipc.Client$Connection.setupConnection(Client.java:614)\n",
      "\tat org.apache.hadoop.ipc.Client$Connection.setupIOstreams(Client.java:712)\n",
      "\tat org.apache.hadoop.ipc.Client$Connection.access$2900(Client.java:375)\n",
      "\tat org.apache.hadoop.ipc.Client.getConnection(Client.java:1528)\n",
      "\tat org.apache.hadoop.ipc.Client.call(Client.java:1451)\n",
      "\t... 38 more\n",
      "ls: `hadoop/output': No such file or directory\n"
     ]
    }
   ],
   "source": [
    "%%bash\n",
    "\n",
    "# Example derived from Hadoop single node setup documentation:\n",
    "#\n",
    "# https://hadoop.apache.org/docs/stable/hadoop-project-dist/hadoop-common/SingleCluster.html\n",
    "#\n",
    "\n",
    "cd $HADOOP_PREFIX\n",
    "\n",
    "# Remove old directory (if it exsits) to have clean example\n",
    "bin/hdfs dfs -rm -r -f hadoop\n",
    "\n",
    "# Make directorties for example application\n",
    "bin/hdfs dfs -mkdir -p hadoop\n",
    "bin/hdfs dfs -mkdir -p hadoop/input\n",
    "\n",
    "# Copy data into example input directory\n",
    "bin/hdfs dfs -put etc/hadoop/*.xml hadoop/input\n",
    "\n",
    "# Running Hadoop example to test installation\n",
    "example_file=$(ls share/hadoop/mapreduce/hadoop-mapreduce-examples*)\n",
    "bin/hadoop jar $example_file grep hadoop/input hadoop/output 'dfs[a-z.]+'\n",
    "\n",
    "# Display directory heirarchy\n",
    "echo\n",
    "echo 'Hadoop Directory'\n",
    "bin/hdfs dfs -ls hadoop/\n",
    "\n",
    "echo\n",
    "echo 'Hadoop Input Directory'\n",
    "bin/hdfs dfs -ls hadoop/input\n",
    "\n",
    "echo\n",
    "echo 'Hadoop Output Directory'\n",
    "bin/hdfs dfs -ls hadoop/output"
   ]
  },
  {
   "cell_type": "markdown",
   "metadata": {},
   "source": [
    "-----\n",
    "\n",
    "As shown in the output directory display, several files were created by\n",
    "our Hadoop task. The first file, `_SUCCESS`, is self-explanatory,\n",
    "especially when you see the file is empty. The second file,\n",
    "`part-r-00000` contains the output of the command. We can display the\n",
    "contents of this file by using the HDFS `cat` command as shown in the\n",
    "following cell.\n",
    "\n",
    "-----"
   ]
  },
  {
   "cell_type": "code",
   "execution_count": 12,
   "metadata": {
    "collapsed": false
   },
   "outputs": [
    {
     "name": "stdout",
     "output_type": "stream",
     "text": [
      "cat: `hadoop/output/part-r-00000': No such file or directory\r\n"
     ]
    }
   ],
   "source": [
    "!$HADOOP_PREFIX/bin/hdfs dfs -cat hadoop/output/part-r-00000"
   ]
  },
  {
   "cell_type": "markdown",
   "metadata": {},
   "source": [
    "-----\n",
    "\n",
    "Of course, we want to know if this output is correct. To test this, we\n",
    "can use standard Unix `grep` command to find the expected output, which\n",
    "shows the same four lines (albeit we don't use a full regular\n",
    "expression, so the whole line is displayed by default).\n",
    "\n",
    "-----"
   ]
  },
  {
   "cell_type": "code",
   "execution_count": 13,
   "metadata": {
    "collapsed": false
   },
   "outputs": [
    {
     "name": "stdout",
     "output_type": "stream",
     "text": [
      "\u001b[35m\u001b[K/usr/local/hadoop/etc/hadoop/hadoop-policy.xml\u001b[m\u001b[K\u001b[36m\u001b[K:\u001b[m\u001b[K    \u001b[01;31m\u001b[Kdfsa\u001b[m\u001b[Kdmin and mradmin commands to refresh the security policy in-effect.\r\n",
      "\u001b[35m\u001b[K/usr/local/hadoop/etc/hadoop/hdfs-site.xml\u001b[m\u001b[K\u001b[36m\u001b[K:\u001b[m\u001b[K        <name>\u001b[01;31m\u001b[Kdfs.\u001b[m\u001b[Kreplication</name>\r\n",
      "\u001b[35m\u001b[K/usr/local/hadoop/etc/hadoop/hdfs-site.xml\u001b[m\u001b[K\u001b[36m\u001b[K:\u001b[m\u001b[K        <name>\u001b[01;31m\u001b[Kdfs.\u001b[m\u001b[Knamenode.rpc-bind-host</name>\r\n",
      "\u001b[35m\u001b[K/usr/local/hadoop/etc/hadoop/hdfs-site.xml\u001b[m\u001b[K\u001b[36m\u001b[K:\u001b[m\u001b[K        <name>\u001b[01;31m\u001b[Kdfs.\u001b[m\u001b[Knamenode.servicerpc-bind-host</name>\r\n"
     ]
    }
   ],
   "source": [
    "!grep --color 'dfs[a-z.]' $HADOOP_PREFIX/etc/hadoop/*.xml"
   ]
  },
  {
   "cell_type": "markdown",
   "metadata": {},
   "source": [
    "-----\n",
    "\n",
    "## Acquiring Data \n",
    "\n",
    "In the next two lessons, we will analyze text data by using Hadoop\n",
    "map-reduce and Pig. As a result, we finish this Notebook by acquiring a\n",
    "text data set for later analysis, which we stage locally (i.e., outside\n",
    "HDFS). First, we delete our local directory if it exists and create it\n",
    "to have a clean install.\n",
    "\n",
    "\n",
    "-----"
   ]
  },
  {
   "cell_type": "code",
   "execution_count": 14,
   "metadata": {
    "collapsed": false
   },
   "outputs": [
    {
     "name": "stdout",
     "output_type": "stream",
     "text": [
      "total 8\n",
      "drwxr-xr-x  2 data_scientist users 4096 Nov  1 22:45 .\n",
      "drwxr-xr-x 23 data_scientist users 4096 Nov  1 22:45 ..\n"
     ]
    }
   ],
   "source": [
    "%%bash\n",
    "#!/usr/bin/env bash\n",
    "# A Bash Shell Script to delete the Hadoop diorectory if it exists, afterwhich\n",
    "# make a new Hadoop directory\n",
    "\n",
    "# Our directory name\n",
    "DIR=$HOME/hadoop\n",
    "\n",
    "# Delete if exists\n",
    "if [ -d \"$DIR\" ]; then\n",
    "    rm -rf \"$DIR\"\n",
    "fi\n",
    "\n",
    "# Now make the directory\n",
    "mkdir \"$DIR\"\n",
    "\n",
    "ls -la $DIR"
   ]
  },
  {
   "cell_type": "markdown",
   "metadata": {},
   "source": [
    "-----\n",
    "\n",
    "### Acquiring Data\n",
    "\n",
    "To perform data analysis by using Hadoop, we will need a data set. In the\n",
    "Notebook for the second lesson this week, we will perform a simple\n",
    "map/reduce operation that will require text data to operate. While there\n",
    "are a number of possible options, for this example we can grab a free\n",
    "book from [Project Gutenberg][pg]:\n",
    "\n",
    "    wget --directory-prefix=$HOME/hadoop/ --output-document=book.txt \\\n",
    "        http://www.gutenberg.org/cache/epub/4300/pg4300.txt`\n",
    "\n",
    "In this case, we have grabbed the full text of the novel _Ulysses_, by\n",
    "James Joyce, and placed the text in the `hadoop` subdirectory of our\n",
    "_home_ directory.\n",
    "\n",
    "-----\n",
    "[pg]: http://www.gutenberg.org"
   ]
  },
  {
   "cell_type": "code",
   "execution_count": 18,
   "metadata": {
    "collapsed": false
   },
   "outputs": [
    {
     "name": "stdout",
     "output_type": "stream",
     "text": [
      "--2016-11-01 23:59:20--  http://www.gutenberg.org/files/4300/4300-0.txt\n",
      "Resolving www.gutenberg.org (www.gutenberg.org)... 152.19.134.47, 2610:28:3090:3000:0:bad:cafe:47\n",
      "Connecting to www.gutenberg.org (www.gutenberg.org)|152.19.134.47|:80... connected.\n",
      "HTTP request sent, awaiting response... 200 OK\n",
      "Length: 1580914 (1.5M) [text/plain]\n",
      "Saving to: ‘/home/data_scientist/hadoop/book.txt’\n",
      "\n",
      "100%[======================================>] 1,580,914   1.24MB/s   in 1.2s   \n",
      "\n",
      "2016-11-01 23:59:21 (1.24 MB/s) - ‘/home/data_scientist/hadoop/book.txt’ saved [1580914/1580914]\n",
      "\n"
     ]
    }
   ],
   "source": [
    "# Grab a book to process\n",
    "!wget --output-document=$HOME/hadoop/book.txt \\\n",
    "http://www.gutenberg.org/files/4300/4300-0.txt\n",
    "\n",
    "# On Course JupyterServer we simply copy the text from the data directory\n",
    "# Since the Gutenberg site would otherwise think the students were launching a\n",
    "# denial of service attack as they would all come from the same site.\n",
    "\n",
    "#!cp /home/data_scientist/data/book.txt $HOME/hadoop/book.txt"
   ]
  },
  {
   "cell_type": "markdown",
   "metadata": {},
   "source": [
    "-----\n",
    "\n",
    "At this point, we first need to create an directory to hold the input\n",
    "and output of our Hadoop task. We will create a new directory called\n",
    "`wc` with a subdirectory called `in` to hold the input data for our\n",
    "Hadoop task. Second, we will need to copy the book text file into this\n",
    "new HDFS directory. This means we will need to run the following two\n",
    "Hadoop commands:\n",
    "\n",
    "1. `$HADOOP_PREFIX/bin/hdfs dfs -mkdir -p wc/in`\n",
    "2. `$HADOOP_PREFIX/bin/hdfs dfs -put book.txt wc/in/book.txt`\n",
    "\n",
    "The following cell contains these commands (and two other commands) the\n",
    "result of running these two commands, as well as the `dfs -ls` command\n",
    "to display the contents of our new HDFS directory, and the `dfs -count`\n",
    "command to show the size of the directory contents. At the end of this\n",
    "output will be a message from Hadoop, which simply states that files are\n",
    "being immediately deleted. This value can be changed to cache files\n",
    "before deleting for a specific time interval, which would, of course,\n",
    "allow files to be recovered if accidentally deleted.\n",
    "\n",
    "-----"
   ]
  },
  {
   "cell_type": "code",
   "execution_count": 16,
   "metadata": {
    "collapsed": false
   },
   "outputs": [
    {
     "name": "stdout",
     "output_type": "stream",
     "text": [
      "Deleted wc\n",
      "\n",
      "Creating input directory, and copying data.\n",
      "\n",
      "Input directory contents\n",
      "           0            1            644.7 K wc/in/book.txt\n"
     ]
    },
    {
     "name": "stderr",
     "output_type": "stream",
     "text": [
      "16/11/01 22:45:55 INFO fs.TrashPolicyDefault: Namenode trash configuration: Deletion interval = 0 minutes, Emptier interval = 0 minutes.\n"
     ]
    }
   ],
   "source": [
    "%%bash\n",
    "\n",
    "cd $HADOOP_PREFIX\n",
    "\n",
    "bin/hdfs dfs -rm -r -f wc\n",
    "\n",
    "echo\n",
    "echo 'Creating input directory, and copying data.'\n",
    "bin/hdfs dfs -mkdir -p wc/in\n",
    "bin/hdfs dfs -put $HOME/hadoop/book.txt wc/in/book.txt\n",
    "\n",
    "echo\n",
    "echo 'Input directory contents'\n",
    "bin/hdfs dfs -count -h wc/in/*"
   ]
  },
  {
   "cell_type": "code",
   "execution_count": 17,
   "metadata": {
    "collapsed": false
   },
   "outputs": [
    {
     "name": "stdout",
     "output_type": "stream",
     "text": [
      "Stopping namenodes on [6b90ae080522]\n",
      "6b90ae080522: stopping namenode\n",
      "localhost: stopping datanode\n",
      "Stopping secondary namenodes [0.0.0.0]\n",
      "0.0.0.0: stopping secondarynamenode\n"
     ]
    }
   ],
   "source": [
    "%%bash\n",
    "\n",
    "# Having the namenode and datanodes running in the background consumes quite a bit of memory. So I think we should shut down the nodes at the end of the notebook:\n",
    "\n",
    "$HADOOP_PREFIX/sbin/stop-dfs.sh\n",
    "$HADOOP_PREFIX/sbin/stop-yarn.sh"
   ]
  },
  {
   "cell_type": "markdown",
   "metadata": {},
   "source": [
    "-----\n",
    "\n",
    "### Student Activity\n",
    "\n",
    "In the preceding cells, we introduced Hadoop and the HDFS file system.\n",
    "Now that you have run the Notebook, go back and make the following\n",
    "changes to see how the results change.\n",
    "\n",
    "1. Create a new Hadoop HDFS directory, use your own name for the\n",
    "directory name.\n",
    "2. Copy one or more local files into your new Hadoop directory. Run a\n",
    "Hadoop command to display the files and their byte count, do the results\n",
    "agree with your local values?\n",
    "3. Run a different `grep` example on the book you downloaded. Do the\n",
    "results make sense?\n",
    "\n",
    "-----"
   ]
  }
 ],
 "metadata": {
  "kernelspec": {
   "display_name": "Python 3",
   "language": "python",
   "name": "python3"
  },
  "language_info": {
   "codemirror_mode": {
    "name": "ipython",
    "version": 3
   },
   "file_extension": ".py",
   "mimetype": "text/x-python",
   "name": "python",
   "nbconvert_exporter": "python",
   "pygments_lexer": "ipython3",
   "version": "3.5.2"
  }
 },
 "nbformat": 4,
 "nbformat_minor": 0
}
