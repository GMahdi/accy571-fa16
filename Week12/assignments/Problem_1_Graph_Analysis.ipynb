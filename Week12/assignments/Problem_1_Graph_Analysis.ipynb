{
 "cells": [
  {
   "cell_type": "markdown",
   "metadata": {
    "deletable": false,
    "nbgrader": {
     "checksum": "a98c739c45025e75b7a8a39168517825",
     "grade": false,
     "grade_id": "header",
     "locked": true,
     "solution": false
    }
   },
   "source": [
    "A few things you should keep in mind when working on assignments:\n",
    "\n",
    "1. Make sure you fill in any place that says `YOUR CODE HERE`. Do **not** write your answer in anywhere else other than where it says `YOUR CODE HERE`. Anything you write anywhere else will be removed or overwritten by the autograder.\n",
    "\n",
    "2. Before you submit your assignment, make sure everything runs as expected. Go to menubar, select _Kernel_, and restart the kernel and run all cells (_Restart & Run all_).\n",
    "\n",
    "3. Do not change the title (i.e. file name) of this notebook.\n",
    "\n",
    "4. Make sure that you save your work (in the menubar, select _File_ → _Save and CheckPoint_)\n",
    "\n",
    "5. You are allowed to submit an assignment multiple times, but only the most recent submission will be graded."
   ]
  },
  {
   "cell_type": "markdown",
   "metadata": {
    "deletable": false,
    "nbgrader": {
     "checksum": "fbe3f44e135563b946a04bae31d0cf1a",
     "grade": false,
     "grade_id": "title",
     "locked": true,
     "solution": false
    }
   },
   "source": [
    "# Problem 1. Graph Analysis.\n",
    "\n",
    "In this problem, we will use the `networkx` library to perform basic graph analysis."
   ]
  },
  {
   "cell_type": "code",
   "execution_count": null,
   "metadata": {
    "collapsed": true,
    "deletable": false,
    "nbgrader": {
     "checksum": "6b150cf798efc42956ad51d187286619",
     "grade": false,
     "grade_id": "import",
     "locked": true,
     "solution": false
    }
   },
   "outputs": [],
   "source": [
    "%matplotlib inline\n",
    "import networkx as nx\n",
    "import numpy as np\n",
    "import matplotlib as mpl\n",
    "import matplotlib.pyplot as plt\n",
    "import seaborn as sns\n",
    "\n",
    "from nose.tools import assert_equal, assert_is_instance, assert_true, assert_false\n",
    "from numpy.testing import assert_array_equal, assert_array_almost_equal"
   ]
  },
  {
   "cell_type": "markdown",
   "metadata": {
    "deletable": false,
    "nbgrader": {
     "checksum": "48efe8b3c14a4478d329c76af1ba32e0",
     "grade": false,
     "grade_id": "markdown_1",
     "locked": true,
     "solution": false
    }
   },
   "source": [
    "## Zachary's Karate Club\n",
    "\n",
    "We will use [Zachary's Karete Club](https://networkx.github.io/documentation/networkx-1.10/reference/generated/networkx.generators.social.karate_club_graph.html) data set. You can read more about it on [Wikipedia](https://en.wikipedia.org/wiki/Zachary%27s_karate_club) or refer to the original paper [Zachary (1997)](http://www.jstor.org.proxy2.library.illinois.edu/stable/3629752).\n",
    "\n",
    "According to Wikipedia:\n",
    "\n",
    "<blockquote>\n",
    "A social network of a karate club was studied by Wayne W. Zachary for a period of three years from 1970 to 1972. The network captures 34 members of a karate club, documenting 78 pairwise links between members who interacted outside the club. During the study a conflict arose between the administrator \"John A\" and instructor \"Mr. Hi\" (pseudonyms), which led to the split of the club into two. Half of the members formed a new club around Mr. Hi, members from the other part found a new instructor or gave up karate. Basing on collected data Zachary assigned correctly all but one member of the club to the groups they actually joined after the split.\n",
    "</blockquote>\n",
    "\n",
    "We can use `matplotlib` and `networkx.draw()` to visualize the social network of Zachary's Karate Club. (You do not have to create this figure, although I suggest creating a similar graph as an optinal exercise.)\n",
    "\n",
    "![](https://raw.githubusercontent.com/UI-DataScience/info490-sp16/master/Week10/assignments/images/karate_all.png)\n",
    "\n",
    "## Compute Node degrees\n",
    "\n",
    "- Your task is to write a function named `get_degree` that takes a `networkx.Graph` instance and computes the degree of each node.\n",
    "\n",
    "- The return value should be a dictionary of `{node: degree}` for each node. For example, when you print out the result:\n",
    "  ```python\n",
    "  >>> g = nx.karate_club_graph()\n",
    "  >>> degree = get_degree(g)\n",
    "  >>> print('Node  Degree')\n",
    "  >>> for node in degree:\n",
    "  ...    print('{0:4d} {1:7d}'.format(node, degree[node]))\n",
    "  ```\n",
    "  you should get\n",
    "  ```\n",
    "  Node  Degree\n",
    "   0      16\n",
    "   1       9\n",
    "   2      10\n",
    "   3       6\n",
    "   4       3\n",
    "   5       4\n",
    "   6       4\n",
    "   7       4\n",
    "   8       5\n",
    "   9       2\n",
    "  10       3\n",
    "  11       1\n",
    "  12       2\n",
    "  13       5\n",
    "  14       2\n",
    "  15       2\n",
    "  16       2\n",
    "  17       2\n",
    "  18       2\n",
    "  19       3\n",
    "  20       2\n",
    "  21       2\n",
    "  22       2\n",
    "  23       5\n",
    "  24       3\n",
    "  25       3\n",
    "  26       2\n",
    "  27       4\n",
    "  28       3\n",
    "  29       4\n",
    "  30       4\n",
    "  31       6\n",
    "  32      12\n",
    "  33      17\n",
    "```"
   ]
  },
  {
   "cell_type": "code",
   "execution_count": null,
   "metadata": {
    "collapsed": true,
    "deletable": false,
    "nbgrader": {
     "checksum": "5702916229e95dc1910567a2b853fc6e",
     "grade": false,
     "grade_id": "get_degree_answer",
     "locked": false,
     "solution": true
    }
   },
   "outputs": [],
   "source": [
    "def get_degree(graph):\n",
    "\n",
    "    # YOUR CODE HERE"
   ]
  },
  {
   "cell_type": "code",
   "execution_count": null,
   "metadata": {
    "collapsed": false,
    "deletable": false,
    "nbgrader": {
     "checksum": "74f08ed1f610434ba2469cb560290634",
     "grade": false,
     "grade_id": "get_degree_run",
     "locked": true,
     "solution": false
    }
   },
   "outputs": [],
   "source": [
    "g = nx.karate_club_graph()\n",
    "degree = get_degree(g)\n",
    "print('Node  Degree')\n",
    "for node in degree:\n",
    "    print('{0:4d} {1:7d}'.format(node, degree[node]))"
   ]
  },
  {
   "cell_type": "code",
   "execution_count": null,
   "metadata": {
    "collapsed": false,
    "deletable": false,
    "nbgrader": {
     "checksum": "3a4031df10f5faab0c329530e3e8a466",
     "grade": true,
     "grade_id": "get_degree_test",
     "locked": true,
     "points": 10,
     "solution": false
    }
   },
   "outputs": [],
   "source": [
    "assert_is_instance(degree, dict)\n",
    "\n",
    "keys = list(degree.keys())\n",
    "assert_equal(len(keys), 34)\n",
    "assert_equal(set(keys), set(range(34)))\n",
    "\n",
    "values = [\n",
    "    16, 9, 10, 6, 3, 4, 4, 4, 5, 2,\n",
    "    3, 1, 2, 5, 2, 2, 2, 2, 2, 3,\n",
    "    2, 2, 2, 5, 3, 3, 2, 4, 3, 4,\n",
    "    4, 6, 12, 17\n",
    "]\n",
    "assert_equal(len(degree.values()), len(values))\n",
    "assert_equal(set(degree.values()), set(values))"
   ]
  },
  {
   "cell_type": "markdown",
   "metadata": {
    "deletable": false,
    "nbgrader": {
     "checksum": "e8271b01f254e33c461bb514add8b2fe",
     "grade": false,
     "grade_id": "markdown_2",
     "locked": true,
     "solution": false
    }
   },
   "source": [
    "We see that two people (Nodes 0 and 33) have well above the average number of degrees. Node 0 corresponds to Mr. Hi, and node 33 corresponds to John A (or \"officer\"). Node 32 has many friends but not as many as those two. In the following figure, we visualize this by coloring each node according to whether it is a friend of node 0 or node 33. \n",
    "\n",
    "![](https://raw.githubusercontent.com/UI-DataScience/info490-sp16/master/Week10/assignments/images/karate_friends.png)\n",
    "\n",
    "By coloring the friends of node 0 and node 33, you can see that the club already had two subgroups based on social relationships. Let's compare the previous visualization with the visualization of the actual breakup.\n",
    "\n",
    "![](https://raw.githubusercontent.com/UI-DataScience/info490-sp16/master/Week10/assignments/images/karate_after.png)\n",
    "\n",
    "(You do not have to create these figures, although I suggest creating a similar graph as an optinal exercise.)\n",
    "\n",
    "These two figures (before and after the actual breakup) look very similar. Thus, we see the power of network analysis: we can gain insight to the underlying data by analyzing the properties of graphs.\n",
    "\n",
    "-----"
   ]
  }
 ],
 "metadata": {
  "kernelspec": {
   "display_name": "Python 3",
   "language": "python",
   "name": "python3"
  },
  "language_info": {
   "codemirror_mode": {
    "name": "ipython",
    "version": 3
   },
   "file_extension": ".py",
   "mimetype": "text/x-python",
   "name": "python",
   "nbconvert_exporter": "python",
   "pygments_lexer": "ipython3",
   "version": "3.5.2"
  }
 },
 "nbformat": 4,
 "nbformat_minor": 1
}
