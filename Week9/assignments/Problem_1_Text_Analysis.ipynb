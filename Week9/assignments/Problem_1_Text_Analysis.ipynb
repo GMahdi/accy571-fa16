{
 "cells": [
  {
   "cell_type": "markdown",
   "metadata": {
    "deletable": false,
    "nbgrader": {
     "checksum": "a98c739c45025e75b7a8a39168517825",
     "grade": false,
     "grade_id": "header",
     "locked": true,
     "solution": false
    }
   },
   "source": [
    "A few things you should keep in mind when working on assignments:\n",
    "\n",
    "1. Make sure you fill in any place that says `YOUR CODE HERE`. Do **not** write your answer in anywhere else other than where it says `YOUR CODE HERE`. Anything you write anywhere else will be removed or overwritten by the autograder.\n",
    "\n",
    "2. Before you submit your assignment, make sure everything runs as expected. Go to menubar, select _Kernel_, and restart the kernel and run all cells (_Restart & Run all_).\n",
    "\n",
    "3. Do not change the title (i.e. file name) of this notebook.\n",
    "\n",
    "4. Make sure that you save your work (in the menubar, select _File_ → _Save and CheckPoint_)\n",
    "\n",
    "5. You are allowed to submit an assignment multiple times, but only the most recent submission will be graded."
   ]
  },
  {
   "cell_type": "markdown",
   "metadata": {
    "deletable": false,
    "nbgrader": {
     "checksum": "89a534c0878e6ee8b845666632ac535a",
     "grade": false,
     "grade_id": "title",
     "locked": true,
     "solution": false
    }
   },
   "source": [
    "# Problem 1. Text Analysis.\n",
    "\n",
    "In this problem, we perform basic text analysis tasks on the NLTK Reuters corpus."
   ]
  },
  {
   "cell_type": "code",
   "execution_count": null,
   "metadata": {
    "collapsed": true,
    "deletable": false,
    "nbgrader": {
     "checksum": "70cd3dd70fb4f021b762188e8061231f",
     "grade": false,
     "grade_id": "import",
     "locked": true,
     "solution": false
    }
   },
   "outputs": [],
   "source": [
    "import nltk\n",
    "from nltk.corpus import reuters\n",
    "\n",
    "from nose.tools import assert_equal, assert_is_instance, assert_true"
   ]
  },
  {
   "cell_type": "markdown",
   "metadata": {
    "deletable": false,
    "nbgrader": {
     "checksum": "a0eae097a28dd5eb1bb663c8bd2b8fd0",
     "grade": false,
     "grade_id": "markdown_1",
     "locked": true,
     "solution": false
    }
   },
   "source": [
    "In the following code cells is an overview of the NLTK Reuters corpus, which I copy verbatim from the [NLTK documentation](http://www.nltk.org/book/ch02.html#reuters-corpus).\n",
    "\n",
    "The Reuters Corpus contains 10,788 news documents totaling 1.3 million words. The documents have been classified into 90 topics, and grouped into two sets, called \"training\" and \"test\"; thus, the text with fileid `test/14826` is a document drawn from the test set. This split is for training and testing algorithms that automatically detect the topic of a document, as we will see in [chap-data-intensive](http://www.nltk.org/book/ch06.html#chap-data-intensive)."
   ]
  },
  {
   "cell_type": "code",
   "execution_count": null,
   "metadata": {
    "collapsed": false,
    "deletable": false,
    "nbgrader": {
     "checksum": "3c303b659578db9047b8584782cc2e8b",
     "grade": false,
     "grade_id": "print_1",
     "locked": true,
     "solution": false
    }
   },
   "outputs": [],
   "source": [
    "print(len(reuters.fileids()))"
   ]
  },
  {
   "cell_type": "code",
   "execution_count": null,
   "metadata": {
    "collapsed": false,
    "deletable": false,
    "nbgrader": {
     "checksum": "bb40006aa0ee0ebc055a022c10a8218b",
     "grade": false,
     "grade_id": "print_2",
     "locked": true,
     "solution": false
    }
   },
   "outputs": [],
   "source": [
    "print(reuters.fileids()[:10])"
   ]
  },
  {
   "cell_type": "code",
   "execution_count": null,
   "metadata": {
    "collapsed": false,
    "deletable": false,
    "nbgrader": {
     "checksum": "815a67908321f1780024b3f943f6d53a",
     "grade": false,
     "grade_id": "print_3",
     "locked": true,
     "solution": false
    }
   },
   "outputs": [],
   "source": [
    "print(len(reuters.categories()))"
   ]
  },
  {
   "cell_type": "code",
   "execution_count": null,
   "metadata": {
    "collapsed": false,
    "deletable": false,
    "nbgrader": {
     "checksum": "db8f987e7a099ce73bb9cda4661a2546",
     "grade": false,
     "grade_id": "print_4",
     "locked": true,
     "solution": false
    }
   },
   "outputs": [],
   "source": [
    "print(reuters.categories())"
   ]
  },
  {
   "cell_type": "markdown",
   "metadata": {
    "deletable": false,
    "nbgrader": {
     "checksum": "239d01734e194d555279b9df2bef5f4c",
     "grade": false,
     "grade_id": "markdown_2",
     "locked": true,
     "solution": false
    }
   },
   "source": [
    "Unlike the Brown Corpus, categories in the Reuters corpus overlap with each other, simply because a news story often covers multiple topics. We can ask for the topics covered by one or more documents, or for the documents included in one or more categories. For convenience, the corpus methods accept a single fileid or a list of fileids."
   ]
  },
  {
   "cell_type": "code",
   "execution_count": null,
   "metadata": {
    "collapsed": false,
    "deletable": false,
    "nbgrader": {
     "checksum": "d8f164a9d96da7f167025a8cfb3552cd",
     "grade": false,
     "grade_id": "print_5",
     "locked": true,
     "solution": false
    }
   },
   "outputs": [],
   "source": [
    "print(reuters.categories('training/9865'))"
   ]
  },
  {
   "cell_type": "code",
   "execution_count": null,
   "metadata": {
    "collapsed": false,
    "deletable": false,
    "nbgrader": {
     "checksum": "abe9f896fd9a2e88e34e27aff77cb328",
     "grade": false,
     "grade_id": "print_6",
     "locked": true,
     "solution": false
    }
   },
   "outputs": [],
   "source": [
    "print(reuters.categories(['training/9865', 'training/9880']))"
   ]
  },
  {
   "cell_type": "code",
   "execution_count": null,
   "metadata": {
    "collapsed": false,
    "deletable": false,
    "nbgrader": {
     "checksum": "f73fa6c29726a98e52d0b5a2e54b1b57",
     "grade": false,
     "grade_id": "print_7",
     "locked": true,
     "solution": false
    }
   },
   "outputs": [],
   "source": [
    "print(reuters.fileids('barley'))"
   ]
  },
  {
   "cell_type": "code",
   "execution_count": null,
   "metadata": {
    "collapsed": false,
    "deletable": false,
    "nbgrader": {
     "checksum": "84017c2b66fb1fa1a4e471e74df28ae0",
     "grade": false,
     "grade_id": "print_8",
     "locked": true,
     "solution": false
    }
   },
   "outputs": [],
   "source": [
    "print(reuters.fileids(['barley', 'corn']))"
   ]
  },
  {
   "cell_type": "markdown",
   "metadata": {
    "deletable": false,
    "nbgrader": {
     "checksum": "80f0b27e4d1dc2d6035b063c8f55e47b",
     "grade": false,
     "grade_id": "markdown_3",
     "locked": true,
     "solution": false
    }
   },
   "source": [
    "Similarly, we can specify the words or sentences we want in terms of files or categories. The first handful of words in each of these texts are the titles, which by convention are stored as upper case."
   ]
  },
  {
   "cell_type": "code",
   "execution_count": null,
   "metadata": {
    "collapsed": false,
    "deletable": false,
    "nbgrader": {
     "checksum": "a5467575b1e605d5cd641c356f0e136d",
     "grade": false,
     "grade_id": "print_9",
     "locked": true,
     "solution": false
    }
   },
   "outputs": [],
   "source": [
    "print(reuters.words('training/9865')[:14])"
   ]
  },
  {
   "cell_type": "code",
   "execution_count": null,
   "metadata": {
    "collapsed": false,
    "deletable": false,
    "nbgrader": {
     "checksum": "6db78cc76e540afe4e10c916a35381cd",
     "grade": false,
     "grade_id": "print_10",
     "locked": true,
     "solution": false
    }
   },
   "outputs": [],
   "source": [
    "print(reuters.words(['training/9865', 'training/9880']))"
   ]
  },
  {
   "cell_type": "code",
   "execution_count": null,
   "metadata": {
    "collapsed": false,
    "deletable": false,
    "nbgrader": {
     "checksum": "45ec0395e24730f451d74c221ac85168",
     "grade": false,
     "grade_id": "print_11",
     "locked": true,
     "solution": false
    }
   },
   "outputs": [],
   "source": [
    "print(reuters.words(categories='barley'))"
   ]
  },
  {
   "cell_type": "code",
   "execution_count": null,
   "metadata": {
    "collapsed": false,
    "deletable": false,
    "nbgrader": {
     "checksum": "a4fa4e6d7f688e5472e8252d1c3dc0fc",
     "grade": false,
     "grade_id": "print_12",
     "locked": true,
     "solution": false
    }
   },
   "outputs": [],
   "source": [
    "print(reuters.words(categories=['barley', 'corn']))"
   ]
  },
  {
   "cell_type": "markdown",
   "metadata": {
    "deletable": false,
    "nbgrader": {
     "checksum": "0109495e3e33d1af5e29f528ba905487",
     "grade": false,
     "grade_id": "markdown_4",
     "locked": true,
     "solution": false
    }
   },
   "source": [
    "## Search for long words\n",
    "\n",
    "- Write a function that retuns a list of all words in an NLTK corpus that are strictly longer than the specified `length`.\n",
    "- The function takes two arguments, `corpus` and `length`. `corpus` is mandatory, while `length` is optinal. If the user doesn't specify the `length` parameter, the default vaule of 20 will be used.\n",
    "- The function returns a list of strings.\n",
    "- For example, if we use the Reuters corpus, we get\n",
    "\n",
    "```python\n",
    ">>> long_words = get_long_words(reuters)\n",
    ">>> print(long_words)\n",
    "```\n",
    "```\n",
    "['discontinuedoperations', 'Warenhandelsgesellschaft', 'Gloeielampenfabrieken', 'Beteiligungsgesellschaft', '..........................................']\n",
    "```\n",
    "\n",
    "```python\n",
    ">>> words_longer_than_18_characters = get_long_words(reuters, 18)\n",
    ">>> print(words_longer_than_18_characters)\n",
    "```\n",
    "```\n",
    "['shareholdersapproved', 'polytetrahydrofuran', 'internationalisation', 'extraordinarycredits', 'discontinuedoperations', 'chlorofluorocarbons', 'Warenhandelsgesellschaft', 'Internationalisation', 'Internationalisation', 'Houdstermaatschappij', 'Gloeilampenfabrieken', 'Gloeilampenfabrieken', 'Gloeielampenfabrieken', 'Genossenschaftliche', 'Beteiligungsgesellschaft', 'Beleggingscompagnie', '..........................................', '....................', '.........--........']\n",
    "```"
   ]
  },
  {
   "cell_type": "code",
   "execution_count": null,
   "metadata": {
    "collapsed": false,
    "deletable": false,
    "nbgrader": {
     "checksum": "a384cc6daa5df3048946fadb23923a06",
     "grade": false,
     "grade_id": "get_long_words_answer",
     "locked": false,
     "solution": true
    }
   },
   "outputs": [],
   "source": [
    "def get_long_words(corpus, length=20):\n",
    "    \"\"\"\n",
    "    Finds all words in 'corpus' longer than 'length'.\n",
    "    \n",
    "    Parameters\n",
    "    ----------\n",
    "    corpus: An NLTK corpus.\n",
    "    length: An int. Default: 20\n",
    "    \n",
    "    Returns\n",
    "    -------\n",
    "    A list of strings.\n",
    "    \"\"\"\n",
    "    \n",
    "    # YOUR CODE HERE\n",
    "    \n",
    "    return long_words"
   ]
  },
  {
   "cell_type": "code",
   "execution_count": null,
   "metadata": {
    "collapsed": false,
    "deletable": false,
    "nbgrader": {
     "checksum": "bde00a864811576ecba8228af9748745",
     "grade": false,
     "grade_id": "print_get_long_words",
     "locked": true,
     "solution": false
    }
   },
   "outputs": [],
   "source": [
    "long_words = get_long_words(reuters)\n",
    "print(long_words)"
   ]
  },
  {
   "cell_type": "code",
   "execution_count": null,
   "metadata": {
    "collapsed": false,
    "deletable": false,
    "nbgrader": {
     "checksum": "837f449e917488a6ad7d57d59d83943a",
     "grade": true,
     "grade_id": "get_long_words_test",
     "locked": true,
     "points": 10,
     "solution": false
    }
   },
   "outputs": [],
   "source": [
    "long_words = get_long_words(reuters)\n",
    "assert_is_instance(long_words, list)\n",
    "assert_true(all(isinstance(w, str) for w in long_words))   \n",
    "assert_equal(len(long_words), 5)\n",
    "assert_equal(\n",
    "    set(long_words),\n",
    "    set(\n",
    "        ['discontinuedoperations',\n",
    "        'Warenhandelsgesellschaft',\n",
    "        'Gloeielampenfabrieken',\n",
    "        'Beteiligungsgesellschaft',\n",
    "        '..........................................']\n",
    "    )\n",
    ")\n",
    "\n",
    "words_longer_than_18_characters = get_long_words(reuters, 18)\n",
    "assert_equal(len(words_longer_than_18_characters), 19)\n",
    "assert_equal(\n",
    "    set(words_longer_than_18_characters),\n",
    "    set(\n",
    "        ['shareholdersapproved', 'polytetrahydrofuran', 'internationalisation',\n",
    "         'extraordinarycredits', 'discontinuedoperations', 'chlorofluorocarbons',\n",
    "         'Warenhandelsgesellschaft', 'Internationalisation', 'Internationalisation',\n",
    "         'Houdstermaatschappij', 'Gloeilampenfabrieken', 'Gloeilampenfabrieken',\n",
    "         'Gloeielampenfabrieken', 'Genossenschaftliche', 'Beteiligungsgesellschaft',\n",
    "         'Beleggingscompagnie', '..........................................',\n",
    "         '....................', '.........--........']\n",
    "    )\n",
    ")"
   ]
  }
 ],
 "metadata": {
  "kernelspec": {
   "display_name": "Python 3",
   "language": "python",
   "name": "python3"
  },
  "language_info": {
   "codemirror_mode": {
    "name": "ipython",
    "version": 3
   },
   "file_extension": ".py",
   "mimetype": "text/x-python",
   "name": "python",
   "nbconvert_exporter": "python",
   "pygments_lexer": "ipython3",
   "version": "3.5.2"
  }
 },
 "nbformat": 4,
 "nbformat_minor": 1
}
