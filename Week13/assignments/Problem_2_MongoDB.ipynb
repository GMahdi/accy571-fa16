{
 "cells": [
  {
   "cell_type": "markdown",
   "metadata": {
    "deletable": false,
    "nbgrader": {
     "checksum": "a98c739c45025e75b7a8a39168517825",
     "grade": false,
     "grade_id": "header",
     "locked": true,
     "solution": false
    }
   },
   "source": [
    "A few things you should keep in mind when working on assignments:\n",
    "\n",
    "1. Make sure you fill in any place that says `YOUR CODE HERE`. Do **not** write your answer in anywhere else other than where it says `YOUR CODE HERE`. Anything you write anywhere else will be removed or overwritten by the autograder.\n",
    "\n",
    "2. Before you submit your assignment, make sure everything runs as expected. Go to menubar, select _Kernel_, and restart the kernel and run all cells (_Restart & Run all_).\n",
    "\n",
    "3. Do not change the title (i.e. file name) of this notebook.\n",
    "\n",
    "4. Make sure that you save your work (in the menubar, select _File_ → _Save and CheckPoint_)\n",
    "\n",
    "5. You are allowed to submit an assignment multiple times, but only the most recent submission will be graded."
   ]
  },
  {
   "cell_type": "markdown",
   "metadata": {
    "deletable": false,
    "nbgrader": {
     "checksum": "a525f3f2a5e7df41f902e25af7c97344",
     "grade": false,
     "grade_id": "title",
     "locked": true,
     "solution": false
    }
   },
   "source": [
    "# Problem 2. MongoDB\n",
    "\n",
    "In this problem, we work with MongoDB from a Python program by using the `pymongo` database driver."
   ]
  },
  {
   "cell_type": "code",
   "execution_count": null,
   "metadata": {
    "collapsed": true,
    "deletable": false,
    "nbgrader": {
     "checksum": "8d1226bb687b5aa020fe334a165c92ba",
     "grade": false,
     "grade_id": "import",
     "locked": true,
     "solution": false
    }
   },
   "outputs": [],
   "source": [
    "from pymongo import MongoClient\n",
    "import random\n",
    "\n",
    "from nose.tools import assert_equal, assert_true, assert_is_instance"
   ]
  },
  {
   "cell_type": "markdown",
   "metadata": {
    "deletable": false,
    "nbgrader": {
     "checksum": "bbe887e9ea42162ba3024e474457eb3d",
     "grade": false,
     "grade_id": "markdown_1",
     "locked": true,
     "solution": false
    }
   },
   "source": [
    "Suppose we are given the following table:\n",
    "\n",
    "<div class=\"row\">\n",
    "    <div class=\"col-md-2\">\n",
    "      <div align=\"center\">\n",
    "        <b>Midterm</b>\n",
    "      </div>\n",
    "    <table>\n",
    "  <tr>\n",
    "    <th>Id</th>\n",
    "    <th>Name</th> \n",
    "    <th>Score</th>\n",
    "  </tr>\n",
    "  <tr>\n",
    "    <td>1</td>\n",
    "    <td>Alice</td> \n",
    "    <td>97.3</td>\n",
    "  </tr>\n",
    "  <tr>\n",
    "    <td>2</td>\n",
    "    <td>Bob</td> \n",
    "    <td>87.7</td>\n",
    "  </tr>\n",
    "  <tr>\n",
    "    <td>3</td>\n",
    "    <td>Chris</td> \n",
    "    <td>91.5</td>\n",
    "  </tr>\n",
    "</table>\n",
    "    </div>\n",
    "</div>\n",
    "\n",
    "We can represent this table as a list of dictionaries, as shown in the following code cell."
   ]
  },
  {
   "cell_type": "code",
   "execution_count": null,
   "metadata": {
    "collapsed": true,
    "deletable": false,
    "nbgrader": {
     "checksum": "04d9166e986fec91a5a2f679ee3f901e",
     "grade": false,
     "grade_id": "define_midterm",
     "locked": true,
     "solution": false
    }
   },
   "outputs": [],
   "source": [
    "midterm = [\n",
    "    {\"Id\": 1, \"Name\": \"Alice\", \"Score\": 97.3},\n",
    "    {\"Id\": 2, \"Name\": \"Bob\", \"Score\": 87.7},\n",
    "    {\"Id\": 3, \"Name\": \"Chris\", \"Score\": 91.5}\n",
    "]"
   ]
  },
  {
   "cell_type": "markdown",
   "metadata": {
    "deletable": false,
    "nbgrader": {
     "checksum": "f58c1c871128cfb7e35176ecad42b1b8",
     "grade": false,
     "grade_id": "markdown_2",
     "locked": true,
     "solution": false
    }
   },
   "source": [
    "In this problem, we will store this data as documents in a MongoDB collection. We need a MongoDB server, so let's connect to the course MongoDB cloud computing system."
   ]
  },
  {
   "cell_type": "code",
   "execution_count": null,
   "metadata": {
    "collapsed": true,
    "deletable": false,
    "nbgrader": {
     "checksum": "554d8df2e2bf6320b64909aa71439fd4",
     "grade": false,
     "grade_id": "mongoclient",
     "locked": true,
     "solution": false
    }
   },
   "outputs": [],
   "source": [
    "client = MongoClient(\"mongodb://192.168.100.23:27017\")"
   ]
  },
  {
   "cell_type": "markdown",
   "metadata": {
    "deletable": false,
    "nbgrader": {
     "checksum": "dfa2cc258e01729dce8e310ac738bb3a",
     "grade": false,
     "grade_id": "markdown_3",
     "locked": true,
     "solution": false
    }
   },
   "source": [
    "Since we are using a shared resource without authentication, we use your netid to create a database for each student."
   ]
  },
  {
   "cell_type": "code",
   "execution_count": null,
   "metadata": {
    "collapsed": false,
    "deletable": false,
    "nbgrader": {
     "checksum": "e9ef93acf49efd6f1c9f985144955ad0",
     "grade": false,
     "grade_id": "dbname",
     "locked": true,
     "solution": false
    }
   },
   "outputs": [],
   "source": [
    "# Filename containing user's netid\n",
    "fname = '/home/data_scientist/users.txt'\n",
    "with open(fname, 'r') as fin:\n",
    "    netid = fin.readline().rstrip()\n",
    "\n",
    "dbname = 'assignment-{0}'.format(netid)\n",
    "print(\"Database name: {}\".format(dbname))"
   ]
  },
  {
   "cell_type": "markdown",
   "metadata": {
    "deletable": false,
    "nbgrader": {
     "checksum": "8fda484eb5acaa86453588c1f46cf7ad",
     "grade": false,
     "grade_id": "markdown_4",
     "locked": true,
     "solution": false
    }
   },
   "source": [
    "## Inserting Data\n",
    "\n",
    "- Write a function that adds new documents `data` to our MongoDB collection.\n",
    "- `insert_data` takes two arguments: `collection` and `data`.\n",
    "- `collection` is a `pymongo.collection.Collection` instance, e.g. `client[dbname][\"Midterm\"]`.\n",
    "- `data` is a list of dictionaries.\n",
    "- The `insert_data()` function returns `None` if successfully completed.\n",
    "\n",
    "Hints:\n",
    "- The `collection` paramter (or `client[dbname][\"Midterm\"]` when the function is executed with `insert_data(client[dbname][\"Midterm\"], midterm)`) is a MongoDB collection. This instance of MongoDB collection has [insert_one()](http://api.mongodb.com/python/current/api/pymongo/collection.html#pymongo.collection.Collection.insert_one) and [insert_many()](http://api.mongodb.com/python/current/api/pymongo/collection.html#pymongo.collection.Collection.insert_many) methods. Use `insert_one()` or `insert_many()`. The [Introduction to MongoDB notebook](https://github.com/UI-DataScience/accy571-fa16/blob/master/Week13/notebooks/intro2mongodb.ipynb) has some examples."
   ]
  },
  {
   "cell_type": "code",
   "execution_count": null,
   "metadata": {
    "collapsed": true,
    "deletable": false,
    "nbgrader": {
     "checksum": "db675e92bc524984f57f4c1e390e9ec4",
     "grade": false,
     "grade_id": "insert_answer",
     "locked": false,
     "solution": true
    }
   },
   "outputs": [],
   "source": [
    "def insert_data(collection, data):\n",
    "    # YOUR CODE HERE"
   ]
  },
  {
   "cell_type": "code",
   "execution_count": null,
   "metadata": {
    "collapsed": false,
    "deletable": false,
    "nbgrader": {
     "checksum": "4f551ef2cc4305af769d1cbd9261ef24",
     "grade": false,
     "grade_id": "insert_run",
     "locked": true,
     "solution": false
    }
   },
   "outputs": [],
   "source": [
    "# we will delete our database if it exists before recreating\n",
    "if dbname in client.database_names():\n",
    "    client.drop_database(dbname)\n",
    "    \n",
    "# we now run our function to insert data\n",
    "insert_data(client[dbname][\"Midterm\"], midterm)\n",
    "\n",
    "print(\n",
    "    \"Existing databases:\",\n",
    "    [name for name in client.database_names() if netid in name]\n",
    ")\n",
    "print(\"Existing collections:\", client[dbname].collection_names())\n",
    "print(\"Number of documents:\", client[dbname][\"Midterm\"].count())\n",
    "for student in client[dbname][\"Midterm\"].find():\n",
    "    print(student)"
   ]
  },
  {
   "cell_type": "code",
   "execution_count": null,
   "metadata": {
    "collapsed": false,
    "deletable": false,
    "nbgrader": {
     "checksum": "03311009019f9e0ed425fcfc66c5fc84",
     "grade": true,
     "grade_id": "insert_test",
     "locked": true,
     "points": 5,
     "solution": false
    }
   },
   "outputs": [],
   "source": [
    "client.drop_database(dbname)\n",
    "\n",
    "db_midterm = client[dbname][\"Midterm\"]\n",
    "insert_data(db_midterm, midterm)\n",
    "\n",
    "assert_true(dbname in client.database_names())\n",
    "assert_true(\"Midterm\" in client[dbname].collection_names())\n",
    "\n",
    "assert_equal(db_midterm.count(), len(midterm))\n",
    "\n",
    "for m in midterm:\n",
    "    row = db_midterm.find_one({\"Id\": m[\"Id\"]})\n",
    "    assert_equal(row[\"Name\"], m[\"Name\"])\n",
    "    assert_equal(row[\"Score\"], m[\"Score\"])\n",
    "    \n",
    "# extra test\n",
    "test_data = [\n",
    "    {\"Id\": i,\n",
    "     \"Name\": ''.join(random.choice(\"abcdefghijklmnopqrstuv\") for _ in range(5)),\n",
    "     \"Score\": random.randint(0, 100)}\n",
    "    for i in range(10)\n",
    "]\n",
    "\n",
    "db_test = client[dbname][\"test0\"]\n",
    "insert_data(db_test, test_data)\n",
    "\n",
    "assert_equal(db_test.count(), len(test_data))\n",
    "for d in test_data:\n",
    "    row = db_test.find_one({\"Id\": d[\"Id\"]})\n",
    "    assert_equal(row[\"Name\"], d[\"Name\"])\n",
    "    assert_equal(row[\"Score\"], d[\"Score\"])"
   ]
  },
  {
   "cell_type": "markdown",
   "metadata": {
    "deletable": false,
    "nbgrader": {
     "checksum": "ce24de213e75194e8d296b945e900b32",
     "grade": false,
     "grade_id": "markdown_5",
     "locked": true,
     "solution": false
    }
   },
   "source": [
    "## Advanced Querying\n",
    "\n",
    "- Write a function that finds and returns the names of all students whose midterm score is greater than or equal to 90.\n",
    "- `query()` takes one argument, `collection`.\n",
    "- `collection` is a `pymongo.collection.Collection` instance, e.g. `client[dbname][\"Midterm\"]`.\n",
    "- The `query()` function returns a list of strings.\n",
    "- For example, if we search the `Midterm` collection,\n",
    "  ```python\n",
    "  >>> a_students = query(client[dbname][\"Midterm\"])\n",
    "  >>> print(a_students)\n",
    "  ```\n",
    "  we should get\n",
    "  ```\n",
    "  ['Alice', 'Chris']\n",
    "  ```\n",
    "  \n",
    "Hints:\n",
    "- To query a mongoDB database in `pymongo`, we use the [find()](http://api.mongodb.com/python/current/api/pymongo/collection.html#pymongo.collection.Collection.find) method.\n",
    "- You will also need to use the [query modifiers](https://docs.mongodb.com/manual/reference/operator/query/). The [Introduction to MongoDB notebook](https://github.com/UI-DataScience/accy571-fa16/blob/master/Week13/notebooks/intro2mongodb.ipynb) has some examples, as well as the [mongoDB documentation](https://docs.mongodb.com/manual/reference/operator/query/gte/#op._S_gte)."
   ]
  },
  {
   "cell_type": "code",
   "execution_count": null,
   "metadata": {
    "collapsed": true,
    "deletable": false,
    "nbgrader": {
     "checksum": "51af61f3c961fcccb7111de27310a312",
     "grade": false,
     "grade_id": "query_answer",
     "locked": false,
     "solution": true
    }
   },
   "outputs": [],
   "source": [
    "def query(collection):\n",
    "    # YOUR CODE HERE"
   ]
  },
  {
   "cell_type": "code",
   "execution_count": null,
   "metadata": {
    "collapsed": false,
    "deletable": false,
    "nbgrader": {
     "checksum": "6582f1446f7dfe333a969bf7e84807b7",
     "grade": false,
     "grade_id": "query_run",
     "locked": true,
     "solution": false
    }
   },
   "outputs": [],
   "source": [
    "a_students = query(client[dbname][\"Midterm\"])\n",
    "print(a_students)"
   ]
  },
  {
   "cell_type": "code",
   "execution_count": null,
   "metadata": {
    "collapsed": false,
    "deletable": false,
    "nbgrader": {
     "checksum": "b76552c124c3f15350477215fa7f938b",
     "grade": true,
     "grade_id": "query_test",
     "locked": true,
     "points": 5,
     "solution": false
    }
   },
   "outputs": [],
   "source": [
    "answer = sorted([m['Name'] for m in midterm if m[\"Score\"] >= 90.0])\n",
    "assert_equal(len(a_students), len(answer))\n",
    "assert_equal(set(a_students), set(answer))\n",
    "\n",
    "# extra test\n",
    "test_names = query(client[dbname][\"test0\"])\n",
    "test_answer = sorted([d[\"Name\"] for d in test_data if d[\"Score\"] >= 90.0])\n",
    "assert_equal(len(test_names), len(test_answer))\n",
    "assert_equal(set(test_names), set(test_answer))"
   ]
  },
  {
   "cell_type": "markdown",
   "metadata": {},
   "source": [
    "## Cleanup\n",
    "\n",
    "When you are done or if you want to start over with a clean database, run the following code cell."
   ]
  },
  {
   "cell_type": "code",
   "execution_count": null,
   "metadata": {
    "collapsed": true,
    "deletable": false,
    "nbgrader": {
     "checksum": "8cc4caef0c9477bb3ceba7c8edc1117b",
     "grade": false,
     "grade_id": "cleanup",
     "locked": true,
     "solution": false
    }
   },
   "outputs": [],
   "source": [
    "if dbname in client.database_names():\n",
    "    client.drop_database(dbname)\n",
    "    \n",
    "assert_true(dbname not in client.database_names())"
   ]
  },
  {
   "cell_type": "code",
   "execution_count": null,
   "metadata": {
    "collapsed": true
   },
   "outputs": [],
   "source": []
  }
 ],
 "metadata": {
  "kernelspec": {
   "display_name": "Python 3",
   "language": "python",
   "name": "python3"
  },
  "language_info": {
   "codemirror_mode": {
    "name": "ipython",
    "version": 3
   },
   "file_extension": ".py",
   "mimetype": "text/x-python",
   "name": "python",
   "nbconvert_exporter": "python",
   "pygments_lexer": "ipython3",
   "version": "3.5.2"
  }
 },
 "nbformat": 4,
 "nbformat_minor": 1
}
