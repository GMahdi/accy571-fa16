{
 "cells": [
  {
   "cell_type": "markdown",
   "metadata": {
    "deletable": false,
    "nbgrader": {
     "checksum": "a98c739c45025e75b7a8a39168517825",
     "grade": false,
     "grade_id": "header",
     "locked": true,
     "solution": false
    }
   },
   "source": [
    "A few things you should keep in mind when working on assignments:\n",
    "\n",
    "1. Make sure you fill in any place that says `YOUR CODE HERE`. Do **not** write your answer in anywhere else other than where it says `YOUR CODE HERE`. Anything you write anywhere else will be removed or overwritten by the autograder.\n",
    "\n",
    "2. Before you submit your assignment, make sure everything runs as expected. Go to menubar, select _Kernel_, and restart the kernel and run all cells (_Restart & Run all_).\n",
    "\n",
    "3. Do not change the title (i.e. file name) of this notebook.\n",
    "\n",
    "4. Make sure that you save your work (in the menubar, select _File_ → _Save and CheckPoint_)\n",
    "\n",
    "5. You are allowed to submit an assignment multiple times, but only the most recent submission will be graded."
   ]
  },
  {
   "cell_type": "markdown",
   "metadata": {
    "deletable": false,
    "nbgrader": {
     "checksum": "0a94ccd654552741cf59fd1a4ee89e6d",
     "grade": false,
     "grade_id": "title",
     "locked": true,
     "solution": false
    }
   },
   "source": [
    "# Problem 2. Linear Regression Using Statsmodels\n",
    "\n",
    "In this problem, we will use Statsmodels to fit a linear regression model that predicts `AirTime` from `Distance`."
   ]
  },
  {
   "cell_type": "code",
   "execution_count": null,
   "metadata": {
    "collapsed": true,
    "deletable": false,
    "nbgrader": {
     "checksum": "3008cb001f5f2b535bd2391d084f8621",
     "grade": false,
     "grade_id": "import",
     "locked": true,
     "solution": false
    }
   },
   "outputs": [],
   "source": [
    "%matplotlib inline\n",
    "\n",
    "import numpy as np\n",
    "import pandas as pd\n",
    "import matplotlib as mpl\n",
    "import matplotlib.pyplot as plt\n",
    "\n",
    "import seaborn as sns\n",
    "import statsmodels.api as sm\n",
    "import statsmodels.formula.api as smf\n",
    "\n",
    "# tools for testing\n",
    "from nose.tools import assert_equal, assert_is_not, assert_is_instance\n",
    "from numpy.testing import assert_array_equal, assert_array_almost_equal"
   ]
  },
  {
   "cell_type": "markdown",
   "metadata": {
    "deletable": false,
    "nbgrader": {
     "checksum": "1c2c2cb70ab527cd28361eba11cf1d54",
     "grade": false,
     "grade_id": "markdown_1",
     "locked": true,
     "solution": false
    }
   },
   "source": [
    "We use the same data set that we used in [Problem 1](https://github.com/UI-DataScience/accy571-fa16/blob/master/Week5/assignments/Problem_1_Seaborn_Linear_Regression.ipynb). However, in this problem, we will use `statsmodels`, not `seaborn`."
   ]
  },
  {
   "cell_type": "code",
   "execution_count": null,
   "metadata": {
    "collapsed": false,
    "deletable": false,
    "nbgrader": {
     "checksum": "429df3345fcc2c4dd3733a12283cc301",
     "grade": false,
     "grade_id": "data",
     "locked": true,
     "solution": false
    }
   },
   "outputs": [],
   "source": [
    "data = pd.DataFrame(\n",
    "    {\"AirTime\": [60, 84, 95, 182, 337, 119, 87, 103, 55, 47,\n",
    "        127, 215, 213, 59, 31, 57, 88, 42, 45, 102],\n",
    "     \"Distance\": [361, 569, 588, 1172, 2565, 861, 665, 787, 228, 197,\n",
    "        978, 1745, 1605, 373, 156, 209, 505, 224, 282, 862]}\n",
    ")"
   ]
  },
  {
   "cell_type": "code",
   "execution_count": null,
   "metadata": {
    "collapsed": false,
    "deletable": false,
    "nbgrader": {
     "checksum": "6803f16a97bee00f1c4ed7dc280cc49a",
     "grade": false,
     "grade_id": "print_data",
     "locked": true,
     "solution": false
    }
   },
   "outputs": [],
   "source": [
    "print(data)"
   ]
  },
  {
   "cell_type": "markdown",
   "metadata": {
    "deletable": false,
    "nbgrader": {
     "checksum": "9b36e1e3d8561d92b5faa7b0adafa65f",
     "grade": false,
     "grade_id": "markdown_2",
     "locked": true,
     "solution": false
    }
   },
   "source": [
    "## Use Statsmodels to fit a linear regression model\n",
    "\n",
    "- Write a function named `fit_statsmodels_linear_regression()` that fits an ordinary least squares (OLS) fit on `Distance` and `AirTime`.\n",
    "\n",
    "Notes:\n",
    "\n",
    "- The function takes one argument, a `pandas.DataFrame` with two columns, `AirTime` and `Distance`.\n",
    "\n",
    "- It then uses `statsmodels.formula.api.ols()` to fit an OLS model that maps the `AirTime` labels to the `Distance` features. (In other words, if `Distance` is the $x$ feature and `AirTime` is the $y$ label, we want to fit a linear regression function $y=f(x)$ and predict `AirTime` from `Distance`.)\n",
    "\n",
    "- Finally, we use the model to predict `AirTime` from `Distance` and return the predictions as a `numpy.ndarray`. We use the same data set to fit the model **and** make predictions. (In [Problem 3](https://github.com/UI-DataScience/accy571-fa16/blob/master/Week5/assignments/Problem_3_Multiple_Variable_Linear_Regression.ipynb), we will use a \"training set\" to fit a model and make predictions on a different \"test set\".)\n",
    "\n",
    "- Use the formulaic interface that represents a linear regression with one independent variable (with no intercept), e.g. `y ~ x`."
   ]
  },
  {
   "cell_type": "code",
   "execution_count": null,
   "metadata": {
    "collapsed": true,
    "deletable": false,
    "nbgrader": {
     "checksum": "840eab0773e20691ff894e7cac2e732b",
     "grade": false,
     "grade_id": "fit_statsmodels_linear_regression_answer",
     "locked": false,
     "solution": true
    }
   },
   "outputs": [],
   "source": [
    "def fit_statsmodels_linear_regression(df):\n",
    "    \"\"\"\n",
    "    Trains an OLS that predicts \"AirTime\" from \"Distance\".\n",
    "    Returns the predicted \"AirTime\" values.\n",
    "    \n",
    "    Parameters\n",
    "    ----------\n",
    "    df: A pandas.DataFrame. Should have \"AirTime\" and \"Distance\" columns.\n",
    "    \n",
    "    Returns\n",
    "    -------\n",
    "    A numpy array\n",
    "    \"\"\"\n",
    "\n",
    "    # YOUR CODE HERE\n",
    "    \n",
    "    return result"
   ]
  },
  {
   "cell_type": "code",
   "execution_count": null,
   "metadata": {
    "collapsed": false,
    "deletable": false,
    "nbgrader": {
     "checksum": "d185fb5b5ac2dfd8aa517ef8c78ae808",
     "grade": false,
     "grade_id": "fit_statsmodels_linear_regression_run",
     "locked": true,
     "solution": false
    }
   },
   "outputs": [],
   "source": [
    "y_pred = fit_statsmodels_linear_regression(data)\n",
    "print(y_pred)"
   ]
  },
  {
   "cell_type": "code",
   "execution_count": null,
   "metadata": {
    "collapsed": false,
    "deletable": false,
    "nbgrader": {
     "checksum": "fa50db133e898cb8b85c2bba12e387b1",
     "grade": true,
     "grade_id": "fit_statsmodels_linear_regression_test",
     "locked": true,
     "points": 10,
     "solution": false
    }
   },
   "outputs": [],
   "source": [
    "assert_array_almost_equal(\n",
    "    y_pred,\n",
    "    np.array([\n",
    "        60.72739639, 85.90348963, 88.20322891, 158.88995222, 327.49715352,\n",
    "        121.24685128, 97.52322496, 112.28997195, 44.62922139, 40.87701519,\n",
    "        135.40840372, 228.24524751, 211.29980014, 62.17986331, 35.91441989,\n",
    "        42.32948211, 78.1569994, 44.14506576, 51.16532252, 121.36789019\n",
    "    ])\n",
    "    )\n",
    "\n",
    "# test more cases\n",
    "df1 = pd.DataFrame({\n",
    "    \"AirTime\": np.arange(100),\n",
    "    \"Distance\": np.arange(100)\n",
    "    })\n",
    "y_test = fit_statsmodels_linear_regression(df1)\n",
    "\n",
    "assert_array_almost_equal(y_test, df1[\"Distance\"])"
   ]
  },
  {
   "cell_type": "markdown",
   "metadata": {
    "deletable": false,
    "nbgrader": {
     "checksum": "74490eb8da06fbc2fb6e6589f712e85c",
     "grade": false,
     "grade_id": "markdown_3",
     "locked": true,
     "solution": false
    }
   },
   "source": [
    "## Plot the linear regression model\n",
    "\n",
    "Plot the model we learned with `fit_statsmodels_linear_regression()`. Your plot should have both a scatter plot of `AirTime` vs. `Distance` and a line that represents the linear regression model.\n",
    "\n",
    "- Use [seaborn.regplot](http://stanford.edu/~mwaskom/software/seaborn/generated/seaborn.regplot.html) to write a function named `plot_seaborn_linear_regression()` that creates a scatter plot with `Distance` in the $x$-axis and `AirTime` in the $y$-axis. The function shuold also fit a linear regression model in the same plot. \n",
    "\n",
    "Here is an example plot. (You don't have to make your plot look exactly like this example. If your plot looks visually OK, and if the test code cell doesn't produce any errors, your solution is correct.)\n",
    "\n",
    "![](statsmodels_linear_regression.png)\n",
    "\n",
    "Hints:\n",
    "\n",
    "- The function take two arguments: `df` and `y`. `df` is a `pandas.DataFrame` and is used for creating the scatter plot. `y` is a Numpy array that we obtained from `fit_statsmodels_linear_regression()`, and we use `y` for plotting the linear relationship (i.e., a straight line with `Distance` on the $x$-axis and `y` on the $y$-axis). For example,\n",
    "\n",
    "```python\n",
    ">>> y_pred = fit_statsmodels_linear_regression(data)\n",
    ">>> ax = plot_statsmodels_linear_regression(data, y_pred)\n",
    "```\n",
    "\n",
    "- By default, `seaborn.regplot()` will fit and plot a **seaborn** linear regression model. Use the [fit_reg](https://stanford.edu/~mwaskom/software/seaborn/generated/seaborn.regplot.html) parameter to turn this off.\n",
    "\n",
    "- The function should return an instance of [matplotlib.Axes](http://matplotlib.org/users/artists.html) object. Note `seaborn.regplot()` returns a matplotlib Axes instance, so you can assign the return value of the `seaborn.regplot()` function to a variable named `ax` and return this variable `ax`.\n",
    "\n",
    "- You plot should also have a title and labels for the $x$ and $y$ axes. To do this, use one or more of the following: [ax.set()](http://matplotlib.org/api/axes_api.html#matplotlib.axes.Axes.set), [ax.set_title()](http://matplotlib.org/api/axes_api.html#matplotlib.axes.Axes.set_title), [ax.set_xlabel()](http://matplotlib.org/api/axes_api.html#matplotlib.axes.Axes.set_xlabel), or [ax.set_ylabel()](http://matplotlib.org/api/axes_api.html#matplotlib.axes.Axes.set_ylabel).\n",
    "\n",
    "- If you are not sure how to do this, there is an example of using `seaborn.regplot()` in the [Introduction to Regression](https://github.com/UI-DataScience/accy571-fa16/blob/master/Week5/notebooks/intro2regress.ipynb) notebook."
   ]
  },
  {
   "cell_type": "code",
   "execution_count": null,
   "metadata": {
    "collapsed": false,
    "deletable": false,
    "nbgrader": {
     "checksum": "7e3aacaf73280f77779a3999da77f6cf",
     "grade": false,
     "grade_id": "plot_statsmodels_linear_regression_answer",
     "locked": false,
     "solution": true
    }
   },
   "outputs": [],
   "source": [
    "def plot_statsmodels_linear_regression(df, y):\n",
    "    \"\"\"\n",
    "    Plots the follwoing:\n",
    "    1. A scatter plot of the \"Distance\" column on the x-axis\n",
    "       and the \"AirTime\" column on the y-axis,\n",
    "    2. A straight line with \"Distance\" on the x-axis\n",
    "       and the values of \"y\" on the y-axis.\n",
    "              \n",
    "    Parameters\n",
    "    ----------\n",
    "    df: A pandas.DataFrame. Should have columns named \"AirTime\" and \"Distance\".\n",
    "    y: A Numpy array. The y values of the linear regression model.\n",
    "    \n",
    "    Returns\n",
    "    -------\n",
    "    A matplotlib.Axes object\n",
    "    \"\"\"\n",
    "    \n",
    "    # YOUR CODE HERE\n",
    "\n",
    "    return ax"
   ]
  },
  {
   "cell_type": "code",
   "execution_count": null,
   "metadata": {
    "collapsed": false,
    "deletable": false,
    "nbgrader": {
     "checksum": "4971caffdd221ac0e69ea6942f8080d3",
     "grade": false,
     "grade_id": "plot_statsmodels_linear_regression_run",
     "locked": true,
     "solution": false
    }
   },
   "outputs": [],
   "source": [
    "ax = plot_statsmodels_linear_regression(data, y_pred)"
   ]
  },
  {
   "cell_type": "code",
   "execution_count": null,
   "metadata": {
    "collapsed": false,
    "deletable": false,
    "nbgrader": {
     "checksum": "5c2e585dd8794820cf2380527ceb44ca",
     "grade": true,
     "grade_id": "plot_statsmodels_linear_regression_test",
     "locked": true,
     "points": 10,
     "solution": false
    }
   },
   "outputs": [],
   "source": [
    "assert_is_instance(\n",
    "    ax, mpl.axes.Axes,\n",
    "    msg=\"Your function should return a matplotlib.axes.Axes object.\"\n",
    ")\n",
    "assert_equal(len(ax.lines), 1)\n",
    "assert_equal(\n",
    "    len(ax.collections), 1,\n",
    "    msg=\"You should turn off Seaborn regression.\"\n",
    ")\n",
    "assert_is_not(\n",
    "    len(ax.title.get_text()), 0,\n",
    "    msg=\"Your plot doesn't have a title.\"\n",
    ")\n",
    "assert_is_not(\n",
    "    ax.xaxis.get_label_text(), \"AirTime\",\n",
    "    msg=\"Change the x-axis label to something more descriptive.\"\n",
    ")\n",
    "assert_is_not(\n",
    "    ax.yaxis.get_label_text(), \"Distance\",\n",
    "    msg=\"Change the y-axis label to something more descriptive.\"\n",
    ")\n",
    "    \n",
    "x_scatter, y_scatter = ax.collections[0].get_offsets().T\n",
    "assert_array_equal(x_scatter, data[\"Distance\"])\n",
    "assert_array_equal(y_scatter, data[\"AirTime\"])\n",
    "\n",
    "line = ax.get_lines()[0]\n",
    "x_line = line.get_xdata()\n",
    "y_line = line.get_ydata()\n",
    "assert_array_equal(x_line, data[\"Distance\"])\n",
    "assert_array_almost_equal(y_line, y_pred)\n",
    "\n",
    "# If your function can only plot the delays and\n",
    "# cannot handle other data sets, the following test will fail.\n",
    "df1 = pd.DataFrame({\n",
    "    \"AirTime\": np.random.randint(100, size=100),\n",
    "    \"Distance\": np.random.randint(100, size=100)\n",
    "    })\n",
    "y_pred1 = fit_statsmodels_linear_regression(df1)\n",
    "ax1 = plot_statsmodels_linear_regression(df1, y_pred1)\n",
    "x1data, y1data = ax1.collections[0].get_offsets().T\n",
    "assert_array_equal(x1data, df1[\"Distance\"].values)\n",
    "assert_array_equal(y1data, df1[\"AirTime\"].values)\n",
    "\n",
    "line1 = ax1.get_lines()[0]\n",
    "x_line1 = line1.get_xdata()\n",
    "y_line1 = line1.get_ydata()\n",
    "assert_array_equal(x_line1, df1[\"Distance\"])\n",
    "assert_array_almost_equal(y_line1, y_pred1)\n",
    "\n",
    "plt.close()"
   ]
  }
 ],
 "metadata": {
  "kernelspec": {
   "display_name": "Python 3",
   "language": "python",
   "name": "python3"
  },
  "language_info": {
   "codemirror_mode": {
    "name": "ipython",
    "version": 3
   },
   "file_extension": ".py",
   "mimetype": "text/x-python",
   "name": "python",
   "nbconvert_exporter": "python",
   "pygments_lexer": "ipython3",
   "version": "3.5.2"
  }
 },
 "nbformat": 4,
 "nbformat_minor": 1
}
