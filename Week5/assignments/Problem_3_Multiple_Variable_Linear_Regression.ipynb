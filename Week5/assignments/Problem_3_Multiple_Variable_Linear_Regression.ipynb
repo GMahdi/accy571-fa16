{
 "cells": [
  {
   "cell_type": "markdown",
   "metadata": {
    "deletable": false,
    "nbgrader": {
     "checksum": "a98c739c45025e75b7a8a39168517825",
     "grade": false,
     "grade_id": "header",
     "locked": true,
     "solution": false
    }
   },
   "source": [
    "A few things you should keep in mind when working on assignments:\n",
    "\n",
    "1. Make sure you fill in any place that says `YOUR CODE HERE`. Do **not** write your answer in anywhere else other than where it says `YOUR CODE HERE`. Anything you write anywhere else will be removed or overwritten by the autograder.\n",
    "\n",
    "2. Before you submit your assignment, make sure everything runs as expected. Go to menubar, select _Kernel_, and restart the kernel and run all cells (_Restart & Run all_).\n",
    "\n",
    "3. Do not change the title (i.e. file name) of this notebook.\n",
    "\n",
    "4. Make sure that you save your work (in the menubar, select _File_ → _Save and CheckPoint_)\n",
    "\n",
    "5. You are allowed to submit an assignment multiple times, but only the most recent submission will be graded."
   ]
  },
  {
   "cell_type": "markdown",
   "metadata": {
    "deletable": false,
    "nbgrader": {
     "checksum": "50bdedfb7bdff82011dfd1585045b479",
     "grade": false,
     "grade_id": "title",
     "locked": true,
     "solution": false
    }
   },
   "source": [
    "# Problem 3. Multiple Variable Linear Regression\n",
    "\n",
    "In this problem, we will use statsmodels to fit a multiple variable linear regression model that predicts `AirTime` from `Distance` and `DepDelay`."
   ]
  },
  {
   "cell_type": "code",
   "execution_count": null,
   "metadata": {
    "collapsed": true,
    "deletable": false,
    "nbgrader": {
     "checksum": "9fe4345d1810110e742c2dd86b5f766d",
     "grade": false,
     "grade_id": "import",
     "locked": true,
     "solution": false
    }
   },
   "outputs": [],
   "source": [
    "import numpy as np\n",
    "import pandas as pd\n",
    "import matplotlib as mpl\n",
    "import matplotlib.pyplot as plt\n",
    "\n",
    "import seaborn as sns\n",
    "import statsmodels.api as sm\n",
    "import statsmodels.formula.api as smf\n",
    "from sklearn.metrics import mean_squared_error\n",
    "\n",
    "# tools for testing\n",
    "from nose.tools import assert_is_instance, assert_almost_equal\n",
    "from numpy.testing import assert_array_almost_equal"
   ]
  },
  {
   "cell_type": "markdown",
   "metadata": {
    "deletable": false,
    "nbgrader": {
     "checksum": "24b72deecd1f6c1add76fb5f9af74fc4",
     "grade": false,
     "grade_id": "markdown_1",
     "locked": true,
     "solution": false
    }
   },
   "source": [
    "In [Problem 1](https://github.com/UI-DataScience/accy571-fa16/blob/master/Week5/assignments/Problem_1_Seaborn_Linear_Regression.ipynb) and [Problem 2](https://github.com/UI-DataScience/accy571-fa16/blob/master/Week5/assignments/Problem_2_Statsmodels_Linear_Regression.ipynb), we have used all of our data to fit a model, and made predictions on the same data. Often, we want to perform [cross-validation](https://en.wikipedia.org/wiki/Cross-validation_(statistics) (see the [Introduction to Regression](https://github.com/UI-DataScience/accy571-fa16/blob/master/Week5/notebooks/intro2regress.ipynb) notebook). In cross-validation, we use a training set to fit a model, and use a separate test set to quantify the quality of a particular fit.\n",
    "\n",
    "Suppose, in addition to the data from 20 flights (which we will use as training data to fit a model), we are given data from 10 more flights (which we will use as testing data to quantify the quality of the fit).\n",
    "\n",
    "```python\n",
    ">>> print(data_test)\n",
    "```\n",
    "```\n",
    "   DepDelay  Distance\n",
    "0        -5       361\n",
    "1         0       588\n",
    "2        -6      2565\n",
    "3        11      2454\n",
    "4        23       228\n",
    "5        -2      1182\n",
    "6        -1      1605\n",
    "7        -7       477\n",
    "8        -2       505\n",
    "9         2       228\n",
    "```\n",
    "\n",
    "```python\n",
    ">>> print(air_time_true)\n",
    "```\n",
    "```\n",
    "   AirTime\n",
    "0       64\n",
    "1       95\n",
    "2      296\n",
    "3      328\n",
    "4       56\n",
    "5      151\n",
    "6      187\n",
    "7       71\n",
    "8       76\n",
    "9       56\n",
    "```"
   ]
  },
  {
   "cell_type": "code",
   "execution_count": null,
   "metadata": {
    "collapsed": false,
    "deletable": false,
    "nbgrader": {
     "checksum": "cb037929aa34d15b769bd785e1bedbcf",
     "grade": false,
     "grade_id": "data",
     "locked": true,
     "solution": false
    }
   },
   "outputs": [],
   "source": [
    "data_train = pd.DataFrame(\n",
    "    {\"Distance\": [\n",
    "        361, 569, 588, 1172, 2565, 861, 665, 787, 228, 197,\n",
    "        978, 1745, 1605, 373, 156, 209, 505, 224, 282, 862\n",
    "    ],\n",
    "    \"DepDelay\": [\n",
    "        -3, 10, -2, 10, -11, 0, 17, -24, 1, 75,\n",
    "        -16, -26, -10, -17, -11, -4, -4, 66, -8, 41\n",
    "    ],\n",
    "    \"AirTime\": [\n",
    "        60, 84, 95, 182, 337, 119, 87, 103, 55, 47,\n",
    "        127, 215, 213, 59, 31, 57, 88, 42, 45, 102\n",
    "    ]}\n",
    ")\n",
    "\n",
    "data_test = pd.DataFrame(\n",
    "    {\"Distance\": [\n",
    "        361, 588, 2565, 2454, 228, 1182, 1605, 477, 505, 228\n",
    "    ],\n",
    "    \"DepDelay\": [\n",
    "        -5, 0, -6, 11, 23, -2, -1, -7, -2, 2\n",
    "    ]}\n",
    ")\n",
    "\n",
    "air_time_true = pd.DataFrame(\n",
    "    {\"AirTime\": [\n",
    "        64, 95, 296, 328, 56, 151, 187, 71, 76, 56\n",
    "    ]}\n",
    ")"
   ]
  },
  {
   "cell_type": "code",
   "execution_count": null,
   "metadata": {
    "collapsed": false,
    "deletable": false,
    "nbgrader": {
     "checksum": "b5df224075094adc195014aa843f6d25",
     "grade": false,
     "grade_id": "print_data_test",
     "locked": true,
     "solution": false
    }
   },
   "outputs": [],
   "source": [
    "print(data_test)"
   ]
  },
  {
   "cell_type": "code",
   "execution_count": null,
   "metadata": {
    "collapsed": false,
    "deletable": false,
    "nbgrader": {
     "checksum": "750940ab5d1a3895bab2b3c53a71a84c",
     "grade": false,
     "grade_id": "print_air_time_true",
     "locked": true,
     "solution": false
    }
   },
   "outputs": [],
   "source": [
    "print(air_time_true)"
   ]
  },
  {
   "cell_type": "markdown",
   "metadata": {
    "deletable": false,
    "nbgrader": {
     "checksum": "5a2890053468ce7e2afa8275d1a8a00f",
     "grade": false,
     "grade_id": "markdown_2",
     "locked": true,
     "solution": false
    }
   },
   "source": [
    "## Use Statsmodels to fit a multiple variable linear regression model\n",
    "\n",
    "- Write a function named `fit_multiple_variable_linear_regression()` which fits an ordinary least squares (OLS) fit that predicts `AirTime` from `Distance` and `DepDelay`.\n",
    "\n",
    "Notes:\n",
    "\n",
    "- The function takes two arguments. The first argument `df_train` is a `pandas.DataFrame` with three columns: `AirTime`, `Distance`, and `DepDelay`. The second argument `df_test` is a `pandas.DataFrame` with two columns, `Distance` and `DepDelay`.\n",
    "\n",
    "- It then uses `statsmodels.formula.api.ols()` to fit an OLS model that maps the `AirTime` labels to the `Distance` and `DepDelay` features of **df_train**. (In other words, if `Distance` is $x_1$, `DepDelay` $x_2$, and `AirTime` is the $y$ label, we want to fit a linear regression function $y=f(x_1,x_2)$ and predict `AirTime` from `Distance` and `DepDelay`.)\n",
    "\n",
    "- Finally, we use the model to predict `AirTime` from the `Distance` and `DepDelay` columns of **df_test** and return the predictions as a `numpy.ndarray`. (In contrast to Problem 1 and 2, we don't make predictions on the same data set. We use `df_train` to fit the model, and then make predictions on `df_test`.)\n",
    "\n",
    "- Use the formulaic interface that represents a linear combination of two independent variables (with no intercept), e.g. `y ~ x1 + x2`."
   ]
  },
  {
   "cell_type": "code",
   "execution_count": null,
   "metadata": {
    "collapsed": true,
    "deletable": false,
    "nbgrader": {
     "checksum": "c92f3804805c721fa5c79385314e6871",
     "grade": false,
     "grade_id": "fit_multiple_variable_linear_regression_answer",
     "locked": false,
     "solution": true
    }
   },
   "outputs": [],
   "source": [
    "def fit_multiple_variable_linear_regression(df_train, df_test):\n",
    "    \"\"\"\n",
    "    Trains OLS on the columns in \"df_train\" and makes a prediction for \"df_test\".\n",
    "    Returns the predicted \"AirTime\" values.\n",
    "    \n",
    "    Parameters\n",
    "    ----------\n",
    "    df_train: A pandas.DataFrame. Should have \"AirTime\", \"ArrDelay\", and \"Distance\" columns.\n",
    "    df_test: A pandas.DataFrame. Should have \"AirTime\" and \"ArrDelay\" columns.\n",
    "    \n",
    "    Returns\n",
    "    -------\n",
    "    A numpy array\n",
    "    \"\"\"\n",
    "\n",
    "    # YOUR CODE HERE\n",
    "    \n",
    "    return result"
   ]
  },
  {
   "cell_type": "code",
   "execution_count": null,
   "metadata": {
    "collapsed": false,
    "deletable": false,
    "nbgrader": {
     "checksum": "c17504e4b4ee8ebfe3e98eb08cc7875b",
     "grade": false,
     "grade_id": "fit_multiple_variable_linear_regression_run",
     "locked": true,
     "solution": false
    }
   },
   "outputs": [],
   "source": [
    "air_time_pred = fit_multiple_variable_linear_regression(data_train, data_test)\n",
    "print(air_time_pred)"
   ]
  },
  {
   "cell_type": "code",
   "execution_count": null,
   "metadata": {
    "collapsed": false,
    "deletable": false,
    "nbgrader": {
     "checksum": "8ac404f804f0005ae25c2a9c020500d2",
     "grade": true,
     "grade_id": "fit_multiple_variable_linear_regression_test",
     "locked": true,
     "points": 10,
     "solution": false
    }
   },
   "outputs": [],
   "source": [
    "assert_is_instance(air_time_pred, np.ndarray)\n",
    "assert_array_almost_equal(\n",
    "    air_time_pred,\n",
    "    [60.49457846, 88.10094501, 327.75462849, 314.56045885, 44.80502873,\n",
    "     160.10305484, 211.41530694, 74.53035392, 78.00429255, 44.47565995]\n",
    ")\n",
    "\n",
    "# test a trivial case\n",
    "df_train1 = pd.DataFrame(\n",
    "    {\"Distance\": np.arange(50),\n",
    "     \"DepDelay\": np.arange(50) - 1,\n",
    "     \"AirTime\": np.arange(50) + 1}\n",
    ")\n",
    "df_test1 = pd.DataFrame(\n",
    "    {\"Distance\": np.arange(50) + 1,\n",
    "     \"DepDelay\": np.arange(50)}\n",
    ")\n",
    "y_pred1 = fit_multiple_variable_linear_regression(df_train1, df_test1)\n",
    "assert_array_almost_equal(y_pred1, np.arange(50) + 2)"
   ]
  },
  {
   "cell_type": "markdown",
   "metadata": {
    "deletable": false,
    "nbgrader": {
     "checksum": "eea6c1973222c928c0bd7b42a251c3d9",
     "grade": false,
     "grade_id": "markdown_3",
     "locked": true,
     "solution": false
    }
   },
   "source": [
    "## Compute the root mean squared error\n",
    "\n",
    "- Write a function named `compute_root_mean_squared_error()` that computes the root mean squared error between two numpy arrays.\n",
    "\n",
    "- You can either take the square root of `sklearn.metrics.mean_squared_error()`, or use Numpy functions to calculate\n",
    "\n",
    "$$\n",
    "\\text{RMSE} = \\sqrt{\\frac{\\sum_{i=1}^{N}(\\hat{y}_i - y_i)^2}{N}}\n",
    "$$\n",
    "\n",
    "- In our case, we have\n",
    "```python\n",
    ">>> rmse = compute_root_mean_squared_error(air_time_true, air_time_pred)\n",
    ">>> print(\"Root mean squared error is {0:.1f} minutes.\".format(rmse))\n",
    "```\n",
    "```\n",
    "Root mean squared error is 14.8 minutes.\n",
    "```\n",
    "So, when our model predictions are compared to the ground truth, each prediction had an error of 14.8 minutes."
   ]
  },
  {
   "cell_type": "code",
   "execution_count": null,
   "metadata": {
    "collapsed": false,
    "deletable": false,
    "nbgrader": {
     "checksum": "abbf2be1a5ad41944621fd12a62359b4",
     "grade": false,
     "grade_id": "compute_root_mean_squared_error_answer",
     "locked": false,
     "solution": true
    }
   },
   "outputs": [],
   "source": [
    "def compute_root_mean_squared_error(y_true, y_pred):\n",
    "    \"\"\"\n",
    "    Computes the root mean squared error.\n",
    "    \n",
    "    Parameters\n",
    "    ----------\n",
    "    y_true: A numpy array. Ground truth (correct) target values.\n",
    "    y_pred: A numpy array. Estimated target values.\n",
    "\n",
    "    Returns\n",
    "    -------\n",
    "    A numpy.float.\n",
    "    \"\"\"\n",
    "    \n",
    "    # YOUR CODE HERE\n",
    "    \n",
    "    return result"
   ]
  },
  {
   "cell_type": "code",
   "execution_count": null,
   "metadata": {
    "collapsed": false,
    "deletable": false,
    "nbgrader": {
     "checksum": "7ffeb5870ad5c16ce88d06cbb4e0a18f",
     "grade": false,
     "grade_id": "compute_root_mean_squared_error_run",
     "locked": true,
     "solution": false
    }
   },
   "outputs": [],
   "source": [
    "rmse = compute_root_mean_squared_error(air_time_true, air_time_pred)\n",
    "print(\"Root mean squared error is {0:.1f} minutes.\".format(rmse))"
   ]
  },
  {
   "cell_type": "code",
   "execution_count": null,
   "metadata": {
    "collapsed": false,
    "deletable": false,
    "nbgrader": {
     "checksum": "f258cbef1b2164e2b8de32be6454c855",
     "grade": true,
     "grade_id": "compute_root_mean_squared_error_test",
     "locked": true,
     "points": 10,
     "solution": false
    }
   },
   "outputs": [],
   "source": [
    "assert_is_instance(rmse, np.float)\n",
    "assert_almost_equal(rmse, 14.8406665601)\n",
    "\n",
    "# test a trivial case\n",
    "y_true1 = np.arange(50)\n",
    "y_pred1 = y_true1 + 1\n",
    "assert_almost_equal(compute_root_mean_squared_error(y_true1, y_pred1), 1.)"
   ]
  }
 ],
 "metadata": {
  "kernelspec": {
   "display_name": "Python 3",
   "language": "python",
   "name": "python3"
  },
  "language_info": {
   "codemirror_mode": {
    "name": "ipython",
    "version": 3
   },
   "file_extension": ".py",
   "mimetype": "text/x-python",
   "name": "python",
   "nbconvert_exporter": "python",
   "pygments_lexer": "ipython3",
   "version": "3.5.2"
  }
 },
 "nbformat": 4,
 "nbformat_minor": 1
}
