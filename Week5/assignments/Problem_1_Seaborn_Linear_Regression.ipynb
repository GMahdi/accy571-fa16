{
 "cells": [
  {
   "cell_type": "markdown",
   "metadata": {
    "deletable": false,
    "nbgrader": {
     "checksum": "a98c739c45025e75b7a8a39168517825",
     "grade": false,
     "grade_id": "header",
     "locked": true,
     "solution": false
    }
   },
   "source": [
    "A few things you should keep in mind when working on assignments:\n",
    "\n",
    "1. Make sure you fill in any place that says `YOUR CODE HERE`. Do **not** write your answer in anywhere else other than where it says `YOUR CODE HERE`. Anything you write anywhere else will be removed or overwritten by the autograder.\n",
    "\n",
    "2. Before you submit your assignment, make sure everything runs as expected. Go to menubar, select _Kernel_, and restart the kernel and run all cells (_Restart & Run all_).\n",
    "\n",
    "3. Do not change the title (i.e. file name) of this notebook.\n",
    "\n",
    "4. Make sure that you save your work (in the menubar, select _File_ → _Save and CheckPoint_)\n",
    "\n",
    "5. You are allowed to submit an assignment multiple times, but only the most recent submission will be graded."
   ]
  },
  {
   "cell_type": "markdown",
   "metadata": {
    "deletable": false,
    "nbgrader": {
     "checksum": "e6092a061a0d7f28e4469fa9eeb0b965",
     "grade": false,
     "grade_id": "title",
     "locked": true,
     "solution": false
    }
   },
   "source": [
    "# Problem 1. Linear Regression Using Seaborn\n",
    "\n",
    "In this problem, we will use Seaborn to fit a linear regression model that predicts `AirTime` from `Distance`."
   ]
  },
  {
   "cell_type": "code",
   "execution_count": null,
   "metadata": {
    "collapsed": false,
    "deletable": false,
    "nbgrader": {
     "checksum": "a01b7654e3c81349a3d548a729704cd1",
     "grade": false,
     "grade_id": "import",
     "locked": true,
     "solution": false
    }
   },
   "outputs": [],
   "source": [
    "%matplotlib inline\n",
    "\n",
    "import numpy as np\n",
    "import pandas as pd\n",
    "import matplotlib as mpl\n",
    "import matplotlib.pyplot as plt\n",
    "import seaborn as sns\n",
    "\n",
    "# tools for testing\n",
    "from nose.tools import assert_equal, assert_is_instance, assert_is_not\n",
    "from numpy.testing import assert_array_equal"
   ]
  },
  {
   "cell_type": "markdown",
   "metadata": {
    "deletable": false,
    "nbgrader": {
     "checksum": "670d24248fa15645363796d9aa088551",
     "grade": false,
     "grade_id": "markdown_1",
     "locked": true,
     "solution": false
    }
   },
   "source": [
    "Suppose we are given the air times (in minutes) and distances traveled (in miles) of 20 different flights, and we want to visualize the relationship between the air time and distance by fitting a linear regression model. In the following code cell, `data` is given in the form of `pandas.DataFrame`.\n",
    "\n",
    "```python\n",
    ">>> print(data)\n",
    "```\n",
    "```\n",
    "    AirTime  Distance\n",
    "0        60       361\n",
    "1        84       569\n",
    "2        95       588\n",
    "3       182      1172\n",
    "4       337      2565\n",
    "5       119       861\n",
    "6        87       665\n",
    "7       103       787\n",
    "8        55       228\n",
    "9        47       197\n",
    "10      127       978\n",
    "11      215      1745\n",
    "12      213      1605\n",
    "13       59       373\n",
    "14       31       156\n",
    "15       57       209\n",
    "16       88       505\n",
    "17       42       224\n",
    "18       45       282\n",
    "19      102       862\n",
    "```"
   ]
  },
  {
   "cell_type": "code",
   "execution_count": null,
   "metadata": {
    "collapsed": false,
    "deletable": false,
    "nbgrader": {
     "checksum": "429df3345fcc2c4dd3733a12283cc301",
     "grade": false,
     "grade_id": "data",
     "locked": true,
     "solution": false
    }
   },
   "outputs": [],
   "source": [
    "data = pd.DataFrame(\n",
    "    {\"AirTime\": [60, 84, 95, 182, 337, 119, 87, 103, 55, 47,\n",
    "        127, 215, 213, 59, 31, 57, 88, 42, 45, 102],\n",
    "     \"Distance\": [361, 569, 588, 1172, 2565, 861, 665, 787, 228, 197,\n",
    "        978, 1745, 1605, 373, 156, 209, 505, 224, 282, 862]}\n",
    ")"
   ]
  },
  {
   "cell_type": "code",
   "execution_count": null,
   "metadata": {
    "collapsed": false,
    "deletable": false,
    "nbgrader": {
     "checksum": "6803f16a97bee00f1c4ed7dc280cc49a",
     "grade": false,
     "grade_id": "print_data",
     "locked": true,
     "solution": false
    }
   },
   "outputs": [],
   "source": [
    "print(data)"
   ]
  },
  {
   "cell_type": "markdown",
   "metadata": {
    "deletable": false,
    "nbgrader": {
     "checksum": "a65678bd054e716cc6391c0b7358343f",
     "grade": false,
     "grade_id": "markdown_2",
     "locked": true,
     "solution": false
    }
   },
   "source": [
    "## Use Seaborn to plot a linear regression model\n",
    "\n",
    "- Use [seaborn.regplot](http://stanford.edu/~mwaskom/software/seaborn/generated/seaborn.regplot.html) to write a function named `plot_seaborn_linear_regression()` that creates a scatter plot with `Distance` in the $x$-axis and `AirTime` in the $y$-axis. The function shuold also fit a linear regression model in the same plot. \n",
    "\n",
    "Here is an example plot. (You don't have to make your plot look exactly like this example. If your plot looks visually OK, and if the test code cell doesn't produce any errors, your solution is correct.)\n",
    "\n",
    "![](seaborn_linear_regression.png)\n",
    "\n",
    "Hints:\n",
    "\n",
    "- The function should return an instance of [matplotlib.Axes](http://matplotlib.org/users/artists.html) object. Note `seaborn.regplot()` returns a matplotlib Axes instance, so you can assign the return value of the `seaborn.regplot()` function to a variable named `ax` and return this variable `ax`.\n",
    "\n",
    "- You plot should also have a title and labels for the $x$ and $y$ axes. To do this, use one or more of the following: [ax.set()](http://matplotlib.org/api/axes_api.html#matplotlib.axes.Axes.set), [ax.set_title()](http://matplotlib.org/api/axes_api.html#matplotlib.axes.Axes.set_title), [ax.set_xlabel()](http://matplotlib.org/api/axes_api.html#matplotlib.axes.Axes.set_xlabel), or [ax.set_ylabel()](http://matplotlib.org/api/axes_api.html#matplotlib.axes.Axes.set_ylabel).\n",
    "\n",
    "- If you are not sure how to do this, there is an example of using `seaborn.regplot()` in the [Introduction to Regression](https://github.com/UI-DataScience/accy571-fa16/blob/master/Week5/notebooks/intro2regress.ipynb) notebook."
   ]
  },
  {
   "cell_type": "code",
   "execution_count": null,
   "metadata": {
    "collapsed": false,
    "deletable": false,
    "nbgrader": {
     "checksum": "4353828c223092250357a4551800b9d9",
     "grade": false,
     "grade_id": "plot_seaborn_linear_regression_answer",
     "locked": false,
     "solution": true
    }
   },
   "outputs": [],
   "source": [
    "def plot_seaborn_linear_regression(df):\n",
    "    \"\"\"\n",
    "    Uses Seaborn to create a scatter plot of \"AirTime\" vs \"Distance\" columns in \"df\".\n",
    "    Also fits a linear regression model in the same plot.\n",
    "    \n",
    "    Parameters\n",
    "    ----------\n",
    "    df: A pandas.DataFrame. Should have columns named \"AirTime\" and \"Distance\".\n",
    "    \n",
    "    Returns\n",
    "    -------\n",
    "    A matplotlib Axes object\n",
    "    \"\"\"\n",
    "    \n",
    "    # YOUR CODE HERE\n",
    "\n",
    "    return ax"
   ]
  },
  {
   "cell_type": "code",
   "execution_count": null,
   "metadata": {
    "collapsed": false,
    "deletable": false,
    "nbgrader": {
     "checksum": "0a9fc3debb3c649c2cd2a240a5912bcb",
     "grade": false,
     "grade_id": "plot_seaborn_linear_regression_run",
     "locked": true,
     "solution": false
    }
   },
   "outputs": [],
   "source": [
    "ax1 = plot_seaborn_linear_regression(data)"
   ]
  },
  {
   "cell_type": "code",
   "execution_count": null,
   "metadata": {
    "collapsed": false,
    "deletable": false,
    "nbgrader": {
     "checksum": "9d21f9165a6fec47d6b35847bce0557c",
     "grade": true,
     "grade_id": "plot_seaborn_linear_regression_test",
     "locked": true,
     "points": 10,
     "solution": false
    }
   },
   "outputs": [],
   "source": [
    "assert_is_instance(\n",
    "    ax1, mpl.axes.Axes,\n",
    "    msg=\"Your function should return a matplotlib.axes.Axes object.\"\n",
    ")\n",
    "assert_equal(len(ax1.lines), 1)\n",
    "assert_equal(\n",
    "    len(ax1.collections), 2,\n",
    "    msg=\"Your plot doesn't have a regression line.\"\n",
    ")\n",
    "assert_is_not(\n",
    "    len(ax1.title.get_text()), 0,\n",
    "    msg=\"Your plot doesn't have a title.\"\n",
    ")\n",
    "assert_is_not(\n",
    "    ax1.xaxis.get_label_text(), \"Distance\",\n",
    "    msg=\"Change the x-axis label to something more descriptive.\"\n",
    ")\n",
    "assert_is_not(\n",
    "    ax1.yaxis.get_label_text(), \"AirTime\",\n",
    "    msg=\"Change the y-axis label to something more descriptive.\"\n",
    ")\n",
    "    \n",
    "x, y = ax1.collections[0].get_offsets().T\n",
    "assert_array_equal(x, data[\"Distance\"].values)\n",
    "assert_array_equal(y, data[\"AirTime\"].values)\n",
    "\n",
    "# If your function can only plot the delays and\n",
    "# cannot handle other data sets, the following test will fail.\n",
    "df1 = pd.DataFrame({\n",
    "    \"AirTime\": np.random.randint(100, size=100),\n",
    "    \"Distance\": np.random.randint(100, size=100)\n",
    "    })\n",
    "ax1 = plot_seaborn_linear_regression(df1)\n",
    "\n",
    "x1data, y1data = ax1.collections[0].get_offsets().T\n",
    "assert_array_equal(x1data, df1[\"Distance\"].values)\n",
    "assert_array_equal(y1data, df1[\"AirTime\"].values)\n",
    "\n",
    "plt.close()"
   ]
  }
 ],
 "metadata": {
  "kernelspec": {
   "display_name": "Python 3",
   "language": "python",
   "name": "python3"
  },
  "language_info": {
   "codemirror_mode": {
    "name": "ipython",
    "version": 3
   },
   "file_extension": ".py",
   "mimetype": "text/x-python",
   "name": "python",
   "nbconvert_exporter": "python",
   "pygments_lexer": "ipython3",
   "version": "3.5.2"
  }
 },
 "nbformat": 4,
 "nbformat_minor": 1
}
