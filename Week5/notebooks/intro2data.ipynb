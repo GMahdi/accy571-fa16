{
 "cells": [
  {
   "cell_type": "markdown",
   "metadata": {},
   "source": [
    "<DIV ALIGN=CENTER>\n",
    "\n",
    "# Introduction to Machine Learning Pre-Processing\n",
    "## Professor Robert J. Brunner\n",
    "  \n",
    "</DIV>  \n",
    "-----\n",
    "-----"
   ]
  },
  {
   "cell_type": "markdown",
   "metadata": {},
   "source": [
    "\n",
    "## Introduction\n",
    "\n",
    "In this IPython Notebook, we explore data pre-processing. This is a\n",
    "large topic, so in this notebook we will focus on some basic concepts.\n",
    "You should feel free to try completing additional tasks. To demonstrate\n",
    "several common pre-processing steps, we will analyze the airline data\n",
    "that was used in previous courses. These data are located at\n",
    "`/home/data_scientist/data`, and we will specifically analyze the\n",
    "`2001.csv` file. We will first read in a select group of columns with a\n",
    "goal of constructing a Pandas DataFrame that has no missing data,\n",
    "employs categorical values, and has a `DateTime` index.\n",
    "\n",
    "We first set the Notebook to ignore warning, since Pandas will specify\n",
    "some warnings that are not relevant to this Notebook (for the curious,\n",
    "we are adding columns, and Pandas is concerned we are modifying values).\n",
    "\n",
    "-----"
   ]
  },
  {
   "cell_type": "code",
   "execution_count": 1,
   "metadata": {
    "collapsed": true
   },
   "outputs": [],
   "source": [
    "# We do this to ignore several specific Pandas warnings\n",
    "import warnings\n",
    "warnings.filterwarnings(\"ignore\")"
   ]
  },
  {
   "cell_type": "code",
   "execution_count": 2,
   "metadata": {
    "collapsed": false
   },
   "outputs": [],
   "source": [
    "import pandas as pd \n",
    "\n",
    "# Change this to read a different file, for example\n",
    "# /home/data_scientist/rppdm/data/2001.csv in a local Docker container.\n",
    "#\n",
    "# Note that the JupyterHub server has data from other years in the raw\n",
    "# subdirectory.\n",
    "#\n",
    "filename = '/home/data_scientist/data/2001.csv'\n",
    "\n",
    "# Read select columns for all rows.\n",
    "\n",
    "ucs = (1, 2, 4, 14, 15, 16, 17, 18)\n",
    "cnms = ['Month', 'Day', 'dTime', 'aDelay', 'dDelay', 'Depart', 'Arrive', 'Distance']\n",
    "\n",
    "alldata = pd.read_csv(filename, header=0, na_values=['NA'], \\\n",
    "                      usecols=ucs, names=cnms, nrows=2000000)\n"
   ]
  },
  {
   "cell_type": "markdown",
   "metadata": {},
   "source": [
    "-----\n",
    "\n",
    "When we first read in a DataFrame, the first task should be to explore\n",
    "the data. In this case, we will call the `describe` method, which\n",
    "provides a statistical summary of the data. As shown below, we have six\n",
    "numerical columns that have reasonable minimum and maximum values, as\n",
    "well as basic statistical summaries.\n",
    "\n",
    "-----"
   ]
  },
  {
   "cell_type": "code",
   "execution_count": 3,
   "metadata": {
    "collapsed": false
   },
   "outputs": [
    {
     "data": {
      "text/html": [
       "<div>\n",
       "<table border=\"1\" class=\"dataframe\">\n",
       "  <thead>\n",
       "    <tr style=\"text-align: right;\">\n",
       "      <th></th>\n",
       "      <th>Month</th>\n",
       "      <th>Day</th>\n",
       "      <th>dTime</th>\n",
       "      <th>aDelay</th>\n",
       "      <th>dDelay</th>\n",
       "      <th>Distance</th>\n",
       "    </tr>\n",
       "  </thead>\n",
       "  <tbody>\n",
       "    <tr>\n",
       "      <th>count</th>\n",
       "      <td>2.000000e+06</td>\n",
       "      <td>2.000000e+06</td>\n",
       "      <td>1.933957e+06</td>\n",
       "      <td>1.929781e+06</td>\n",
       "      <td>1.933957e+06</td>\n",
       "      <td>2.000000e+06</td>\n",
       "    </tr>\n",
       "    <tr>\n",
       "      <th>mean</th>\n",
       "      <td>2.461707e+00</td>\n",
       "      <td>1.552796e+01</td>\n",
       "      <td>1.356795e+03</td>\n",
       "      <td>7.077359e+00</td>\n",
       "      <td>9.123993e+00</td>\n",
       "      <td>7.207195e+02</td>\n",
       "    </tr>\n",
       "    <tr>\n",
       "      <th>std</th>\n",
       "      <td>1.113369e+00</td>\n",
       "      <td>8.696191e+00</td>\n",
       "      <td>4.885780e+02</td>\n",
       "      <td>3.241211e+01</td>\n",
       "      <td>2.941367e+01</td>\n",
       "      <td>5.692686e+02</td>\n",
       "    </tr>\n",
       "    <tr>\n",
       "      <th>min</th>\n",
       "      <td>1.000000e+00</td>\n",
       "      <td>1.000000e+00</td>\n",
       "      <td>1.000000e+00</td>\n",
       "      <td>-1.116000e+03</td>\n",
       "      <td>-2.040000e+02</td>\n",
       "      <td>2.100000e+01</td>\n",
       "    </tr>\n",
       "    <tr>\n",
       "      <th>25%</th>\n",
       "      <td>1.000000e+00</td>\n",
       "      <td>8.000000e+00</td>\n",
       "      <td>NaN</td>\n",
       "      <td>NaN</td>\n",
       "      <td>NaN</td>\n",
       "      <td>3.060000e+02</td>\n",
       "    </tr>\n",
       "    <tr>\n",
       "      <th>50%</th>\n",
       "      <td>2.000000e+00</td>\n",
       "      <td>1.600000e+01</td>\n",
       "      <td>NaN</td>\n",
       "      <td>NaN</td>\n",
       "      <td>NaN</td>\n",
       "      <td>5.510000e+02</td>\n",
       "    </tr>\n",
       "    <tr>\n",
       "      <th>75%</th>\n",
       "      <td>3.000000e+00</td>\n",
       "      <td>2.300000e+01</td>\n",
       "      <td>NaN</td>\n",
       "      <td>NaN</td>\n",
       "      <td>NaN</td>\n",
       "      <td>9.650000e+02</td>\n",
       "    </tr>\n",
       "    <tr>\n",
       "      <th>max</th>\n",
       "      <td>4.000000e+00</td>\n",
       "      <td>3.100000e+01</td>\n",
       "      <td>2.400000e+03</td>\n",
       "      <td>1.688000e+03</td>\n",
       "      <td>1.692000e+03</td>\n",
       "      <td>4.962000e+03</td>\n",
       "    </tr>\n",
       "  </tbody>\n",
       "</table>\n",
       "</div>"
      ],
      "text/plain": [
       "              Month           Day         dTime        aDelay        dDelay  \\\n",
       "count  2.000000e+06  2.000000e+06  1.933957e+06  1.929781e+06  1.933957e+06   \n",
       "mean   2.461707e+00  1.552796e+01  1.356795e+03  7.077359e+00  9.123993e+00   \n",
       "std    1.113369e+00  8.696191e+00  4.885780e+02  3.241211e+01  2.941367e+01   \n",
       "min    1.000000e+00  1.000000e+00  1.000000e+00 -1.116000e+03 -2.040000e+02   \n",
       "25%    1.000000e+00  8.000000e+00           NaN           NaN           NaN   \n",
       "50%    2.000000e+00  1.600000e+01           NaN           NaN           NaN   \n",
       "75%    3.000000e+00  2.300000e+01           NaN           NaN           NaN   \n",
       "max    4.000000e+00  3.100000e+01  2.400000e+03  1.688000e+03  1.692000e+03   \n",
       "\n",
       "           Distance  \n",
       "count  2.000000e+06  \n",
       "mean   7.207195e+02  \n",
       "std    5.692686e+02  \n",
       "min    2.100000e+01  \n",
       "25%    3.060000e+02  \n",
       "50%    5.510000e+02  \n",
       "75%    9.650000e+02  \n",
       "max    4.962000e+03  "
      ]
     },
     "execution_count": 3,
     "metadata": {},
     "output_type": "execute_result"
    }
   ],
   "source": [
    "alldata.describe()"
   ]
  },
  {
   "cell_type": "markdown",
   "metadata": {},
   "source": [
    "-----\n",
    "\n",
    "### Missing Values\n",
    "\n",
    "One issue, however, is the different number of rows for the different\n",
    "columns. In fact, there are three different values: 5967780, 5736582,\n",
    "and 5723673. Since we will not want to perform any analysis on a row\n",
    "that does not have a valid departure time (it isn't clear why we would\n",
    "be missing departure times), we will first drop any row that does not\n",
    "have a valid value in this column.\n",
    "\n",
    "-----"
   ]
  },
  {
   "cell_type": "code",
   "execution_count": 4,
   "metadata": {
    "collapsed": true
   },
   "outputs": [],
   "source": [
    "# Drop any row that is missing a departure time\n",
    "#\n",
    "# axis = 0 means drop rows\n",
    "# subset=['dTime'] means drop if the departure time is missing\n",
    "# inplace=True means modify the existing DataFrame\n",
    "\n",
    "alldata.dropna(axis=0, subset=['dTime'], inplace=True)"
   ]
  },
  {
   "cell_type": "markdown",
   "metadata": {},
   "source": [
    "-----\n",
    "\n",
    "Now we can explore the number of rows for each column by employing the\n",
    "`count` method. In this case, we see that the `aDelay` column is still\n",
    "missing some values. In this case, we can fill these missing values with\n",
    "another value. There are a number of options for accomplishing this\n",
    "task, including replacing with a default value (for example, we could\n",
    "use the departure delay), interpolation, or even imputation (where we\n",
    "might determine a mean value for flights in this distance range or from\n",
    "the departure airport). In this case, however, we can simply assume the\n",
    "arrival delay is zero for any missing value.\n",
    "\n",
    "-----"
   ]
  },
  {
   "cell_type": "code",
   "execution_count": 5,
   "metadata": {
    "collapsed": false
   },
   "outputs": [
    {
     "data": {
      "text/plain": [
       "Month       1933957\n",
       "Day         1933957\n",
       "dTime       1933957\n",
       "aDelay      1929781\n",
       "dDelay      1933957\n",
       "Depart      1933957\n",
       "Arrive      1933957\n",
       "Distance    1933957\n",
       "dtype: int64"
      ]
     },
     "execution_count": 5,
     "metadata": {},
     "output_type": "execute_result"
    }
   ],
   "source": [
    "# Now display number of 'good' values for each column.\n",
    "alldata.count()"
   ]
  },
  {
   "cell_type": "code",
   "execution_count": 6,
   "metadata": {
    "collapsed": true
   },
   "outputs": [],
   "source": [
    "# Now replace missing values (which are all in Arrival Delay column)\n",
    "# with 0, note we could use another value, such as the departure delay.\n",
    "\n",
    "alldata.fillna(value=0, axis=0, inplace=True)"
   ]
  },
  {
   "cell_type": "markdown",
   "metadata": {},
   "source": [
    "-----\n",
    "\n",
    "We now create a new DataFrame to hold our final data set. In this case,\n",
    "we start by copying over the three columns that won't change.\n",
    "\n",
    "-----"
   ]
  },
  {
   "cell_type": "code",
   "execution_count": 7,
   "metadata": {
    "collapsed": true
   },
   "outputs": [],
   "source": [
    "# First create a new DataFrame\n",
    "# For now, simply copy over the columns, but we could\n",
    "# convert them to integers (for number, the number of minutes in the delay)\n",
    "# and change data type to save memory.\n",
    "\n",
    "newdata = alldata[['aDelay', 'dDelay', 'Distance']]"
   ]
  },
  {
   "cell_type": "markdown",
   "metadata": {},
   "source": [
    "-----\n",
    "\n",
    "### Categorical Values\n",
    "\n",
    "In the original output from the `describe` method, neither the `Depart`\n",
    "nor the `Arrive` columns were shown. Since they are interpreted as\n",
    "string values, Pandas does not perform any statistical analysis of the\n",
    "value. Since there are a limited number of airports that are contained\n",
    "in our data, we can allow Pandas to map the Airport codes contained in\n",
    "the `Depart` and `Arrive` columns to numerical representations by\n",
    "employing [categorical][pdc] values. In this case, we can do this easily\n",
    "by copying these columns over to our new DataFrame, and specifying that\n",
    "they should be converted to type `categorical`.\n",
    "\n",
    "To demonstrate the set of values that we will need to map to\n",
    "categoricals, we can display all unique airport codes in the `Depart`\n",
    "column.\n",
    "\n",
    "-----\n",
    "[pdc]: http://pandas.pydata.org/pandas-docs/stable/categorical.html"
   ]
  },
  {
   "cell_type": "code",
   "execution_count": 8,
   "metadata": {
    "collapsed": false
   },
   "outputs": [
    {
     "data": {
      "text/plain": [
       "array(['BWI', 'PHL', 'CLT', 'CLE', 'MKE', 'PIT', 'TPA', 'LGA', 'DFW',\n",
       "       'BUF', 'BOS', 'ROC', 'DCA', 'MHT', 'CRW', 'MEM', 'DTW', 'CMH',\n",
       "       'GSO', 'IAD', 'IAH', 'BHM', 'HPN', 'CHS', 'STL', 'AVP', 'ATL',\n",
       "       'GSP', 'RDU', 'MCI', 'ORF', 'MYR', 'ALB', 'RIC', 'BNA', 'PVD',\n",
       "       'BGM', 'TOL', 'SAV', 'ROA', 'IND', 'MDT', 'BTV', 'ELM', 'ITH',\n",
       "       'JAX', 'PBI', 'SRQ', 'MSY', 'FLL', 'EWR', 'GRR', 'MSP', 'ORD',\n",
       "       'ABE', 'LAS', 'BDL', 'MIA', 'MCO', 'CAE', 'ILM', 'SFO', 'SJU',\n",
       "       'SDF', 'RSW', 'DAY', 'SYR', 'PNS', 'AVL', 'CAK', 'SBN', 'ERI',\n",
       "       'HSV', 'CHA', 'SEA', 'TYS', 'FAY', 'LEX', 'STT', 'PWM', 'TRI',\n",
       "       'STX', 'MDW', 'DAL', 'HOU', 'OKC', 'HRL', 'LIT', 'CRP', 'TUL',\n",
       "       'LBB', 'MAF', 'ABQ', 'AMA', 'PHX', 'SAN', 'SMF', 'ISP', 'LAX',\n",
       "       'AUS', 'PDX', 'ELP', 'OAK', 'ONT', 'SJC', 'JAN', 'RNO', 'BOI',\n",
       "       'TUS', 'BUR', 'SAT', 'SLC', 'GEG', 'OMA', 'SNA', 'MSN', 'MBS',\n",
       "       'FAR', 'ICT', 'GPT', 'VPS', 'DEN', 'TVC', 'FNT', 'GRB', 'GFK',\n",
       "       'MOT', 'BIS', 'AZO', 'LAN', 'BZN', 'FCA', 'DLH', 'DSM', 'FSD',\n",
       "       'FWA', 'GTF', 'CVG', 'SUX', 'RAP', 'LSE', 'ANC', 'HNL', 'RST',\n",
       "       'BIL', 'BTR', 'EGE', 'MSO', 'JFK', 'COS', 'PSP', 'HDN', 'OGG',\n",
       "       'SGF', 'MFE', 'LNK', 'CID', 'MLI', 'KOA', 'LIH', 'JAC', 'EUG',\n",
       "       'GUC', 'MFR', 'SBA', 'MOB', 'DAB', 'MLU', 'SHV', 'MLB', 'TLH',\n",
       "       'PSC', 'FAI', 'HLN', 'LGB', 'BFL', 'FAT', 'SBP', 'MRY', 'ABI',\n",
       "       'XNA', 'TXK', 'FSM', 'ACT', 'LFT', 'LRD', 'SPS', 'GGG', 'BPT',\n",
       "       'ILE', 'LAW', 'SJT', 'CLL', 'TYR', 'PIA', 'BMI', 'EVV', 'CMI',\n",
       "       'DBQ', 'BGR', 'ORH', 'APF', 'EYW', 'SWF', 'MTJ', 'DRO', 'ITO',\n",
       "       'DUT', 'ADQ', 'BET', 'OME', 'OTZ', 'SCC', 'JNU', 'KTN', 'CDV',\n",
       "       'YAK', 'SIT', 'PSG', 'WRG', 'BRW', 'BQN', 'BRO', 'MQT', 'ACY',\n",
       "       'AKN', 'DLG'], dtype=object)"
      ]
     },
     "execution_count": 8,
     "metadata": {},
     "output_type": "execute_result"
    }
   ],
   "source": [
    "alldata['Depart'].unique()"
   ]
  },
  {
   "cell_type": "code",
   "execution_count": 9,
   "metadata": {
    "collapsed": false
   },
   "outputs": [],
   "source": [
    "# Now copy over the departure and Arrival columns, \n",
    "# but change data type to categoricals. \n",
    "\n",
    "newdata['Depart'] = alldata['Depart'].astype('category')\n",
    "newdata['Arrive'] = alldata['Arrive'].astype('category')"
   ]
  },
  {
   "cell_type": "markdown",
   "metadata": {},
   "source": [
    "-----\n",
    "\n",
    "### DateTime\n",
    "\n",
    "Lastly, we do not have a proper Date column nor any easily method for\n",
    "handling times (such as Departure Time). Pandas has strong support for\n",
    "[dates and times][pdt]. For our particular task, we can create a new\n",
    "`DateTime` column. While it is generally easier to create a `DateTime`\n",
    "column when reading a CSV file, it is not easy to account for missing\n",
    "values during this process. In that case, one could read in the data,\n",
    "clean missing values, and write the data back to a CSV (or other format)\n",
    "file to enable the traditional data parsing to be performed.\n",
    "\n",
    "In this case, however, we will instead create several new columns from\n",
    "the original data set, and use these new columns to create a `DateTime`\n",
    "column. First, we create a new `Year` column, which in this case we hard\n",
    "code to `2001`, which is the year corresponding to these data. Second,\n",
    "we copy over the `Month` and `Day` columns. Finally, we convert the\n",
    "encoded departure time column to an `Hour` and `Min`. Before any new\n",
    "processing, we first display the last few rows of our new DataFrame\n",
    "before computing summary statistics for the new DataFrame to verify our\n",
    "work.\n",
    "\n",
    "-----\n",
    "\n",
    "[pdt]: http://pandas.pydata.org/pandas-docs/stable/timeseries.html"
   ]
  },
  {
   "cell_type": "code",
   "execution_count": 10,
   "metadata": {
    "collapsed": false
   },
   "outputs": [],
   "source": [
    "newdata['Year'] = 2001\n",
    "newdata['Month'] = alldata.Month\n",
    "newdata['Day'] = alldata.Day\n",
    "newdata['Hour'] = (alldata.dTime/100.).astype(int)\n",
    "newdata['Min'] = (alldata.dTime - 100*(alldata.dTime/100.).astype(int)).astype(int)"
   ]
  },
  {
   "cell_type": "code",
   "execution_count": 11,
   "metadata": {
    "collapsed": false
   },
   "outputs": [
    {
     "data": {
      "text/html": [
       "<div>\n",
       "<table border=\"1\" class=\"dataframe\">\n",
       "  <thead>\n",
       "    <tr style=\"text-align: right;\">\n",
       "      <th></th>\n",
       "      <th>aDelay</th>\n",
       "      <th>dDelay</th>\n",
       "      <th>Distance</th>\n",
       "      <th>Depart</th>\n",
       "      <th>Arrive</th>\n",
       "      <th>Year</th>\n",
       "      <th>Month</th>\n",
       "      <th>Day</th>\n",
       "      <th>Hour</th>\n",
       "      <th>Min</th>\n",
       "    </tr>\n",
       "  </thead>\n",
       "  <tbody>\n",
       "    <tr>\n",
       "      <th>1999995</th>\n",
       "      <td>59.0</td>\n",
       "      <td>56.0</td>\n",
       "      <td>956</td>\n",
       "      <td>ONT</td>\n",
       "      <td>SEA</td>\n",
       "      <td>2001</td>\n",
       "      <td>4</td>\n",
       "      <td>30</td>\n",
       "      <td>12</td>\n",
       "      <td>25</td>\n",
       "    </tr>\n",
       "    <tr>\n",
       "      <th>1999996</th>\n",
       "      <td>3.0</td>\n",
       "      <td>0.0</td>\n",
       "      <td>224</td>\n",
       "      <td>GEG</td>\n",
       "      <td>SEA</td>\n",
       "      <td>2001</td>\n",
       "      <td>4</td>\n",
       "      <td>1</td>\n",
       "      <td>11</td>\n",
       "      <td>30</td>\n",
       "    </tr>\n",
       "    <tr>\n",
       "      <th>1999997</th>\n",
       "      <td>0.0</td>\n",
       "      <td>5.0</td>\n",
       "      <td>224</td>\n",
       "      <td>GEG</td>\n",
       "      <td>SEA</td>\n",
       "      <td>2001</td>\n",
       "      <td>4</td>\n",
       "      <td>7</td>\n",
       "      <td>11</td>\n",
       "      <td>35</td>\n",
       "    </tr>\n",
       "    <tr>\n",
       "      <th>1999998</th>\n",
       "      <td>-6.0</td>\n",
       "      <td>0.0</td>\n",
       "      <td>224</td>\n",
       "      <td>GEG</td>\n",
       "      <td>SEA</td>\n",
       "      <td>2001</td>\n",
       "      <td>4</td>\n",
       "      <td>8</td>\n",
       "      <td>11</td>\n",
       "      <td>30</td>\n",
       "    </tr>\n",
       "    <tr>\n",
       "      <th>1999999</th>\n",
       "      <td>3.0</td>\n",
       "      <td>0.0</td>\n",
       "      <td>224</td>\n",
       "      <td>GEG</td>\n",
       "      <td>SEA</td>\n",
       "      <td>2001</td>\n",
       "      <td>4</td>\n",
       "      <td>14</td>\n",
       "      <td>11</td>\n",
       "      <td>30</td>\n",
       "    </tr>\n",
       "  </tbody>\n",
       "</table>\n",
       "</div>"
      ],
      "text/plain": [
       "         aDelay  dDelay  Distance Depart Arrive  Year  Month  Day  Hour  Min\n",
       "1999995    59.0    56.0       956    ONT    SEA  2001      4   30    12   25\n",
       "1999996     3.0     0.0       224    GEG    SEA  2001      4    1    11   30\n",
       "1999997     0.0     5.0       224    GEG    SEA  2001      4    7    11   35\n",
       "1999998    -6.0     0.0       224    GEG    SEA  2001      4    8    11   30\n",
       "1999999     3.0     0.0       224    GEG    SEA  2001      4   14    11   30"
      ]
     },
     "execution_count": 11,
     "metadata": {},
     "output_type": "execute_result"
    }
   ],
   "source": [
    "newdata.tail()"
   ]
  },
  {
   "cell_type": "code",
   "execution_count": 12,
   "metadata": {
    "collapsed": false
   },
   "outputs": [
    {
     "data": {
      "text/html": [
       "<div>\n",
       "<table border=\"1\" class=\"dataframe\">\n",
       "  <thead>\n",
       "    <tr style=\"text-align: right;\">\n",
       "      <th></th>\n",
       "      <th>aDelay</th>\n",
       "      <th>dDelay</th>\n",
       "      <th>Distance</th>\n",
       "      <th>Year</th>\n",
       "      <th>Month</th>\n",
       "      <th>Day</th>\n",
       "      <th>Hour</th>\n",
       "      <th>Min</th>\n",
       "    </tr>\n",
       "  </thead>\n",
       "  <tbody>\n",
       "    <tr>\n",
       "      <th>count</th>\n",
       "      <td>1.933957e+06</td>\n",
       "      <td>1.933957e+06</td>\n",
       "      <td>1.933957e+06</td>\n",
       "      <td>1933957.0</td>\n",
       "      <td>1.933957e+06</td>\n",
       "      <td>1.933957e+06</td>\n",
       "      <td>1.933957e+06</td>\n",
       "      <td>1.933957e+06</td>\n",
       "    </tr>\n",
       "    <tr>\n",
       "      <th>mean</th>\n",
       "      <td>7.062077e+00</td>\n",
       "      <td>9.123993e+00</td>\n",
       "      <td>7.229486e+02</td>\n",
       "      <td>2001.0</td>\n",
       "      <td>2.467318e+00</td>\n",
       "      <td>1.556580e+01</td>\n",
       "      <td>1.327227e+01</td>\n",
       "      <td>2.956806e+01</td>\n",
       "    </tr>\n",
       "    <tr>\n",
       "      <th>std</th>\n",
       "      <td>3.237876e+01</td>\n",
       "      <td>2.941367e+01</td>\n",
       "      <td>5.698908e+02</td>\n",
       "      <td>0.0</td>\n",
       "      <td>1.114480e+00</td>\n",
       "      <td>8.692367e+00</td>\n",
       "      <td>4.888371e+00</td>\n",
       "      <td>1.780836e+01</td>\n",
       "    </tr>\n",
       "    <tr>\n",
       "      <th>min</th>\n",
       "      <td>-1.116000e+03</td>\n",
       "      <td>-2.040000e+02</td>\n",
       "      <td>2.100000e+01</td>\n",
       "      <td>2001.0</td>\n",
       "      <td>1.000000e+00</td>\n",
       "      <td>1.000000e+00</td>\n",
       "      <td>0.000000e+00</td>\n",
       "      <td>0.000000e+00</td>\n",
       "    </tr>\n",
       "    <tr>\n",
       "      <th>25%</th>\n",
       "      <td>-9.000000e+00</td>\n",
       "      <td>-3.000000e+00</td>\n",
       "      <td>3.080000e+02</td>\n",
       "      <td>2001.0</td>\n",
       "      <td>1.000000e+00</td>\n",
       "      <td>8.000000e+00</td>\n",
       "      <td>9.000000e+00</td>\n",
       "      <td>1.400000e+01</td>\n",
       "    </tr>\n",
       "    <tr>\n",
       "      <th>50%</th>\n",
       "      <td>0.000000e+00</td>\n",
       "      <td>0.000000e+00</td>\n",
       "      <td>5.540000e+02</td>\n",
       "      <td>2001.0</td>\n",
       "      <td>2.000000e+00</td>\n",
       "      <td>1.600000e+01</td>\n",
       "      <td>1.300000e+01</td>\n",
       "      <td>3.000000e+01</td>\n",
       "    </tr>\n",
       "    <tr>\n",
       "      <th>75%</th>\n",
       "      <td>1.200000e+01</td>\n",
       "      <td>8.000000e+00</td>\n",
       "      <td>9.670000e+02</td>\n",
       "      <td>2001.0</td>\n",
       "      <td>3.000000e+00</td>\n",
       "      <td>2.300000e+01</td>\n",
       "      <td>1.700000e+01</td>\n",
       "      <td>4.500000e+01</td>\n",
       "    </tr>\n",
       "    <tr>\n",
       "      <th>max</th>\n",
       "      <td>1.688000e+03</td>\n",
       "      <td>1.692000e+03</td>\n",
       "      <td>4.962000e+03</td>\n",
       "      <td>2001.0</td>\n",
       "      <td>4.000000e+00</td>\n",
       "      <td>3.100000e+01</td>\n",
       "      <td>2.400000e+01</td>\n",
       "      <td>5.900000e+01</td>\n",
       "    </tr>\n",
       "  </tbody>\n",
       "</table>\n",
       "</div>"
      ],
      "text/plain": [
       "             aDelay        dDelay      Distance       Year         Month  \\\n",
       "count  1.933957e+06  1.933957e+06  1.933957e+06  1933957.0  1.933957e+06   \n",
       "mean   7.062077e+00  9.123993e+00  7.229486e+02     2001.0  2.467318e+00   \n",
       "std    3.237876e+01  2.941367e+01  5.698908e+02        0.0  1.114480e+00   \n",
       "min   -1.116000e+03 -2.040000e+02  2.100000e+01     2001.0  1.000000e+00   \n",
       "25%   -9.000000e+00 -3.000000e+00  3.080000e+02     2001.0  1.000000e+00   \n",
       "50%    0.000000e+00  0.000000e+00  5.540000e+02     2001.0  2.000000e+00   \n",
       "75%    1.200000e+01  8.000000e+00  9.670000e+02     2001.0  3.000000e+00   \n",
       "max    1.688000e+03  1.692000e+03  4.962000e+03     2001.0  4.000000e+00   \n",
       "\n",
       "                Day          Hour           Min  \n",
       "count  1.933957e+06  1.933957e+06  1.933957e+06  \n",
       "mean   1.556580e+01  1.327227e+01  2.956806e+01  \n",
       "std    8.692367e+00  4.888371e+00  1.780836e+01  \n",
       "min    1.000000e+00  0.000000e+00  0.000000e+00  \n",
       "25%    8.000000e+00  9.000000e+00  1.400000e+01  \n",
       "50%    1.600000e+01  1.300000e+01  3.000000e+01  \n",
       "75%    2.300000e+01  1.700000e+01  4.500000e+01  \n",
       "max    3.100000e+01  2.400000e+01  5.900000e+01  "
      ]
     },
     "execution_count": 12,
     "metadata": {},
     "output_type": "execute_result"
    }
   ],
   "source": [
    "newdata.describe()"
   ]
  },
  {
   "cell_type": "markdown",
   "metadata": {},
   "source": [
    "----\n",
    "\n",
    "Now we can turn our attention to creating a `DateTime` column in our new\n",
    "DataFrame. However, in the output of the `describe` method, you should\n",
    "notice that the `Hour` column has a maximum of 24 hours. Our method of\n",
    "creating a `DateTime` value employs the Python [`strftime`][pst] string\n",
    "date/time representation. This representation does not allow values\n",
    "higher than 23 for an hour, hence we have to modify our data. For this\n",
    "demonstration, we will simply subtract one minute. In a production\n",
    "system, you might instead convert the `DateTime` to the next day.\n",
    "\n",
    "Once these columns have been modified appropriately, we create a\n",
    "DateTime by using the `to_datetime` method. We first combine our date\n",
    "and time DataFrame columns into a new string value, and specify the\n",
    "appropriate format string to decode these values. After creating this\n",
    "new column, we indicate that it should be used as the index for the new\n",
    "DateFrame. Finally, we display the last few rows of the new DataFrame to\n",
    "show the values.\n",
    "\n",
    "-----\n",
    "[pst]: http://strftime.org"
   ]
  },
  {
   "cell_type": "code",
   "execution_count": 13,
   "metadata": {
    "collapsed": false
   },
   "outputs": [],
   "source": [
    "newdata.loc[newdata.Hour == 24, 'Min'] = 59\n",
    "newdata.loc[newdata.Hour == 24, 'Hour'] = 23"
   ]
  },
  {
   "cell_type": "code",
   "execution_count": 14,
   "metadata": {
    "collapsed": false
   },
   "outputs": [],
   "source": [
    "newdata['DTI'] = pd.to_datetime(newdata.Year * 100000000 + \n",
    "                                newdata.Month * 1000000 + \n",
    "                                newdata.Day * 10000 + \n",
    "                                newdata.Hour * 100 + \n",
    "                                newdata.Min, format=\"%Y%m%d%H%M\")"
   ]
  },
  {
   "cell_type": "code",
   "execution_count": 15,
   "metadata": {
    "collapsed": false
   },
   "outputs": [],
   "source": [
    "newdata.set_index('DTI', inplace=True)"
   ]
  },
  {
   "cell_type": "code",
   "execution_count": 16,
   "metadata": {
    "collapsed": false
   },
   "outputs": [
    {
     "data": {
      "text/html": [
       "<div>\n",
       "<table border=\"1\" class=\"dataframe\">\n",
       "  <thead>\n",
       "    <tr style=\"text-align: right;\">\n",
       "      <th></th>\n",
       "      <th>aDelay</th>\n",
       "      <th>dDelay</th>\n",
       "      <th>Distance</th>\n",
       "      <th>Depart</th>\n",
       "      <th>Arrive</th>\n",
       "      <th>Year</th>\n",
       "      <th>Month</th>\n",
       "      <th>Day</th>\n",
       "      <th>Hour</th>\n",
       "      <th>Min</th>\n",
       "    </tr>\n",
       "    <tr>\n",
       "      <th>DTI</th>\n",
       "      <th></th>\n",
       "      <th></th>\n",
       "      <th></th>\n",
       "      <th></th>\n",
       "      <th></th>\n",
       "      <th></th>\n",
       "      <th></th>\n",
       "      <th></th>\n",
       "      <th></th>\n",
       "      <th></th>\n",
       "    </tr>\n",
       "  </thead>\n",
       "  <tbody>\n",
       "    <tr>\n",
       "      <th>2001-04-30 12:25:00</th>\n",
       "      <td>59.0</td>\n",
       "      <td>56.0</td>\n",
       "      <td>956</td>\n",
       "      <td>ONT</td>\n",
       "      <td>SEA</td>\n",
       "      <td>2001</td>\n",
       "      <td>4</td>\n",
       "      <td>30</td>\n",
       "      <td>12</td>\n",
       "      <td>25</td>\n",
       "    </tr>\n",
       "    <tr>\n",
       "      <th>2001-04-01 11:30:00</th>\n",
       "      <td>3.0</td>\n",
       "      <td>0.0</td>\n",
       "      <td>224</td>\n",
       "      <td>GEG</td>\n",
       "      <td>SEA</td>\n",
       "      <td>2001</td>\n",
       "      <td>4</td>\n",
       "      <td>1</td>\n",
       "      <td>11</td>\n",
       "      <td>30</td>\n",
       "    </tr>\n",
       "    <tr>\n",
       "      <th>2001-04-07 11:35:00</th>\n",
       "      <td>0.0</td>\n",
       "      <td>5.0</td>\n",
       "      <td>224</td>\n",
       "      <td>GEG</td>\n",
       "      <td>SEA</td>\n",
       "      <td>2001</td>\n",
       "      <td>4</td>\n",
       "      <td>7</td>\n",
       "      <td>11</td>\n",
       "      <td>35</td>\n",
       "    </tr>\n",
       "    <tr>\n",
       "      <th>2001-04-08 11:30:00</th>\n",
       "      <td>-6.0</td>\n",
       "      <td>0.0</td>\n",
       "      <td>224</td>\n",
       "      <td>GEG</td>\n",
       "      <td>SEA</td>\n",
       "      <td>2001</td>\n",
       "      <td>4</td>\n",
       "      <td>8</td>\n",
       "      <td>11</td>\n",
       "      <td>30</td>\n",
       "    </tr>\n",
       "    <tr>\n",
       "      <th>2001-04-14 11:30:00</th>\n",
       "      <td>3.0</td>\n",
       "      <td>0.0</td>\n",
       "      <td>224</td>\n",
       "      <td>GEG</td>\n",
       "      <td>SEA</td>\n",
       "      <td>2001</td>\n",
       "      <td>4</td>\n",
       "      <td>14</td>\n",
       "      <td>11</td>\n",
       "      <td>30</td>\n",
       "    </tr>\n",
       "  </tbody>\n",
       "</table>\n",
       "</div>"
      ],
      "text/plain": [
       "                     aDelay  dDelay  Distance Depart Arrive  Year  Month  Day  \\\n",
       "DTI                                                                             \n",
       "2001-04-30 12:25:00    59.0    56.0       956    ONT    SEA  2001      4   30   \n",
       "2001-04-01 11:30:00     3.0     0.0       224    GEG    SEA  2001      4    1   \n",
       "2001-04-07 11:35:00     0.0     5.0       224    GEG    SEA  2001      4    7   \n",
       "2001-04-08 11:30:00    -6.0     0.0       224    GEG    SEA  2001      4    8   \n",
       "2001-04-14 11:30:00     3.0     0.0       224    GEG    SEA  2001      4   14   \n",
       "\n",
       "                     Hour  Min  \n",
       "DTI                             \n",
       "2001-04-30 12:25:00    12   25  \n",
       "2001-04-01 11:30:00    11   30  \n",
       "2001-04-07 11:35:00    11   35  \n",
       "2001-04-08 11:30:00    11   30  \n",
       "2001-04-14 11:30:00    11   30  "
      ]
     },
     "execution_count": 16,
     "metadata": {},
     "output_type": "execute_result"
    }
   ],
   "source": [
    "newdata.tail()"
   ]
  },
  {
   "cell_type": "markdown",
   "metadata": {},
   "source": [
    "-----\n",
    "\n",
    "At this point we have a DataFrame that contains a DateTime Index, no\n",
    "missing values, and has the airport codes represented by categoricals.\n",
    "We could save this data for latter analysis, or being applying learning\n",
    "algorithms.\n",
    "\n",
    "-----"
   ]
  }
 ],
 "metadata": {
  "kernelspec": {
   "display_name": "Python 3",
   "language": "python",
   "name": "python3"
  },
  "language_info": {
   "codemirror_mode": {
    "name": "ipython",
    "version": 3
   },
   "file_extension": ".py",
   "mimetype": "text/x-python",
   "name": "python",
   "nbconvert_exporter": "python",
   "pygments_lexer": "ipython3",
   "version": "3.5.2"
  }
 },
 "nbformat": 4,
 "nbformat_minor": 0
}
